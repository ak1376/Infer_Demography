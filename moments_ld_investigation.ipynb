{
 "cells": [
  {
   "cell_type": "markdown",
   "id": "06da8a98",
   "metadata": {},
   "source": [
    "# Looking at the mechanics of Moments-LD"
   ]
  },
  {
   "cell_type": "code",
   "execution_count": 8,
   "id": "d873dbe3",
   "metadata": {},
   "outputs": [
    {
     "data": {
      "text/plain": [
       "LDstats([[1.38888889e-07 1.11111111e-07 3.05555556e-07]\n",
       " [8.59375000e-08 6.25000000e-08 2.81250000e-07]\n",
       " [2.01612903e-08 8.06451613e-09 2.54032258e-07]], [0.001], num_pops=1, pop_ids=None)"
      ]
     },
     "execution_count": 8,
     "metadata": {},
     "output_type": "execute_result"
    }
   ],
   "source": [
    "import moments, moments.LD\n",
    "theta = 0.001 # the mutation rate 4*Ne*u\n",
    "rho = [0, 1, 10] # recombination rates 4*Ne*r between loci\n",
    "y = moments.LD.Demographics1D.snm(rho=rho, theta=theta) # steady-state expectations\n",
    "y"
   ]
  },
  {
   "cell_type": "code",
   "execution_count": 6,
   "id": "077b31ac",
   "metadata": {},
   "outputs": [
    {
     "data": {
      "text/plain": [
       "array([1.38888889e-07, 1.11111111e-07, 3.05555556e-07])"
      ]
     },
     "execution_count": 6,
     "metadata": {},
     "output_type": "execute_result"
    }
   ],
   "source": [
    "y[0]"
   ]
  },
  {
   "cell_type": "code",
   "execution_count": 3,
   "id": "cf4c99b7",
   "metadata": {},
   "outputs": [
    {
     "data": {
      "text/plain": [
       "array([8.59375e-08, 6.25000e-08, 2.81250e-07])"
      ]
     },
     "execution_count": 3,
     "metadata": {},
     "output_type": "execute_result"
    }
   ],
   "source": [
    "y[1]"
   ]
  },
  {
   "cell_type": "code",
   "execution_count": 4,
   "id": "f60394db",
   "metadata": {},
   "outputs": [
    {
     "data": {
      "text/plain": [
       "array([2.01612903e-08, 8.06451613e-09, 2.54032258e-07])"
      ]
     },
     "execution_count": 4,
     "metadata": {},
     "output_type": "execute_result"
    }
   ],
   "source": [
    "y[2]"
   ]
  },
  {
   "cell_type": "code",
   "execution_count": null,
   "id": "91d945d3",
   "metadata": {},
   "outputs": [],
   "source": []
  }
 ],
 "metadata": {
  "kernelspec": {
   "display_name": "snakemake-env",
   "language": "python",
   "name": "python3"
  },
  "language_info": {
   "codemirror_mode": {
    "name": "ipython",
    "version": 3
   },
   "file_extension": ".py",
   "mimetype": "text/x-python",
   "name": "python",
   "nbconvert_exporter": "python",
   "pygments_lexer": "ipython3",
   "version": "3.12.5"
  }
 },
 "nbformat": 4,
 "nbformat_minor": 5
}
