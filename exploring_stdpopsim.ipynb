{
 "cells": [
  {
   "cell_type": "markdown",
   "id": "4b226938",
   "metadata": {},
   "source": [
    "# Exploring Stdpopsim Models"
   ]
  },
  {
   "cell_type": "code",
   "execution_count": 1,
   "id": "5732ae4c",
   "metadata": {},
   "outputs": [],
   "source": [
    "import stdpopsim\n",
    "species = stdpopsim.get_species(\"HomSap\")"
   ]
  },
  {
   "cell_type": "markdown",
   "id": "b68de616",
   "metadata": {},
   "source": [
    "I want to add my own demographic model using demesgraph. First let's do it for the neutral case"
   ]
  },
  {
   "cell_type": "code",
   "execution_count": 2,
   "id": "4b741c2f",
   "metadata": {},
   "outputs": [],
   "source": [
    "NA = 10000\n",
    "N1 = 5000\n",
    "N2 = 5000\n",
    "T = 2000\n",
    "M12 = 1e-3\n",
    "M21 = 1e-5\n",
    "\n",
    "model1 = stdpopsim.IsolationWithMigration(NA, N1, N2, T, M12, M21)\n"
   ]
  },
  {
   "cell_type": "code",
   "execution_count": 12,
   "id": "a58df0a0",
   "metadata": {},
   "outputs": [
    {
     "data": {
      "text/plain": [
       "[Population(initial_size=5000, growth_rate=0, name='pop1', description='', extra_metadata={}, default_sampling_time=None, initially_active=None, id=0),\n",
       " Population(initial_size=5000, growth_rate=0, name='pop2', description='', extra_metadata={}, default_sampling_time=None, initially_active=None, id=1),\n",
       " Population(initial_size=10000, growth_rate=0, name='ancestral', description='', extra_metadata={}, default_sampling_time=2000, initially_active=False, id=2)]"
      ]
     },
     "execution_count": 12,
     "metadata": {},
     "output_type": "execute_result"
    }
   ],
   "source": [
    "model1.populations"
   ]
  },
  {
   "cell_type": "code",
   "execution_count": 3,
   "id": "1e9cfa51",
   "metadata": {},
   "outputs": [
    {
     "name": "stdout",
     "output_type": "stream",
     "text": [
      "1000000.0\n",
      "1.2820402396300886e-08\n",
      "1.29e-08\n"
     ]
    }
   ],
   "source": [
    "contig = species.get_contig(length=1e6)\n",
    "print(contig.recombination_map.sequence_length)\n",
    "# 1000000.0\n",
    "print(contig.recombination_map.mean_rate)\n",
    "# 1.2820402396300886e-08\n",
    "print(contig.mutation_rate)\n",
    "# 1.29e-8"
   ]
  },
  {
   "cell_type": "code",
   "execution_count": 5,
   "id": "99cfca93",
   "metadata": {},
   "outputs": [],
   "source": [
    "dfe = species.get_dfe(\"Gamma_K17\")  # built-in DFE from Kim et al. (2017)\n"
   ]
  },
  {
   "cell_type": "code",
   "execution_count": 6,
   "id": "b4eda6bc",
   "metadata": {},
   "outputs": [
    {
     "data": {
      "text/plain": [
       "DFE(id='Gamma_K17', description='Deleterious Gamma DFE', long_description=\"\\n    Deleterious, gamma-distributed DFE estimated using 'Fit∂a∂i' from the nonsynonymous\\n    SFS in exons from a dataset of European humans by Kim et al. (2017).\\n    \", mutation_types=[MutationType(dominance_coeff=0.5, distribution_type='f', distribution_args=[0], convert_to_substitution=True, dominance_coeff_list=None, dominance_coeff_breaks=None), MutationType(dominance_coeff=0.5, distribution_type='g', distribution_args=[-0.013148327678138633, 0.186], convert_to_substitution=True, dominance_coeff_list=None, dominance_coeff_breaks=None)], proportions=[0.3, 0.7], citations=[Citation(doi='https://doi.org/10.1534/genetics.116.197145', author='Kim et al.', year=2017, reasons={'distribution of fitness effects'})], qc_dfe=DFE(id='Kim2017_gamma_dfe', description='Kim2017_gamma_dfe', long_description='Kim2017_gamma_dfe', mutation_types=[MutationType(dominance_coeff=0.5, distribution_type='f', distribution_args=[0], convert_to_substitution=True, dominance_coeff_list=None, dominance_coeff_breaks=None), MutationType(dominance_coeff=0.5, distribution_type='g', distribution_args=[-0.013148327678138633, 0.186], convert_to_substitution=True, dominance_coeff_list=None, dominance_coeff_breaks=None)], proportions=[0.3, 0.7], citations=[], qc_dfe=None))"
      ]
     },
     "execution_count": 6,
     "metadata": {},
     "output_type": "execute_result"
    }
   ],
   "source": [
    "dfe"
   ]
  },
  {
   "cell_type": "markdown",
   "id": "a6acce5a",
   "metadata": {},
   "source": [
    "## Neutral Case"
   ]
  },
  {
   "cell_type": "code",
   "execution_count": 34,
   "id": "316cdff1",
   "metadata": {},
   "outputs": [
    {
     "name": "stdout",
     "output_type": "stream",
     "text": [
      "seq len: 46709983.0\n",
      "mean r: 1.724434082825555e-08\n",
      "mu: 1.29e-08\n",
      "#sites: 1983\n"
     ]
    }
   ],
   "source": [
    "import demes\n",
    "import msprime\n",
    "import stdpopsim as sps\n",
    "\n",
    "def im_graph(NA, N1, N2, T, M12, M21, anc=\"ANC\", p1=\"YRI\", p2=\"CEU\"):\n",
    "    b = demes.Builder()\n",
    "    b.add_deme(anc, epochs=[dict(start_size=NA, end_time=T)])\n",
    "    b.add_deme(p1, ancestors=[anc], epochs=[dict(start_size=N1)])\n",
    "    b.add_deme(p2, ancestors=[anc], epochs=[dict(start_size=N2)])\n",
    "    if M12 > 0: b.add_migration(source=p1, dest=p2, rate=M12)\n",
    "    if M21 > 0: b.add_migration(source=p2, dest=p1, rate=M21)\n",
    "    return b.resolve()\n",
    "\n",
    "# ---- Your demography (generations ago) ----\n",
    "NA, N1, N2, T = 10_000, 5_000, 5_000, 2_000\n",
    "M12, M21 = 1e-3, 1e-5\n",
    "g = im_graph(NA, N1, N2, T, M12, M21, p1=\"YRI\", p2=\"CEU\")\n",
    "demog = msprime.Demography.from_demes(g)\n",
    "\n",
    "# ---- Real human chromosome window (recomb map + μ from stdpopsim) ----\n",
    "sp = sps.get_species(\"HomSap\")\n",
    "# 1 Mb window on chr19 (adjust left/right as you like)\n",
    "contig = sp.get_contig(chromosome=\"chr21\", left=0, right=1e6)\n",
    "\n",
    "# ---- Neutral simulation ----\n",
    "samples = {\"YRI\": 10, \"CEU\": 10}\n",
    "ts_neutral = msprime.sim_ancestry(\n",
    "    samples=samples,\n",
    "    demography=demog,\n",
    "    recombination_rate=contig.recombination_map,            # empirical human map for that window\n",
    "    sequence_length=contig.recombination_map.sequence_length,\n",
    "    random_seed=42,\n",
    ")\n",
    "ts_neutral = msprime.sim_mutations(ts_neutral, rate=contig.mutation_rate, random_seed=42)\n",
    "\n",
    "print(\"seq len:\", ts_neutral.sequence_length)\n",
    "print(\"mean r:\", contig.recombination_map.mean_rate)\n",
    "print(\"mu:\", contig.mutation_rate)\n",
    "print(\"#sites:\", ts_neutral.num_sites)\n"
   ]
  },
  {
   "cell_type": "code",
   "execution_count": 35,
   "id": "bfffa5e5",
   "metadata": {},
   "outputs": [
    {
     "data": {
      "text/plain": [
       "Text(0, 0.5, 'N')"
      ]
     },
     "execution_count": 35,
     "metadata": {},
     "output_type": "execute_result"
    },
    {
     "data": {
      "image/png": "[encoded data removed]",
      "text/plain": [
       "<Figure size 853.333x480 with 1 Axes>"
      ]
     },
     "metadata": {},
     "output_type": "display_data"
    }
   ],
   "source": [
    "import demesdraw\n",
    "\n",
    "ax = demesdraw.tubes(g) #TODO: Change from bottleneck model to the model_type\n",
    "ax.set_xlabel(\"Time (generations)\")\n",
    "ax.set_ylabel(\"N\")"
   ]
  },
  {
   "cell_type": "markdown",
   "id": "e74b54a2",
   "metadata": {},
   "source": [
    "## Background Selection (BGS) Case"
   ]
  },
  {
   "cell_type": "code",
   "execution_count": 2,
   "id": "2008edcb",
   "metadata": {},
   "outputs": [],
   "source": [
    "from stdpopsim import DemographicModel"
   ]
  },
  {
   "cell_type": "code",
   "execution_count": 3,
   "id": "d1702e36",
   "metadata": {},
   "outputs": [],
   "source": [
    "class IsolationWithMigration(DemographicModel):\n",
    "    \"\"\"\n",
    "    Class representing a generic simulation model that can be run to output a tree\n",
    "    sequence. A generic isolation with migration model where a single ancestral\n",
    "    population of size NA splits into two populations of constant size N1\n",
    "    and N2 time T generations ago, with migration rates M12 and M21 between\n",
    "    the split populations. Sampling is disallowed in population index 0,\n",
    "    as this is the ancestral population.\n",
    "\n",
    "    :param float NA: The initial ancestral effective population size\n",
    "    :param float N1: The effective population size of population 1\n",
    "    :param float N2: The effective population size of population 2\n",
    "    :param float T: Time of split between populations 1 and 2 (in generations)\n",
    "    :param float M12: Migration rate from population 1 to 2\n",
    "    :param float M21: Migration rate from population 2 to 1\n",
    "\n",
    "    Example usage:\n",
    "\n",
    "    .. code-block:: python\n",
    "\n",
    "        model1 = stdpopsim.IsolationWithMigration(NA, N1, N2, T, M12, M21)\n",
    "\n",
    "    \"\"\"\n",
    "\n",
    "    def __init__(self, NA, N1, N2, T, M12, M21):\n",
    "        model = msprime.Demography()\n",
    "        model.add_population(initial_size=N1, name=\"YRI\")\n",
    "        model.add_population(initial_size=N2, name=\"CEU\")\n",
    "        model.add_population(initial_size=NA, name=\"ANC\")\n",
    "\n",
    "        # FIXME This is BACKWARDS in time, so the rates are the other\n",
    "        # way around forwards time. We should explain this in the documentation\n",
    "        # (and probably swap around). Seems like there's not really much\n",
    "        # good reason to have this model in here any more though - what\n",
    "        # does it do that wouldn't be better done in demes/msprime?\n",
    "        model.set_migration_rate(source=\"YRI\", dest=\"CEU\", rate=M12)\n",
    "        model.set_migration_rate(source=\"CEU\", dest=\"YRI\", rate=M21)\n",
    "        model.add_population_split(\n",
    "            time=T, ancestral=\"ANC\", derived=[\"YRI\", \"CEU\"]\n",
    "        )\n",
    "        long_description = \"\"\"\n",
    "            A generic isolation with migration model where a single ancestral\n",
    "            population of size NA splits into two populations of constant size N1\n",
    "            and N2 time T generations ago, with migration rates M12 and M21 between\n",
    "            the split populations.\n",
    "            \"\"\"\n",
    "        super().__init__(\n",
    "            id=\"IsolationWithMigration\",\n",
    "            description=\"Generic IM model\",\n",
    "            long_description=long_description,\n",
    "            model=model,\n",
    "            generation_time=1,\n",
    "        )\n"
   ]
  },
  {
   "cell_type": "code",
   "execution_count": 27,
   "id": "db530c41",
   "metadata": {},
   "outputs": [],
   "source": [
    "import numpy as np\n",
    "import demes\n",
    "import msprime\n",
    "import stdpopsim as sps\n",
    "\n",
    "def im_graph(NA, N1, N2, T, M12, M21, anc=\"ANC\", p1=\"YRI\", p2=\"CEU\"):\n",
    "    b = demes.Builder()\n",
    "    b.add_deme(anc, epochs=[dict(start_size=NA, end_time=T)])\n",
    "    b.add_deme(p1, ancestors=[anc], epochs=[dict(start_size=N1)])\n",
    "    b.add_deme(p2, ancestors=[anc], epochs=[dict(start_size=N2)])\n",
    "    if M12 > 0: b.add_migration(source=p1, dest=p2, rate=M12)\n",
    "    if M21 > 0: b.add_migration(source=p2, dest=p1, rate=M21)\n",
    "    return b.resolve()\n",
    "\n",
    "# ---- Your demography (generations ago) ----\n",
    "NA, N1, N2, T = 10_000, 5_000, 5_000, 2_000\n",
    "M12, M21 = 1e-3, 1e-5\n",
    "g = im_graph(NA, N1, N2, T, M12, M21, p1=\"YRI\", p2=\"CEU\")\n",
    "demog = msprime.Demography.from_demes(g)\n",
    "\n",
    "# ---- Real human chromosome window (recomb map + μ from stdpopsim) ----\n",
    "sp = sps.get_species(\"HomSap\")\n",
    "# 1 Mb window on chr19 (adjust left/right as you like)\n",
    "contig = sp.get_contig(chromosome=\"chr21\", left=0, right=1e6)\n",
    "\n",
    "# ---- Neutral simulation ----\n",
    "samples = {\"YRI\": 10, \"CEU\": 10}\n",
    "\n",
    "contig.add_dfe(intervals=np.array([[0, int(contig.length)]]), DFE=dfe)"
   ]
  },
  {
   "cell_type": "code",
   "execution_count": 28,
   "id": "96f9458d",
   "metadata": {},
   "outputs": [],
   "source": [
    "custom_model = IsolationWithMigration(NA, N1, N2, T, M12, M21)"
   ]
  },
  {
   "cell_type": "code",
   "execution_count": 29,
   "id": "8fad943b",
   "metadata": {},
   "outputs": [
    {
     "name": "stderr",
     "output_type": "stream",
     "text": [
      "/home/akapoor/.local/lib/python3.10/site-packages/stdpopsim/slim_engine.py:1636: SLiMScalingFactorWarning: You're using a scaling factor (10). This should give similar results for many situations, but is not equivalent, especially in the presence of selection. When using rescaling, you should be careful---do checks and compare results across different values of the scaling factor.\n",
      "  warnings.warn(\n"
     ]
    }
   ],
   "source": [
    "engine = stdpopsim.get_engine(\"slim\")\n",
    "ts = engine.simulate(\n",
    "    custom_model,\n",
    "    contig,\n",
    "    samples,\n",
    "    seed=123,\n",
    "    slim_scaling_factor=10,\n",
    "    slim_burn_in=10,\n",
    ")"
   ]
  },
  {
   "cell_type": "code",
   "execution_count": 31,
   "id": "78d33528",
   "metadata": {},
   "outputs": [],
   "source": [
    "import moments\n",
    "\n",
    "sample_sets = [\n",
    "    ts.samples(population=pop.id) \n",
    "    for pop in ts.populations() \n",
    "    if len(ts.samples(population=pop.id)) > 0  # Exclude populations with no samples\n",
    "]\n",
    "\n",
    "\n",
    "sfs = ts.allele_frequency_spectrum(\n",
    "    sample_sets=sample_sets,\n",
    "    mode=\"site\",\n",
    "    polarised=True,\n",
    "    span_normalise=False  # <-- crucial\n",
    ")\n",
    "\n",
    "# Convert to 1D or 2D moments Spectrum\n",
    "sfs = moments.Spectrum(sfs)\n",
    "\n",
    "# Get the population names from the TreeSequence\n",
    "pop_names = [\n",
    "    pop.metadata.get(\"name\", f\"pop{pop.id}\")\n",
    "    for pop in ts.populations()           # iterate, no arguments\n",
    "]\n",
    "\n",
    "# I don't want the ancestral size in the pop names\n",
    "if len(pop_names) > 1 and pop_names[0] == \"N0\":\n",
    "    pop_names = pop_names[1:]  # Remove the ancestral population name\n",
    "\n",
    "# if ts.num_populations == 1:\n",
    "#     pop_names = [ts.populations(0).metadata.get(\"name\", \"N0\")]\n",
    "# else:\n",
    "#     pop_names = [\"N1\", \"N2\"]\n",
    "\n",
    "sfs.pop_ids = pop_names\n"
   ]
  },
  {
   "cell_type": "code",
   "execution_count": null,
   "id": "3f1f0637",
   "metadata": {},
   "outputs": [],
   "source": []
  },
  {
   "cell_type": "code",
   "execution_count": null,
   "id": "8d564c56",
   "metadata": {},
   "outputs": [],
   "source": [
    "# Run moments inference using snakemake_scripts/moments_dadi_inference.py logic\n",
    "import sys\n",
    "from pathlib import Path\n",
    "sys.path.insert(0, str(Path('../src').resolve()))\n",
    "import moments_inference\n",
    "import pickle, json\n",
    "\n",
    "# --- Set paths to your files ---\n",
    "sfs_file = Path(\"experiments/split_isolation/simulations/0/SFS.pkl\")  # update as needed\n",
    "config_file = Path(\"config_files/experiment_config_split_isolation.json\")\n",
    "\n",
    "# --- Load SFS and config ---\n",
    "with open(sfs_file, \"rb\") as f:\n",
    "    sfs = pickle.load(f)\n",
    "with open(config_file) as f:\n",
    "    config = json.load(f)\n",
    "\n",
    "# --- Import your demography builder ---\n",
    "from src.simulation import split_isolation_model\n",
    "model_func = split_isolation_model\n",
    "\n",
    "# --- Prepare starting parameters ---\n",
    "priors = config[\"priors\"]\n",
    "start_dict = {k: (v[0] + v[1]) / 2 for k, v in priors.items()}\n",
    "\n",
    "# --- Run moments inference ---\n",
    "result = moments_inference.fit_model(\n",
    "    sfs=sfs,\n",
    "    start_dict=start_dict,\n",
    "    demo_model=model_func,\n",
    "    experiment_config=config,\n",
    "    fixed_params={}\n",
    ")\n",
    "print(\"Best-fit parameters:\", result[0])\n",
    "print(\"Log-likelihood:\", result[1])"
   ]
  }
 ],
 "metadata": {
  "kernelspec": {
   "display_name": "myenv",
   "language": "python",
   "name": "python3"
  },
  "language_info": {
   "codemirror_mode": {
    "name": "ipython",
    "version": 3
   },
   "file_extension": ".py",
   "mimetype": "text/x-python",
   "name": "python",
   "nbconvert_exporter": "python",
   "pygments_lexer": "ipython3",
   "version": "3.10.13"
  }
 },
 "nbformat": 4,
 "nbformat_minor": 5
}
