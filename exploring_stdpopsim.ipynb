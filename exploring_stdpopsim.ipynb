{
 "cells": [
  {
   "cell_type": "code",
   "execution_count": null,
   "id": "fa65c93d",
   "metadata": {},
   "outputs": [],
   "source": [
    "import stdpopsim\n",
    "species = stdpopsim.get_species(\"HomSap\")\n"
   ]
  },
  {
   "cell_type": "code",
   "execution_count": null,
   "id": "5732ae4c",
   "metadata": {},
   "outputs": [],
   "source": []
  }
 ],
 "metadata": {
  "kernelspec": {
   "display_name": "snakemake-env",
   "language": "python",
   "name": "python3"
  },
  "language_info": {
   "name": "python",
   "version": "3.11.13"
  }
 },
 "nbformat": 4,
 "nbformat_minor": 5
}
