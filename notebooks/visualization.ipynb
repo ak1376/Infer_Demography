{
 "cells": [
  {
   "cell_type": "code",
   "execution_count": 1,
   "id": "e7aa0fa4",
   "metadata": {},
   "outputs": [],
   "source": [
    "import matplotlib.pyplot as plt\n",
    "import numpy as np\n",
    "import pandas as pd \n",
    "import pickle\n",
    "import json\n",
    "import os "
   ]
  },
  {
   "cell_type": "code",
   "execution_count": 2,
   "id": "a7821123",
   "metadata": {},
   "outputs": [],
   "source": [
    "with open('/sietch_colab/akapoor/Infer_Demography/MomentsLD/LD_stats/sim_0/best_fit.pkl', 'rb') as f:\n",
    "    best_fit = pickle.load(f)"
   ]
  },
  {
   "cell_type": "code",
   "execution_count": 4,
   "id": "bc08245f",
   "metadata": {},
   "outputs": [
    {
     "data": {
      "text/plain": [
       "{'N_bottleneck': 1046.7403451405644,\n",
       " 'N_recover': 19573.61677889993,\n",
       " 't_bottleneck_start': 3486.3325671773696,\n",
       " 't_bottleneck_end': 154.42586757349517,\n",
       " 'N0': 17865.117115229692}"
      ]
     },
     "execution_count": 4,
     "metadata": {},
     "output_type": "execute_result"
    }
   ],
   "source": [
    "best_fit['opt_params']"
   ]
  },
  {
   "cell_type": "code",
   "execution_count": 5,
   "id": "720caa93",
   "metadata": {},
   "outputs": [],
   "source": [
    "with open('/sietch_colab/akapoor/Infer_Demography/ld_experiments/bottleneck/simulations/0/sampled_params.pkl', 'rb') as f:\n",
    "    sampled_params = pickle.load(f)"
   ]
  },
  {
   "cell_type": "code",
   "execution_count": 6,
   "id": "29b0d987",
   "metadata": {},
   "outputs": [
    {
     "data": {
      "text/plain": [
       "{'N0': 15931.20887400734,\n",
       " 'N_bottleneck': 933.4301570891473,\n",
       " 'N_recover': 17454.762558404884,\n",
       " 't_bottleneck_start': 2606.881069748114,\n",
       " 't_bottleneck_end': 250.68375662023925}"
      ]
     },
     "execution_count": 6,
     "metadata": {},
     "output_type": "execute_result"
    }
   ],
   "source": [
    "sampled_params"
   ]
  },
  {
   "cell_type": "code",
   "execution_count": 1,
   "id": "6de7193d",
   "metadata": {},
   "outputs": [
    {
     "ename": "FileNotFoundError",
     "evalue": "[Errno 2] No such file or directory: '/sietch_colab/akapoor/Infer_Demography/ld_experiments/bottleneck/simulations'",
     "output_type": "error",
     "traceback": [
      "\u001b[0;31m---------------------------------------------------------------------------\u001b[0m",
      "\u001b[0;31mFileNotFoundError\u001b[0m                         Traceback (most recent call last)",
      "Cell \u001b[0;32mIn[1], line 32\u001b[0m\n\u001b[1;32m     29\u001b[0m true_vecs, est_vecs, ll_vec \u001b[38;5;241m=\u001b[39m [], [], []\n\u001b[1;32m     31\u001b[0m \u001b[38;5;66;03m# ---------------------------------------------------------------- collect ----\u001b[39;00m\n\u001b[0;32m---> 32\u001b[0m \u001b[38;5;28;01mfor\u001b[39;00m sim_dir \u001b[38;5;129;01min\u001b[39;00m \u001b[38;5;28;43msorted\u001b[39;49m\u001b[43m(\u001b[49m\u001b[43mSIM_BASEDIR\u001b[49m\u001b[38;5;241;43m.\u001b[39;49m\u001b[43miterdir\u001b[49m\u001b[43m(\u001b[49m\u001b[43m)\u001b[49m\u001b[43m)\u001b[49m:\n\u001b[1;32m     33\u001b[0m     sid \u001b[38;5;241m=\u001b[39m sim_dir\u001b[38;5;241m.\u001b[39mname                       \u001b[38;5;66;03m# e.g. \"0\", \"7\", …\u001b[39;00m\n\u001b[1;32m     34\u001b[0m     best_fit_pkl \u001b[38;5;241m=\u001b[39m LD_ROOT \u001b[38;5;241m/\u001b[39m \u001b[38;5;124mf\u001b[39m\u001b[38;5;124m\"\u001b[39m\u001b[38;5;124msim_\u001b[39m\u001b[38;5;132;01m{\u001b[39;00msid\u001b[38;5;132;01m}\u001b[39;00m\u001b[38;5;124m\"\u001b[39m \u001b[38;5;241m/\u001b[39m \u001b[38;5;124m\"\u001b[39m\u001b[38;5;124mbest_fit.pkl\u001b[39m\u001b[38;5;124m\"\u001b[39m\n",
      "File \u001b[0;32m/gpfs/home/akapoor/miniforge3/envs/snakemake-env/lib/python3.12/pathlib.py:1056\u001b[0m, in \u001b[0;36mPath.iterdir\u001b[0;34m(self)\u001b[0m\n\u001b[1;32m   1050\u001b[0m \u001b[38;5;28;01mdef\u001b[39;00m \u001b[38;5;21miterdir\u001b[39m(\u001b[38;5;28mself\u001b[39m):\n\u001b[1;32m   1051\u001b[0m \u001b[38;5;250m    \u001b[39m\u001b[38;5;124;03m\"\"\"Yield path objects of the directory contents.\u001b[39;00m\n\u001b[1;32m   1052\u001b[0m \n\u001b[1;32m   1053\u001b[0m \u001b[38;5;124;03m    The children are yielded in arbitrary order, and the\u001b[39;00m\n\u001b[1;32m   1054\u001b[0m \u001b[38;5;124;03m    special entries '.' and '..' are not included.\u001b[39;00m\n\u001b[1;32m   1055\u001b[0m \u001b[38;5;124;03m    \"\"\"\u001b[39;00m\n\u001b[0;32m-> 1056\u001b[0m     \u001b[38;5;28;01mfor\u001b[39;00m name \u001b[38;5;129;01min\u001b[39;00m \u001b[43mos\u001b[49m\u001b[38;5;241;43m.\u001b[39;49m\u001b[43mlistdir\u001b[49m\u001b[43m(\u001b[49m\u001b[38;5;28;43mself\u001b[39;49m\u001b[43m)\u001b[49m:\n\u001b[1;32m   1057\u001b[0m         \u001b[38;5;28;01myield\u001b[39;00m \u001b[38;5;28mself\u001b[39m\u001b[38;5;241m.\u001b[39m_make_child_relpath(name)\n",
      "\u001b[0;31mFileNotFoundError\u001b[0m: [Errno 2] No such file or directory: '/sietch_colab/akapoor/Infer_Demography/ld_experiments/bottleneck/simulations'"
     ]
    }
   ],
   "source": [
    "#!/usr/bin/env python3\n",
    "\"\"\"\n",
    "Gather all simulations and plot Moments-LD estimates vs. true parameters,\n",
    "colour-coded by log-likelihood.  True values are on the *y-axis*.\n",
    "\"\"\"\n",
    "\n",
    "from pathlib import Path\n",
    "import pickle\n",
    "import matplotlib.pyplot as plt\n",
    "from matplotlib import cm, colors\n",
    "import numpy as np\n",
    "\n",
    "# ------------------------------------------------------------------------\n",
    "SIM_BASEDIR = Path(\n",
    "    \"/sietch_colab/akapoor/Infer_Demography/ld_experiments/bottleneck/simulations\"\n",
    ")\n",
    "LD_ROOT = Path(\n",
    "    \"/sietch_colab/akapoor/Infer_Demography/MomentsLD/LD_stats\"\n",
    ")\n",
    "\n",
    "PARAM_NAMES = [\n",
    "    \"N_bottleneck\",\n",
    "    \"N_recover\",\n",
    "    \"t_bottleneck_start\",\n",
    "    \"t_bottleneck_end\",\n",
    "    \"N0\",\n",
    "]\n",
    "\n",
    "true_vecs, est_vecs, ll_vec = [], [], []\n",
    "\n",
    "# ---------------------------------------------------------------- collect ----\n",
    "for sim_dir in sorted(SIM_BASEDIR.iterdir()):\n",
    "    sid = sim_dir.name                       # e.g. \"0\", \"7\", …\n",
    "    best_fit_pkl = LD_ROOT / f\"sim_{sid}\" / \"best_fit.pkl\"\n",
    "    if not best_fit_pkl.exists():\n",
    "        print(f\"skip sim {sid}: best_fit.pkl missing\")\n",
    "        continue\n",
    "\n",
    "    true_vals = pickle.load((sim_dir / \"sampled_params.pkl\").open(\"rb\"))\n",
    "    result    = pickle.load(best_fit_pkl.open(\"rb\"))\n",
    "\n",
    "    true_vecs.append(true_vals)\n",
    "    est_vecs.append(result[\"opt_params\"])\n",
    "    ll_vec.append(result[\"loglik\"])\n",
    "\n",
    "if not true_vecs:\n",
    "    raise RuntimeError(\"No simulations found – nothing to plot!\")\n",
    "\n",
    "# ---------------------------------------------------------------- plot -------\n",
    "norm   = colors.Normalize(vmin=min(ll_vec), vmax=max(ll_vec))\n",
    "cmap   = cm.get_cmap(\"viridis\")\n",
    "colour = cmap(norm(ll_vec))\n",
    "\n",
    "n = len(PARAM_NAMES)\n",
    "fig, axes = plt.subplots(1, n, figsize=(3 * n, 3), squeeze=False)\n",
    "\n",
    "for i, p in enumerate(PARAM_NAMES):\n",
    "    ax = axes[0, i]\n",
    "    x  = [d[p] for d in est_vecs]     # estimated on x-axis\n",
    "    y  = [d[p] for d in true_vecs]    # true on y-axis\n",
    "\n",
    "    ax.scatter(x, y, s=25, c=colour)\n",
    "    ax.plot([min(x + y), max(x + y)], [min(x + y), max(x + y)],\n",
    "            ls=\"--\", lw=0.7, color=\"grey\")\n",
    "\n",
    "    ax.set_xlabel(f\"MomentsLD {p}\")\n",
    "    ax.set_ylabel(f\"True {p}\")\n",
    "\n",
    "# colour-bar\n",
    "fig.subplots_adjust(right=0.88)\n",
    "cax = fig.add_axes([0.90, 0.15, 0.02, 0.7])\n",
    "fig.colorbar(cm.ScalarMappable(norm=norm, cmap=cmap),\n",
    "             cax=cax, label=\"log-likelihood\")\n",
    "\n",
    "fig.tight_layout(rect=[0, 0, 0.88, 1])\n",
    "fig.savefig(\"scatter_momentsLD_vs_true.png\", dpi=300)\n",
    "print(\"✓ wrote scatter_momentsLD_vs_true.png\")\n"
   ]
  },
  {
   "cell_type": "code",
   "execution_count": 18,
   "id": "52565e7c",
   "metadata": {},
   "outputs": [
    {
     "name": "stdout",
     "output_type": "stream",
     "text": [
      "Simulation 0 sampled parameters:\n",
      "N0: 18100.59942928492\n",
      "N_bottleneck: 252.9487475496224\n",
      "N_recover: 16417.01412335578\n",
      "t_bottleneck_start: 2229.4719476247537\n",
      "t_bottleneck_end: 474.5141100990196\n",
      "Simulation 1 sampled parameters:\n",
      "N0: 15253.366348616304\n",
      "N_bottleneck: 597.480344803044\n",
      "N_recover: 13488.673407238113\n",
      "t_bottleneck_start: 2852.2234271014677\n",
      "t_bottleneck_end: 210.9831622908427\n",
      "Simulation 2 sampled parameters:\n",
      "N0: 6134.147836857304\n",
      "N_bottleneck: 1117.2526103479013\n",
      "N_recover: 13949.635074110645\n",
      "t_bottleneck_start: 2740.1477599640248\n",
      "t_bottleneck_end: 560.9526408459219\n",
      "Simulation 3 sampled parameters:\n",
      "N0: 5766.677408198906\n",
      "N_bottleneck: 186.97186626857408\n",
      "N_recover: 14958.31302912772\n",
      "t_bottleneck_start: 2026.7823692692637\n",
      "t_bottleneck_end: 268.5490454881931\n",
      "Simulation 4 sampled parameters:\n",
      "N0: 14181.20464994994\n",
      "N_bottleneck: 266.9485732885138\n",
      "N_recover: 6878.352576780438\n",
      "t_bottleneck_start: 2898.8686321385476\n",
      "t_bottleneck_end: 1125.948464769022\n",
      "Simulation 5 sampled parameters:\n",
      "N0: 4477.268132160785\n",
      "N_bottleneck: 1516.3673097254639\n",
      "N_recover: 19202.01486846316\n",
      "t_bottleneck_start: 2114.83083147495\n",
      "t_bottleneck_end: 714.7763297819185\n",
      "Simulation 6 sampled parameters:\n",
      "N0: 8215.501257771542\n",
      "N_bottleneck: 1816.7479942235655\n",
      "N_recover: 9855.692466659244\n",
      "t_bottleneck_start: 2326.4924915536285\n",
      "t_bottleneck_end: 157.87889463946686\n",
      "Simulation 7 sampled parameters:\n",
      "N0: 7732.371373562787\n",
      "N_bottleneck: 359.4794249559362\n",
      "N_recover: 16713.548868585203\n",
      "t_bottleneck_start: 2739.3841826680023\n",
      "t_bottleneck_end: 500.66771963845423\n",
      "Simulation 8 sampled parameters:\n",
      "N0: 16171.614141090336\n",
      "N_bottleneck: 616.2876153999368\n",
      "N_recover: 13269.800550316726\n",
      "t_bottleneck_start: 1944.9069823729383\n",
      "t_bottleneck_end: 1369.0616670915945\n",
      "Simulation 9 sampled parameters:\n",
      "N0: 8627.477815631712\n",
      "N_bottleneck: 1971.2925594705196\n",
      "N_recover: 10581.863299445231\n",
      "t_bottleneck_start: 2018.9930581125845\n",
      "t_bottleneck_end: 773.0582748885471\n"
     ]
    }
   ],
   "source": [
    "for i in np.arange(10):\n",
    "    with open(f'/sietch_colab/akapoor/Infer_Demography/ld_experiments/bottleneck/simulations/{i}/sampled_params.pkl', 'rb') as f:\n",
    "        sampled_params = pickle.load(f)\n",
    "        print(f\"Simulation {i} sampled parameters:\")\n",
    "        for key, value in sampled_params.items():\n",
    "            print(f\"{key}: {value}\")"
   ]
  },
  {
   "cell_type": "code",
   "execution_count": 1,
   "id": "d39ad63e",
   "metadata": {},
   "outputs": [],
   "source": [
    "import pickle\n",
    "with open('/sietch_colab/akapoor/Infer_Demography/experiments/bottleneck/inferences/sim_0/dadi/fit_params.pkl', 'rb') as f:\n",
    "    dadi_fit_params = pickle.load(f)"
   ]
  },
  {
   "cell_type": "code",
   "execution_count": 2,
   "id": "44e82d5c",
   "metadata": {},
   "outputs": [
    {
     "data": {
      "text/plain": [
       "{'best_params': [array([13235.39645879,  1467.69891925,  3189.65715519,  2456.83856461,\n",
       "           887.78712107])],\n",
       " 'best_lls': [-140.18919010680474]}"
      ]
     },
     "execution_count": 2,
     "metadata": {},
     "output_type": "execute_result"
    }
   ],
   "source": [
    "dadi_fit_params"
   ]
  },
  {
   "cell_type": "code",
   "execution_count": 3,
   "id": "04d3f503",
   "metadata": {},
   "outputs": [],
   "source": [
    "with open('/sietch_colab/akapoor/Infer_Demography/experiments/bottleneck/simulations/0/sampled_params.pkl', 'rb') as f:\n",
    "    sampled_params = pickle.load(f)"
   ]
  },
  {
   "cell_type": "code",
   "execution_count": 4,
   "id": "5d9ba80d",
   "metadata": {},
   "outputs": [
    {
     "data": {
      "text/plain": [
       "{'N0': 13235.39645879176,\n",
       " 'N_bottleneck': 1467.6989192511476,\n",
       " 'N_recover': 3541.063247906867,\n",
       " 't_bottleneck_start': 2180.707729594059,\n",
       " 't_bottleneck_end': 686.6602336389819}"
      ]
     },
     "execution_count": 4,
     "metadata": {},
     "output_type": "execute_result"
    }
   ],
   "source": [
    "sampled_params"
   ]
  },
  {
   "cell_type": "code",
   "execution_count": 1,
   "id": "8f401781",
   "metadata": {},
   "outputs": [],
   "source": [
    "import pickle\n",
    "with open('/home/akapoor/kernlab/Infer_Demography/experiments/split_isolation/modeling/features_df.pkl', 'rb') as f:\n",
    "    features_df = pickle.load(f)\n",
    "\n",
    "with open('/home/akapoor/kernlab/Infer_Demography/experiments/split_isolation/modeling/targets_df.pkl', 'rb') as f:\n",
    "    targets_df = pickle.load(f)"
   ]
  },
  {
   "cell_type": "code",
   "execution_count": 2,
   "id": "9c63960e",
   "metadata": {},
   "outputs": [
    {
     "data": {
      "text/html": [
       "<div>\n",
       "<style scoped>\n",
       "    .dataframe tbody tr th:only-of-type {\n",
       "        vertical-align: middle;\n",
       "    }\n",
       "\n",
       "    .dataframe tbody tr th {\n",
       "        vertical-align: top;\n",
       "    }\n",
       "\n",
       "    .dataframe thead th {\n",
       "        text-align: right;\n",
       "    }\n",
       "</style>\n",
       "<table border=\"1\" class=\"dataframe\">\n",
       "  <thead>\n",
       "    <tr style=\"text-align: right;\">\n",
       "      <th></th>\n",
       "      <th>dadi_N0</th>\n",
       "      <th>dadi_N1</th>\n",
       "      <th>dadi_N2</th>\n",
       "      <th>dadi_m</th>\n",
       "      <th>dadi_t_split</th>\n",
       "      <th>momentsLD_N0</th>\n",
       "      <th>momentsLD_N1</th>\n",
       "      <th>momentsLD_N2</th>\n",
       "      <th>momentsLD_t_split</th>\n",
       "      <th>moments_N0</th>\n",
       "      <th>moments_N1</th>\n",
       "      <th>moments_N2</th>\n",
       "      <th>moments_m</th>\n",
       "      <th>moments_t_split</th>\n",
       "    </tr>\n",
       "  </thead>\n",
       "  <tbody>\n",
       "    <tr>\n",
       "      <th>0</th>\n",
       "      <td>27051.562034</td>\n",
       "      <td>9949.378242</td>\n",
       "      <td>28082.614239</td>\n",
       "      <td>1.000000e-04</td>\n",
       "      <td>20000.000000</td>\n",
       "      <td>0.000105</td>\n",
       "      <td>7994.337919</td>\n",
       "      <td>21422.108537</td>\n",
       "      <td>16877.797163</td>\n",
       "      <td>27051.562034</td>\n",
       "      <td>9352.126623</td>\n",
       "      <td>26864.245537</td>\n",
       "      <td>1.000000e-04</td>\n",
       "      <td>8927.871648</td>\n",
       "    </tr>\n",
       "    <tr>\n",
       "      <th>1</th>\n",
       "      <td>5305.061322</td>\n",
       "      <td>27749.605542</td>\n",
       "      <td>23754.806228</td>\n",
       "      <td>9.582252e-05</td>\n",
       "      <td>15789.871745</td>\n",
       "      <td>0.000092</td>\n",
       "      <td>24449.426021</td>\n",
       "      <td>23377.603484</td>\n",
       "      <td>13527.806240</td>\n",
       "      <td>5305.061322</td>\n",
       "      <td>25111.606610</td>\n",
       "      <td>21847.223620</td>\n",
       "      <td>1.000000e-04</td>\n",
       "      <td>13472.235464</td>\n",
       "    </tr>\n",
       "    <tr>\n",
       "      <th>2</th>\n",
       "      <td>892.646884</td>\n",
       "      <td>4144.794726</td>\n",
       "      <td>9465.692506</td>\n",
       "      <td>6.043604e-05</td>\n",
       "      <td>11920.055913</td>\n",
       "      <td>0.000030</td>\n",
       "      <td>3903.313494</td>\n",
       "      <td>11639.600790</td>\n",
       "      <td>16024.431945</td>\n",
       "      <td>892.646884</td>\n",
       "      <td>5205.814538</td>\n",
       "      <td>11866.869716</td>\n",
       "      <td>4.580140e-05</td>\n",
       "      <td>15482.503953</td>\n",
       "    </tr>\n",
       "    <tr>\n",
       "      <th>3</th>\n",
       "      <td>19694.516099</td>\n",
       "      <td>259.300264</td>\n",
       "      <td>27107.609489</td>\n",
       "      <td>7.448504e-06</td>\n",
       "      <td>10156.868476</td>\n",
       "      <td>0.000013</td>\n",
       "      <td>4190.264888</td>\n",
       "      <td>132138.975842</td>\n",
       "      <td>3981.106398</td>\n",
       "      <td>19694.516099</td>\n",
       "      <td>356.684642</td>\n",
       "      <td>30000.000000</td>\n",
       "      <td>7.045962e-07</td>\n",
       "      <td>6099.281912</td>\n",
       "    </tr>\n",
       "    <tr>\n",
       "      <th>4</th>\n",
       "      <td>1989.369097</td>\n",
       "      <td>12427.192636</td>\n",
       "      <td>19420.645371</td>\n",
       "      <td>1.000000e-08</td>\n",
       "      <td>2610.777694</td>\n",
       "      <td>0.000012</td>\n",
       "      <td>9149.690887</td>\n",
       "      <td>12481.147767</td>\n",
       "      <td>2040.356183</td>\n",
       "      <td>1989.369097</td>\n",
       "      <td>11772.023104</td>\n",
       "      <td>13416.484058</td>\n",
       "      <td>1.000000e-08</td>\n",
       "      <td>2264.584641</td>\n",
       "    </tr>\n",
       "    <tr>\n",
       "      <th>5</th>\n",
       "      <td>16354.776312</td>\n",
       "      <td>15772.093800</td>\n",
       "      <td>1981.981428</td>\n",
       "      <td>3.787637e-05</td>\n",
       "      <td>11220.777624</td>\n",
       "      <td>0.000019</td>\n",
       "      <td>17309.154642</td>\n",
       "      <td>2995.717584</td>\n",
       "      <td>13055.435774</td>\n",
       "      <td>16354.776312</td>\n",
       "      <td>20534.549276</td>\n",
       "      <td>2683.934423</td>\n",
       "      <td>1.754561e-05</td>\n",
       "      <td>9097.942884</td>\n",
       "    </tr>\n",
       "    <tr>\n",
       "      <th>6</th>\n",
       "      <td>20724.657112</td>\n",
       "      <td>8198.207681</td>\n",
       "      <td>15468.624606</td>\n",
       "      <td>7.375815e-05</td>\n",
       "      <td>9156.043594</td>\n",
       "      <td>0.000055</td>\n",
       "      <td>9343.365977</td>\n",
       "      <td>14421.681336</td>\n",
       "      <td>12115.132336</td>\n",
       "      <td>20724.657112</td>\n",
       "      <td>8160.467559</td>\n",
       "      <td>15457.205180</td>\n",
       "      <td>7.391561e-05</td>\n",
       "      <td>10565.725350</td>\n",
       "    </tr>\n",
       "    <tr>\n",
       "      <th>7</th>\n",
       "      <td>11046.918419</td>\n",
       "      <td>14301.561548</td>\n",
       "      <td>29230.637862</td>\n",
       "      <td>6.876497e-05</td>\n",
       "      <td>3896.273793</td>\n",
       "      <td>0.000172</td>\n",
       "      <td>8901.590328</td>\n",
       "      <td>18864.619718</td>\n",
       "      <td>6730.682371</td>\n",
       "      <td>11046.918419</td>\n",
       "      <td>14391.228542</td>\n",
       "      <td>30000.000000</td>\n",
       "      <td>4.595811e-05</td>\n",
       "      <td>3160.414693</td>\n",
       "    </tr>\n",
       "    <tr>\n",
       "      <th>8</th>\n",
       "      <td>8132.128583</td>\n",
       "      <td>21576.121740</td>\n",
       "      <td>20225.301189</td>\n",
       "      <td>1.000000e-04</td>\n",
       "      <td>13298.096884</td>\n",
       "      <td>0.000088</td>\n",
       "      <td>21661.696096</td>\n",
       "      <td>16506.883109</td>\n",
       "      <td>11471.758462</td>\n",
       "      <td>8132.128583</td>\n",
       "      <td>20406.116771</td>\n",
       "      <td>19115.703933</td>\n",
       "      <td>1.000000e-04</td>\n",
       "      <td>10946.701708</td>\n",
       "    </tr>\n",
       "    <tr>\n",
       "      <th>9</th>\n",
       "      <td>20598.423214</td>\n",
       "      <td>11106.480829</td>\n",
       "      <td>9888.703281</td>\n",
       "      <td>1.428229e-05</td>\n",
       "      <td>9747.122359</td>\n",
       "      <td>0.000022</td>\n",
       "      <td>11795.976739</td>\n",
       "      <td>10657.338593</td>\n",
       "      <td>14990.303983</td>\n",
       "      <td>20598.423214</td>\n",
       "      <td>11393.364741</td>\n",
       "      <td>10154.342320</td>\n",
       "      <td>1.406746e-05</td>\n",
       "      <td>10127.558813</td>\n",
       "    </tr>\n",
       "  </tbody>\n",
       "</table>\n",
       "</div>"
      ],
      "text/plain": [
       "        dadi_N0       dadi_N1       dadi_N2        dadi_m  dadi_t_split  \\\n",
       "0  27051.562034   9949.378242  28082.614239  1.000000e-04  20000.000000   \n",
       "1   5305.061322  27749.605542  23754.806228  9.582252e-05  15789.871745   \n",
       "2    892.646884   4144.794726   9465.692506  6.043604e-05  11920.055913   \n",
       "3  19694.516099    259.300264  27107.609489  7.448504e-06  10156.868476   \n",
       "4   1989.369097  12427.192636  19420.645371  1.000000e-08   2610.777694   \n",
       "5  16354.776312  15772.093800   1981.981428  3.787637e-05  11220.777624   \n",
       "6  20724.657112   8198.207681  15468.624606  7.375815e-05   9156.043594   \n",
       "7  11046.918419  14301.561548  29230.637862  6.876497e-05   3896.273793   \n",
       "8   8132.128583  21576.121740  20225.301189  1.000000e-04  13298.096884   \n",
       "9  20598.423214  11106.480829   9888.703281  1.428229e-05   9747.122359   \n",
       "\n",
       "   momentsLD_N0  momentsLD_N1   momentsLD_N2  momentsLD_t_split    moments_N0  \\\n",
       "0      0.000105   7994.337919   21422.108537       16877.797163  27051.562034   \n",
       "1      0.000092  24449.426021   23377.603484       13527.806240   5305.061322   \n",
       "2      0.000030   3903.313494   11639.600790       16024.431945    892.646884   \n",
       "3      0.000013   4190.264888  132138.975842        3981.106398  19694.516099   \n",
       "4      0.000012   9149.690887   12481.147767        2040.356183   1989.369097   \n",
       "5      0.000019  17309.154642    2995.717584       13055.435774  16354.776312   \n",
       "6      0.000055   9343.365977   14421.681336       12115.132336  20724.657112   \n",
       "7      0.000172   8901.590328   18864.619718        6730.682371  11046.918419   \n",
       "8      0.000088  21661.696096   16506.883109       11471.758462   8132.128583   \n",
       "9      0.000022  11795.976739   10657.338593       14990.303983  20598.423214   \n",
       "\n",
       "     moments_N1    moments_N2     moments_m  moments_t_split  \n",
       "0   9352.126623  26864.245537  1.000000e-04      8927.871648  \n",
       "1  25111.606610  21847.223620  1.000000e-04     13472.235464  \n",
       "2   5205.814538  11866.869716  4.580140e-05     15482.503953  \n",
       "3    356.684642  30000.000000  7.045962e-07      6099.281912  \n",
       "4  11772.023104  13416.484058  1.000000e-08      2264.584641  \n",
       "5  20534.549276   2683.934423  1.754561e-05      9097.942884  \n",
       "6   8160.467559  15457.205180  7.391561e-05     10565.725350  \n",
       "7  14391.228542  30000.000000  4.595811e-05      3160.414693  \n",
       "8  20406.116771  19115.703933  1.000000e-04     10946.701708  \n",
       "9  11393.364741  10154.342320  1.406746e-05     10127.558813  "
      ]
     },
     "execution_count": 2,
     "metadata": {},
     "output_type": "execute_result"
    }
   ],
   "source": [
    "features_df"
   ]
  },
  {
   "cell_type": "code",
   "execution_count": 3,
   "id": "e8892e53",
   "metadata": {},
   "outputs": [
    {
     "data": {
      "text/html": [
       "<div>\n",
       "<style scoped>\n",
       "    .dataframe tbody tr th:only-of-type {\n",
       "        vertical-align: middle;\n",
       "    }\n",
       "\n",
       "    .dataframe tbody tr th {\n",
       "        vertical-align: top;\n",
       "    }\n",
       "\n",
       "    .dataframe thead th {\n",
       "        text-align: right;\n",
       "    }\n",
       "</style>\n",
       "<table border=\"1\" class=\"dataframe\">\n",
       "  <thead>\n",
       "    <tr style=\"text-align: right;\">\n",
       "      <th></th>\n",
       "      <th>N0</th>\n",
       "      <th>N1</th>\n",
       "      <th>N2</th>\n",
       "      <th>m</th>\n",
       "      <th>t_split</th>\n",
       "    </tr>\n",
       "  </thead>\n",
       "  <tbody>\n",
       "    <tr>\n",
       "      <th>0</th>\n",
       "      <td>27051.562034</td>\n",
       "      <td>7838.403122</td>\n",
       "      <td>22136.756040</td>\n",
       "      <td>0.000084</td>\n",
       "      <td>15727.693879</td>\n",
       "    </tr>\n",
       "    <tr>\n",
       "      <th>1</th>\n",
       "      <td>5305.061322</td>\n",
       "      <td>24058.315363</td>\n",
       "      <td>22966.330333</td>\n",
       "      <td>0.000076</td>\n",
       "      <td>13371.913601</td>\n",
       "    </tr>\n",
       "    <tr>\n",
       "      <th>2</th>\n",
       "      <td>892.646884</td>\n",
       "      <td>3897.212683</td>\n",
       "      <td>12243.226270</td>\n",
       "      <td>0.000028</td>\n",
       "      <td>15907.489103</td>\n",
       "    </tr>\n",
       "    <tr>\n",
       "      <th>3</th>\n",
       "      <td>19694.516099</td>\n",
       "      <td>308.414489</td>\n",
       "      <td>29639.305714</td>\n",
       "      <td>0.000012</td>\n",
       "      <td>11436.148031</td>\n",
       "    </tr>\n",
       "    <tr>\n",
       "      <th>4</th>\n",
       "      <td>1989.369097</td>\n",
       "      <td>9329.663905</td>\n",
       "      <td>14293.115351</td>\n",
       "      <td>0.000009</td>\n",
       "      <td>2123.304935</td>\n",
       "    </tr>\n",
       "    <tr>\n",
       "      <th>5</th>\n",
       "      <td>16354.776312</td>\n",
       "      <td>17026.067954</td>\n",
       "      <td>3003.480890</td>\n",
       "      <td>0.000018</td>\n",
       "      <td>13052.371370</td>\n",
       "    </tr>\n",
       "    <tr>\n",
       "      <th>6</th>\n",
       "      <td>20724.657112</td>\n",
       "      <td>8608.476479</td>\n",
       "      <td>15386.152568</td>\n",
       "      <td>0.000048</td>\n",
       "      <td>9019.781476</td>\n",
       "    </tr>\n",
       "    <tr>\n",
       "      <th>7</th>\n",
       "      <td>11046.918419</td>\n",
       "      <td>11344.860805</td>\n",
       "      <td>29819.918632</td>\n",
       "      <td>0.000057</td>\n",
       "      <td>3825.123643</td>\n",
       "    </tr>\n",
       "    <tr>\n",
       "      <th>8</th>\n",
       "      <td>8132.128583</td>\n",
       "      <td>19417.398262</td>\n",
       "      <td>16510.087674</td>\n",
       "      <td>0.000084</td>\n",
       "      <td>11050.358315</td>\n",
       "    </tr>\n",
       "    <tr>\n",
       "      <th>9</th>\n",
       "      <td>20598.423214</td>\n",
       "      <td>11909.330914</td>\n",
       "      <td>11143.304415</td>\n",
       "      <td>0.000020</td>\n",
       "      <td>14952.875347</td>\n",
       "    </tr>\n",
       "  </tbody>\n",
       "</table>\n",
       "</div>"
      ],
      "text/plain": [
       "             N0            N1            N2         m       t_split\n",
       "0  27051.562034   7838.403122  22136.756040  0.000084  15727.693879\n",
       "1   5305.061322  24058.315363  22966.330333  0.000076  13371.913601\n",
       "2    892.646884   3897.212683  12243.226270  0.000028  15907.489103\n",
       "3  19694.516099    308.414489  29639.305714  0.000012  11436.148031\n",
       "4   1989.369097   9329.663905  14293.115351  0.000009   2123.304935\n",
       "5  16354.776312  17026.067954   3003.480890  0.000018  13052.371370\n",
       "6  20724.657112   8608.476479  15386.152568  0.000048   9019.781476\n",
       "7  11046.918419  11344.860805  29819.918632  0.000057   3825.123643\n",
       "8   8132.128583  19417.398262  16510.087674  0.000084  11050.358315\n",
       "9  20598.423214  11909.330914  11143.304415  0.000020  14952.875347"
      ]
     },
     "execution_count": 3,
     "metadata": {},
     "output_type": "execute_result"
    }
   ],
   "source": [
    "targets_df"
   ]
  },
  {
   "cell_type": "code",
   "execution_count": 17,
   "id": "a5ee8c08",
   "metadata": {},
   "outputs": [
    {
     "data": {
      "text/plain": [
       "<matplotlib.collections.PathCollection at 0x14984f0bddc0>"
      ]
     },
     "execution_count": 17,
     "metadata": {},
     "output_type": "execute_result"
    },
    {
     "data": {
      "image/png": "[encoded data removed]",
      "text/plain": [
       "<Figure size 640x480 with 1 Axes>"
      ]
     },
     "metadata": {},
     "output_type": "display_data"
    }
   ],
   "source": [
    "import matplotlib.pyplot as plt\n",
    "plt.figure()\n",
    "plt.scatter(features_df['dadi_N0'], targets_df['N0'], c='blue', label='N1')"
   ]
  },
  {
   "cell_type": "code",
   "execution_count": 18,
   "id": "58a46940",
   "metadata": {},
   "outputs": [
    {
     "data": {
      "text/plain": [
       "<matplotlib.collections.PathCollection at 0x14984e31ac00>"
      ]
     },
     "execution_count": 18,
     "metadata": {},
     "output_type": "execute_result"
    },
    {
     "data": {
      "image/png": "[encoded data removed]",
      "text/plain": [
       "<Figure size 640x480 with 1 Axes>"
      ]
     },
     "metadata": {},
     "output_type": "display_data"
    }
   ],
   "source": [
    "import matplotlib.pyplot as plt\n",
    "plt.figure()\n",
    "plt.scatter(features_df['moments_N0'], targets_df['N0'], c='blue', label='N1')"
   ]
  },
  {
   "cell_type": "code",
   "execution_count": 19,
   "id": "ede59542",
   "metadata": {},
   "outputs": [
    {
     "data": {
      "text/plain": [
       "<matplotlib.collections.PathCollection at 0x14984c5d23f0>"
      ]
     },
     "execution_count": 19,
     "metadata": {},
     "output_type": "execute_result"
    },
    {
     "data": {
      "image/png": "[encoded data removed]",
      "text/plain": [
       "<Figure size 640x480 with 1 Axes>"
      ]
     },
     "metadata": {},
     "output_type": "display_data"
    }
   ],
   "source": [
    "import matplotlib.pyplot as plt\n",
    "plt.figure()\n",
    "plt.scatter(features_df['momentsLD_N0'], targets_df['N0'], c='blue', label='N1')"
   ]
  },
  {
   "cell_type": "code",
   "execution_count": 1,
   "id": "0bae14df",
   "metadata": {},
   "outputs": [],
   "source": [
    "import pickle\n",
    "from pathlib import Path\n",
    "from typing import Union, Iterable, Dict, List\n",
    "\n",
    "import pandas as pd\n",
    "import matplotlib.pyplot as plt\n",
    "\n",
    "\n",
    "def plot_estimates_vs_truth_grid(\n",
    "    features_path: Union[str, Path],\n",
    "    targets_path:  Union[str, Path],\n",
    "    *,\n",
    "    tools: Iterable[str] = (\"dadi\", \"moments\", \"momentsLD\"),\n",
    "    params: Iterable[str] | None = None,\n",
    "    figsize_per_panel: tuple[float, float] = (3.0, 3.0),\n",
    "    fig_kw: Dict = None,\n",
    "):\n",
    "    \"\"\"\n",
    "    Draw a grid of scatter‑plots with one panel per (tool, parameter).\n",
    "\n",
    "    Parameters\n",
    "    ----------\n",
    "    features_path, targets_path\n",
    "        Pickles produced by your workflow (`features_df.pkl`, `targets_df.pkl`).\n",
    "    tools\n",
    "        Which tool prefixes to show (must match column prefixes in features_df).\n",
    "    params\n",
    "        Which base parameters (N0, N1, …) to plot.  If None, take the\n",
    "        intersection of all tools' available parameters *and* targets' columns.\n",
    "    figsize_per_panel\n",
    "        Size (width, height) of each subplot in inches.\n",
    "    fig_kw\n",
    "        Extra kwargs to `plt.figure`.\n",
    "\n",
    "    Returns\n",
    "    -------\n",
    "    matplotlib.figure.Figure\n",
    "    \"\"\"\n",
    "    # ------------------ load -----------------------------------------------------------------\n",
    "    features_df: pd.DataFrame = pickle.load(Path(features_path).open(\"rb\"))\n",
    "    targets_df:  pd.DataFrame = pickle.load(Path(targets_path).open(\"rb\"))\n",
    "\n",
    "    # ------------------ infer parameter list -------------------------------------------------\n",
    "    if params is None:\n",
    "        common: set[str] = set(targets_df.columns)\n",
    "        for tool in tools:\n",
    "            has = {c.split(\"_\", 1)[1] for c in features_df.columns if c.startswith(f\"{tool}_\")}\n",
    "            common &= has\n",
    "        if not common:\n",
    "            raise ValueError(\"No common parameters across selected tools & targets.\")\n",
    "        params = sorted(common)\n",
    "\n",
    "    tools = list(tools)\n",
    "    n_rows, n_cols = len(tools), len(params)\n",
    "\n",
    "    fig_kw = fig_kw or {}\n",
    "    fig = plt.figure(figsize=(figsize_per_panel[0] * n_cols,\n",
    "                              figsize_per_panel[1] * n_rows),\n",
    "                     **fig_kw)\n",
    "\n",
    "    for r, tool in enumerate(tools):\n",
    "        for c, p in enumerate(params):\n",
    "            ax = fig.add_subplot(n_rows, n_cols, r * n_cols + c + 1)\n",
    "            x = features_df[f\"{tool}_{p}\"]\n",
    "            y = targets_df[p]\n",
    "            ax.scatter(x, y, s=18, alpha=0.75)\n",
    "            # identity line\n",
    "            lims = [min(x.min(), y.min()), max(x.max(), y.max())]\n",
    "            ax.plot(lims, lims, \"k--\", linewidth=1)\n",
    "            ax.set_aspect(\"equal\", adjustable=\"box\")\n",
    "\n",
    "            if r == 0:\n",
    "                ax.set_title(p)\n",
    "            if c == 0:\n",
    "                ax.set_ylabel(f\"{tool}\\nTrue\")\n",
    "            else:\n",
    "                ax.set_ylabel(\"\")\n",
    "            ax.set_xlabel(\"Estimated\" if r == n_rows - 1 else \"\")\n",
    "\n",
    "    fig.tight_layout()\n",
    "    return fig\n",
    "\n"
   ]
  },
  {
   "cell_type": "code",
   "execution_count": 2,
   "id": "464370b2",
   "metadata": {},
   "outputs": [
    {
     "ename": "ValueError",
     "evalue": "No common parameters across selected tools & targets.",
     "output_type": "error",
     "traceback": [
      "\u001b[0;31m---------------------------------------------------------------------------\u001b[0m",
      "\u001b[0;31mValueError\u001b[0m                                Traceback (most recent call last)",
      "Cell \u001b[0;32mIn[2], line 3\u001b[0m\n\u001b[1;32m      1\u001b[0m \u001b[38;5;66;03m# --------------------------------------------------------------------------- #\u001b[39;00m\n\u001b[1;32m      2\u001b[0m \u001b[38;5;66;03m# Example usage (remove or modify when integrating into your codebase):\u001b[39;00m\n\u001b[0;32m----> 3\u001b[0m fig \u001b[38;5;241m=\u001b[39m \u001b[43mplot_estimates_vs_truth_grid\u001b[49m\u001b[43m(\u001b[49m\n\u001b[1;32m      4\u001b[0m \u001b[43m    \u001b[49m\u001b[38;5;124;43m\"\u001b[39;49m\u001b[38;5;124;43m/projects/kernlab/akapoor/Infer_Demography/experiments/split_isolation/modeling/features_df.pkl\u001b[39;49m\u001b[38;5;124;43m\"\u001b[39;49m\u001b[43m,\u001b[49m\n\u001b[1;32m      5\u001b[0m \u001b[43m    \u001b[49m\u001b[38;5;124;43m\"\u001b[39;49m\u001b[38;5;124;43m/projects/kernlab/akapoor/Infer_Demography/experiments/split_isolation/modeling/targets_df.pkl\u001b[39;49m\u001b[38;5;124;43m\"\u001b[39;49m\u001b[43m,\u001b[49m\n\u001b[1;32m      6\u001b[0m \u001b[43m)\u001b[49m\n\u001b[1;32m      7\u001b[0m fig\u001b[38;5;241m.\u001b[39mshow()\n",
      "Cell \u001b[0;32mIn[1], line 50\u001b[0m, in \u001b[0;36mplot_estimates_vs_truth_grid\u001b[0;34m(features_path, targets_path, tools, params, figsize_per_panel, fig_kw)\u001b[0m\n\u001b[1;32m     48\u001b[0m         common \u001b[38;5;241m&\u001b[39m\u001b[38;5;241m=\u001b[39m has\n\u001b[1;32m     49\u001b[0m     \u001b[38;5;28;01mif\u001b[39;00m \u001b[38;5;129;01mnot\u001b[39;00m common:\n\u001b[0;32m---> 50\u001b[0m         \u001b[38;5;28;01mraise\u001b[39;00m \u001b[38;5;167;01mValueError\u001b[39;00m(\u001b[38;5;124m\"\u001b[39m\u001b[38;5;124mNo common parameters across selected tools & targets.\u001b[39m\u001b[38;5;124m\"\u001b[39m)\n\u001b[1;32m     51\u001b[0m     params \u001b[38;5;241m=\u001b[39m \u001b[38;5;28msorted\u001b[39m(common)\n\u001b[1;32m     53\u001b[0m tools \u001b[38;5;241m=\u001b[39m \u001b[38;5;28mlist\u001b[39m(tools)\n",
      "\u001b[0;31mValueError\u001b[0m: No common parameters across selected tools & targets."
     ]
    }
   ],
   "source": [
    "# --------------------------------------------------------------------------- #\n",
    "# Example usage (remove or modify when integrating into your codebase):\n",
    "fig = plot_estimates_vs_truth_grid(\n",
    "    \"/projects/kernlab/akapoor/Infer_Demography/experiments/split_isolation/modeling/features_df.pkl\",\n",
    "    \"/projects/kernlab/akapoor/Infer_Demography/experiments/split_isolation/modeling/targets_df.pkl\",\n",
    ")\n",
    "fig.show()\n"
   ]
  },
  {
   "cell_type": "code",
   "execution_count": 7,
   "id": "9a2348d1",
   "metadata": {},
   "outputs": [],
   "source": [
    "with open('/home/akapoor/kernlab/Infer_Demography/experiments/bottleneck/inferences/sim_0/all_inferences.pkl', 'rb') as f:\n",
    "    all_inferences = pickle.load(f)"
   ]
  },
  {
   "cell_type": "code",
   "execution_count": 8,
   "id": "07b044a7",
   "metadata": {},
   "outputs": [
    {
     "data": {
      "text/plain": [
       "{'moments': {'best_params': [{'N0': 9481.003664497039,\n",
       "    'N_bottleneck': 1318.08079190033,\n",
       "    'N_recover': 10750.2739136192,\n",
       "    't_bottleneck_start': 1704.418022556448,\n",
       "    't_bottleneck_end': 1349.2325573980834}],\n",
       "  'best_lls': [121.3273581738431]},\n",
       " 'dadi': {'best_params': [{'N0': 9481.003664497039,\n",
       "    'N_bottleneck': 1318.08079190033,\n",
       "    'N_recover': 9696.35814688548,\n",
       "    't_bottleneck_start': 2057.5929262416744,\n",
       "    't_bottleneck_end': 1700.0}],\n",
       "  'best_lls': [-112.87290080218736]},\n",
       " 'momentsLD': {'best_params': {'N_bottleneck': 12496728.818110188,\n",
       "   'N_recover': 7199.032213983785,\n",
       "   't_bottleneck_start': 22033.820875747195,\n",
       "   't_bottleneck_end': 11989.194438621782,\n",
       "   'N0': 9481.003664497039},\n",
       "  'best_lls': 451.8965469040465}}"
      ]
     },
     "execution_count": 8,
     "metadata": {},
     "output_type": "execute_result"
    }
   ],
   "source": [
    "all_inferences"
   ]
  },
  {
   "cell_type": "code",
   "execution_count": 1,
   "id": "0eb8cafc",
   "metadata": {},
   "outputs": [],
   "source": [
    "import pickle\n",
    "import matplotlib.pyplot as plt\n",
    "with open('/home/akapoor/kernlab/Infer_Demography/debugging_experiments/split_migration/inferences/sim_0/Moments/best_fit.pkl', 'rb') as f:\n",
    "    best_fit = pickle.load(f)\n",
    "\n",
    "with open('/home/akapoor/kernlab/Infer_Demography/debugging_experiments/split_migration/simulations/0/sampled_params.pkl', 'rb') as f:\n",
    "    sampled_params = pickle.load(f)"
   ]
  },
  {
   "cell_type": "code",
   "execution_count": 2,
   "id": "c4e8ed53",
   "metadata": {},
   "outputs": [
    {
     "data": {
      "text/plain": [
       "{'best_params': {'N_ANC': 16890.4656029697,\n",
       "  'N1': 6588.020251708551,\n",
       "  'N2': 28109.483608963837,\n",
       "  'T': 7968.033879213617,\n",
       "  'm12': 7.327413515767458e-05,\n",
       "  'm21': 7.000929248348781e-05},\n",
       " 'best_ll': 1606433.4015414761,\n",
       " 'status': 3}"
      ]
     },
     "execution_count": 2,
     "metadata": {},
     "output_type": "execute_result"
    }
   ],
   "source": [
    "best_fit"
   ]
  },
  {
   "cell_type": "code",
   "execution_count": 3,
   "id": "acfd50ff",
   "metadata": {},
   "outputs": [
    {
     "data": {
      "text/plain": [
       "{'N0': 16841.16284492997,\n",
       " 'N1': 5958.309349156618,\n",
       " 'N2': 28445.7364679629,\n",
       " 'm12': 9.759970351706788e-05,\n",
       " 'm21': 6.196811228818695e-05,\n",
       " 't_split': 8161.930727838847}"
      ]
     },
     "execution_count": 3,
     "metadata": {},
     "output_type": "execute_result"
    }
   ],
   "source": [
    "sampled_params"
   ]
  },
  {
   "cell_type": "code",
   "execution_count": 5,
   "id": "b72de079",
   "metadata": {},
   "outputs": [
    {
     "name": "stdout",
     "output_type": "stream",
     "text": [
      "saved /home/akapoor/kernlab/Infer_Demography/debugging_experiments/split_migration/inferences/scatter_all_params_Dadi.png\n"
     ]
    }
   ],
   "source": [
    "import pickle\n",
    "import matplotlib.pyplot as plt\n",
    "from pathlib import Path\n",
    "\n",
    "exp_root = Path(\"/home/akapoor/kernlab/Infer_Demography/debugging_experiments/split_migration\")\n",
    "mode = \"Dadi\"   # or \"Dadi\"\n",
    "num_reps = 10      # number of replicate directories\n",
    "\n",
    "param_names = [\"N_ANC\",\"N1\",\"N2\",\"T\",\"m12\",\"m21\"]\n",
    "true_names  = [\"N0\",\"N1\",\"N2\",\"t_split\",\"m12\",\"m21\"]\n",
    "\n",
    "# Collect fitted and true parameters\n",
    "fitted_all = {p: [] for p in param_names}\n",
    "true_all   = {p: [] for p in param_names}\n",
    "\n",
    "for rep in range(num_reps):\n",
    "    best_path = exp_root / f\"inferences/sim_{rep}/{mode}/best_fit.pkl\"\n",
    "    true_path = exp_root / f\"simulations/{rep}/sampled_params.pkl\"\n",
    "\n",
    "    if not (best_path.exists() and true_path.exists()):\n",
    "        print(f\"rep {rep} missing — skipping\")\n",
    "        continue\n",
    "\n",
    "    best_fit = pickle.loads(best_path.read_bytes())\n",
    "    sampled  = pickle.loads(true_path.read_bytes())\n",
    "\n",
    "    for p, tp in zip(param_names,true_names):\n",
    "        fitted_all[p].append(best_fit[\"best_params\"][p])\n",
    "        true_all[p].append(sampled[tp])\n",
    "\n",
    "# Make scatterplots: one panel per parameter\n",
    "fig, axes = plt.subplots(2,3,figsize=(12,8),dpi=150,constrained_layout=True)\n",
    "axes = axes.ravel()\n",
    "\n",
    "for i,p in enumerate(param_names):\n",
    "    ax = axes[i]\n",
    "    ax.scatter(true_all[p], fitted_all[p], s=20, alpha=0.7)\n",
    "    # 1:1 reference line\n",
    "    mn = min(true_all[p] + fitted_all[p])\n",
    "    mx = max(true_all[p] + fitted_all[p])\n",
    "    ax.plot([mn,mx],[mn,mx], \"r--\", lw=1)\n",
    "    ax.set_xscale(\"log\"); ax.set_yscale(\"log\")\n",
    "    ax.set_xlabel(f\"True {p}\")\n",
    "    ax.set_ylabel(f\"Fitted {p}\")\n",
    "    ax.set_title(p)\n",
    "\n",
    "plt.suptitle(f\"{mode} – fitted vs true across {num_reps} simulations\", fontsize=14)\n",
    "out = exp_root / f\"inferences/scatter_all_params_{mode}.png\"\n",
    "plt.savefig(out)\n",
    "plt.close()\n",
    "print(f\"saved {out}\")\n"
   ]
  },
  {
   "cell_type": "code",
   "execution_count": null,
   "id": "5e375133",
   "metadata": {},
   "outputs": [],
   "source": []
  }
 ],
 "metadata": {
  "kernelspec": {
   "display_name": "snakemake-env",
   "language": "python",
   "name": "python3"
  },
  "language_info": {
   "codemirror_mode": {
    "name": "ipython",
    "version": 3
   },
   "file_extension": ".py",
   "mimetype": "text/x-python",
   "name": "python",
   "nbconvert_exporter": "python",
   "pygments_lexer": "ipython3",
   "version": "3.12.5"
  }
 },
 "nbformat": 4,
 "nbformat_minor": 5
}
