{
 "cells": [
  {
   "cell_type": "markdown",
   "id": "2654a0d3",
   "metadata": {},
   "source": [
    "# Inspecting Output"
   ]
  },
  {
   "cell_type": "code",
   "execution_count": 6,
   "id": "d5df6ae5",
   "metadata": {},
   "outputs": [],
   "source": [
    "import pickle"
   ]
  },
  {
   "cell_type": "markdown",
   "id": "5dd81f62",
   "metadata": {},
   "source": [
    "## SFS"
   ]
  },
  {
   "cell_type": "code",
   "execution_count": 9,
   "id": "380996b9",
   "metadata": {},
   "outputs": [],
   "source": [
    "with open('/sietch_colab/akapoor/Infer_Demography/data/split_migration_SFS.pkl', 'rb') as f:\n",
    "    sfs = pickle.load(f)"
   ]
  },
  {
   "cell_type": "code",
   "execution_count": 10,
   "id": "85946672",
   "metadata": {},
   "outputs": [
    {
     "data": {
      "text/plain": [
       "Spectrum([[-- 233.0 55.0 23.0 29.0 14.0 9.0 3.0 0.0 0.0 0.0 3.0 0.0 0.0 0.0 0.0\n",
       "  0.0 0.0 0.0 0.0 0.0]\n",
       " [333.0 93.0 68.0 26.0 19.0 13.0 13.0 8.0 1.0 1.0 0.0 0.0 0.0 0.0 0.0 0.0\n",
       "  0.0 0.0 0.0 0.0 0.0]\n",
       " [107.0 56.0 49.0 36.0 9.0 18.0 7.0 2.0 4.0 9.0 0.0 1.0 1.0 0.0 0.0 0.0\n",
       "  0.0 0.0 0.0 0.0 0.0]\n",
       " [48.0 49.0 35.0 25.0 29.0 15.0 13.0 1.0 4.0 5.0 1.0 1.0 0.0 2.0 0.0 0.0\n",
       "  0.0 0.0 0.0 0.0 0.0]\n",
       " [30.0 19.0 29.0 31.0 11.0 18.0 11.0 7.0 5.0 4.0 6.0 0.0 2.0 2.0 1.0 0.0\n",
       "  0.0 0.0 0.0 0.0 0.0]\n",
       " [7.0 6.0 19.0 13.0 19.0 16.0 13.0 15.0 6.0 3.0 3.0 7.0 5.0 3.0 5.0 0.0\n",
       "  0.0 0.0 0.0 0.0 0.0]\n",
       " [2.0 13.0 7.0 4.0 4.0 18.0 15.0 24.0 5.0 9.0 6.0 1.0 3.0 0.0 2.0 0.0 3.0\n",
       "  0.0 0.0 0.0 0.0]\n",
       " [2.0 6.0 4.0 6.0 3.0 22.0 16.0 17.0 4.0 8.0 6.0 9.0 6.0 0.0 0.0 0.0 1.0\n",
       "  0.0 0.0 0.0 0.0]\n",
       " [1.0 0.0 2.0 1.0 4.0 10.0 3.0 4.0 2.0 6.0 3.0 1.0 5.0 0.0 0.0 2.0 0.0\n",
       "  0.0 0.0 0.0 0.0]\n",
       " [0.0 0.0 6.0 5.0 7.0 2.0 2.0 1.0 8.0 13.0 6.0 7.0 4.0 2.0 1.0 3.0 0.0\n",
       "  0.0 2.0 0.0 0.0]\n",
       " [0.0 0.0 1.0 0.0 2.0 2.0 1.0 6.0 4.0 2.0 7.0 7.0 3.0 3.0 0.0 1.0 1.0 2.0\n",
       "  0.0 0.0 0.0]\n",
       " [1.0 0.0 2.0 0.0 3.0 2.0 1.0 2.0 2.0 6.0 2.0 13.0 2.0 3.0 1.0 2.0 2.0\n",
       "  3.0 0.0 0.0 0.0]\n",
       " [0.0 0.0 0.0 0.0 2.0 2.0 0.0 1.0 9.0 0.0 5.0 6.0 3.0 4.0 0.0 6.0 0.0 1.0\n",
       "  2.0 0.0 0.0]\n",
       " [0.0 0.0 0.0 2.0 0.0 0.0 2.0 1.0 3.0 5.0 3.0 5.0 0.0 1.0 6.0 10.0 2.0\n",
       "  2.0 1.0 1.0 0.0]\n",
       " [0.0 0.0 0.0 7.0 2.0 1.0 0.0 2.0 8.0 4.0 5.0 6.0 7.0 9.0 4.0 5.0 3.0 4.0\n",
       "  0.0 4.0 0.0]\n",
       " [0.0 1.0 1.0 0.0 0.0 0.0 3.0 1.0 1.0 0.0 4.0 3.0 3.0 12.0 4.0 3.0 10.0\n",
       "  1.0 4.0 1.0 0.0]\n",
       " [0.0 0.0 0.0 0.0 0.0 0.0 0.0 0.0 10.0 0.0 2.0 0.0 0.0 1.0 1.0 9.0 3.0\n",
       "  12.0 6.0 0.0 2.0]\n",
       " [0.0 0.0 0.0 0.0 0.0 0.0 0.0 0.0 1.0 1.0 3.0 1.0 0.0 1.0 2.0 6.0 10.0\n",
       "  13.0 6.0 12.0 2.0]\n",
       " [0.0 0.0 0.0 0.0 0.0 0.0 0.0 0.0 1.0 0.0 0.0 1.0 2.0 1.0 2.0 3.0 0.0 2.0\n",
       "  2.0 7.0 1.0]\n",
       " [0.0 0.0 0.0 0.0 0.0 0.0 0.0 0.0 0.0 0.0 0.0 0.0 0.0 5.0 0.0 2.0 0.0 2.0\n",
       "  7.0 3.0 12.0]\n",
       " [0.0 0.0 0.0 0.0 0.0 0.0 0.0 0.0 0.0 1.0 0.0 0.0 0.0 1.0 2.0 1.0 0.0 0.0\n",
       "  3.0 12.0 --]], folded=False, pop_ids=['pop0', 'pop1'])"
      ]
     },
     "execution_count": 10,
     "metadata": {},
     "output_type": "execute_result"
    }
   ],
   "source": [
    "sfs"
   ]
  },
  {
   "cell_type": "markdown",
   "id": "e21a2e26",
   "metadata": {},
   "source": [
    "## Moments output"
   ]
  },
  {
   "cell_type": "code",
   "execution_count": 11,
   "id": "876e8784",
   "metadata": {},
   "outputs": [],
   "source": [
    "with open('/sietch_colab/akapoor/Infer_Demography/inferences/moments/split_migration_fit_params.pkl', 'rb') as f:\n",
    "    fit_params = pickle.load(f)"
   ]
  },
  {
   "cell_type": "code",
   "execution_count": 12,
   "id": "a9d221a3",
   "metadata": {},
   "outputs": [],
   "source": [
    "with open('/sietch_colab/akapoor/Infer_Demography/data/split_migration_sampled_params.pkl', 'rb') as f:\n",
    "    sampled_params = pickle.load(f)"
   ]
  },
  {
   "cell_type": "code",
   "execution_count": 13,
   "id": "9323be53",
   "metadata": {},
   "outputs": [
    {
     "data": {
      "text/plain": [
       "{'N0': 10000,\n",
       " 'N1': 5000,\n",
       " 'N2': 5000,\n",
       " 'm12': 0.001,\n",
       " 'm21': 0.001,\n",
       " 't_split': 10000}"
      ]
     },
     "execution_count": 13,
     "metadata": {},
     "output_type": "execute_result"
    }
   ],
   "source": [
    "sampled_params"
   ]
  },
  {
   "cell_type": "code",
   "execution_count": 14,
   "id": "635b7495",
   "metadata": {},
   "outputs": [
    {
     "data": {
      "text/plain": [
       "{'N0': 10022.604927878347,\n",
       " 'N1': 4811.9667993964185,\n",
       " 'N2': 4880.78491365955,\n",
       " 'm12': 0.0009917841707667015,\n",
       " 'm21': 0.0010529040911803468,\n",
       " 't_split': 9396.602920716934}"
      ]
     },
     "execution_count": 14,
     "metadata": {},
     "output_type": "execute_result"
    }
   ],
   "source": [
    "fit_params"
   ]
  },
  {
   "cell_type": "markdown",
   "id": "4feb4c99",
   "metadata": {},
   "source": []
  }
 ],
 "metadata": {
  "kernelspec": {
   "display_name": "snakemake-env",
   "language": "python",
   "name": "python3"
  },
  "language_info": {
   "codemirror_mode": {
    "name": "ipython",
    "version": 3
   },
   "file_extension": ".py",
   "mimetype": "text/x-python",
   "name": "python",
   "nbconvert_exporter": "python",
   "pygments_lexer": "ipython3",
   "version": "3.12.5"
  }
 },
 "nbformat": 4,
 "nbformat_minor": 5
}
