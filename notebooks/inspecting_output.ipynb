{
 "cells": [
  {
   "cell_type": "markdown",
   "id": "2654a0d3",
   "metadata": {},
   "source": [
    "# Inspecting Output"
   ]
  },
  {
   "cell_type": "code",
   "execution_count": 23,
   "id": "d5df6ae5",
   "metadata": {},
   "outputs": [],
   "source": [
    "import pickle"
   ]
  },
  {
   "cell_type": "markdown",
   "id": "5dd81f62",
   "metadata": {},
   "source": [
    "## SFS"
   ]
  },
  {
   "cell_type": "code",
   "execution_count": 24,
   "id": "380996b9",
   "metadata": {},
   "outputs": [],
   "source": [
    "with open('/sietch_colab/akapoor/Infer_Demography/bottleneck/data/bottleneck_SFS.pkl', 'rb') as f:\n",
    "    sfs = pickle.load(f)"
   ]
  },
  {
   "cell_type": "code",
   "execution_count": 25,
   "id": "85946672",
   "metadata": {},
   "outputs": [
    {
     "data": {
      "text/plain": [
       "Spectrum([-- 422.0 223.0 224.0 176.0 102.0 108.0 75.0 84.0 44.0 43.0 38.0 63.0 48.0\n",
       " 42.0 18.0 33.0 33.0 21.0 37.0 --], folded=False, pop_ids=['N0'])"
      ]
     },
     "execution_count": 25,
     "metadata": {},
     "output_type": "execute_result"
    }
   ],
   "source": [
    "sfs"
   ]
  },
  {
   "cell_type": "markdown",
   "id": "e21a2e26",
   "metadata": {},
   "source": [
    "## Moments output"
   ]
  },
  {
   "cell_type": "code",
   "execution_count": 28,
   "id": "876e8784",
   "metadata": {},
   "outputs": [],
   "source": [
    "with open('/sietch_colab/akapoor/Infer_Demography/bottleneck/inferences/moments/bottleneck_fit_params.pkl', 'rb') as f:\n",
    "    fit_params = pickle.load(f)"
   ]
  },
  {
   "cell_type": "code",
   "execution_count": 29,
   "id": "a9d221a3",
   "metadata": {},
   "outputs": [],
   "source": [
    "with open('/sietch_colab/akapoor/Infer_Demography/bottleneck/data/sampled_params.pkl', 'rb') as f:\n",
    "    sampled_params = pickle.load(f)"
   ]
  },
  {
   "cell_type": "code",
   "execution_count": 30,
   "id": "9323be53",
   "metadata": {},
   "outputs": [
    {
     "data": {
      "text/plain": [
       "{'N0': 10000.0,\n",
       " 'N_bottleneck': 2000.0,\n",
       " 'N_recover': 5000.0,\n",
       " 't_bottleneck_start': 300,\n",
       " 't_bottleneck_end': 100}"
      ]
     },
     "execution_count": 30,
     "metadata": {},
     "output_type": "execute_result"
    }
   ],
   "source": [
    "sampled_params"
   ]
  },
  {
   "cell_type": "code",
   "execution_count": 31,
   "id": "635b7495",
   "metadata": {},
   "outputs": [
    {
     "data": {
      "text/plain": [
       "[{'N0': 10000.0,\n",
       "  'N_bottleneck': 2000.0,\n",
       "  'N_recover': 4814.863413334766,\n",
       "  't_bottleneck_start': 282.53943228109597,\n",
       "  't_bottleneck_end': 101.81965245016352,\n",
       "  'loglik': 91.70641751371394},\n",
       " {'N0': 10000.0,\n",
       "  'N_bottleneck': 2000.0,\n",
       "  'N_recover': 4580.456382344627,\n",
       "  't_bottleneck_start': 295.1713205319667,\n",
       "  't_bottleneck_end': 100.03988696241754,\n",
       "  'loglik': 91.70641751371394},\n",
       " {'N0': 10000.0,\n",
       "  'N_bottleneck': 2000.0,\n",
       "  'N_recover': 5020.75243450225,\n",
       "  't_bottleneck_start': 269.4637266675492,\n",
       "  't_bottleneck_end': 103.97308060939703,\n",
       "  'loglik': 91.70641751371394}]"
      ]
     },
     "execution_count": 31,
     "metadata": {},
     "output_type": "execute_result"
    }
   ],
   "source": [
    "fit_params"
   ]
  },
  {
   "cell_type": "markdown",
   "id": "64543738",
   "metadata": {},
   "source": [
    "## Dadi Output"
   ]
  },
  {
   "cell_type": "code",
   "execution_count": 33,
   "id": "5f583796",
   "metadata": {},
   "outputs": [],
   "source": [
    "with open('/sietch_colab/akapoor/Infer_Demography/bottleneck/inferences/dadi/bottleneck_fit_params.pkl', 'rb') as f:\n",
    "    dadi_fit_params = pickle.load(f)"
   ]
  },
  {
   "cell_type": "code",
   "execution_count": 34,
   "id": "8df80fe3",
   "metadata": {},
   "outputs": [
    {
     "data": {
      "text/plain": [
       "[{'N0': 10000.0,\n",
       "  'N_bottleneck': 2000.0,\n",
       "  'N_recover': 4814.863413334769,\n",
       "  't_bottleneck_start': 282.5394322810959,\n",
       "  't_bottleneck_end': 101.81965245016355,\n",
       "  'loglik': 9921.520456658549},\n",
       " {'N0': 10000.0,\n",
       "  'N_bottleneck': 2000.0,\n",
       "  'N_recover': 4874.666665077564,\n",
       "  't_bottleneck_start': 288.33268504746843,\n",
       "  't_bottleneck_end': 102.40508102020912,\n",
       "  'loglik': 9921.520456658549},\n",
       " {'N0': 10000.0,\n",
       "  'N_bottleneck': 2000.0,\n",
       "  'N_recover': 4780.135965747534,\n",
       "  't_bottleneck_start': 311.7612838315182,\n",
       "  't_bottleneck_end': 113.75445442887344,\n",
       "  'loglik': 9921.520456658549}]"
      ]
     },
     "execution_count": 34,
     "metadata": {},
     "output_type": "execute_result"
    }
   ],
   "source": [
    "dadi_fit_params"
   ]
  },
  {
   "cell_type": "markdown",
   "id": "ed12d9b0",
   "metadata": {},
   "source": [
    "## Stdpopsim Integration"
   ]
  },
  {
   "cell_type": "code",
   "execution_count": 7,
   "id": "03ab27c9",
   "metadata": {},
   "outputs": [],
   "source": [
    "import stdpopsim\n",
    "species = stdpopsim.get_species(\"DroMel\")\n",
    "model = species.get_demographic_model(\"OutOfAfrica_2L06\")"
   ]
  },
  {
   "cell_type": "code",
   "execution_count": 36,
   "id": "6a30a3d2",
   "metadata": {},
   "outputs": [
    {
     "name": "stdout",
     "output_type": "stream",
     "text": [
      "1720600.0\n",
      "8603000.0\n",
      "2200\n",
      "1075000.0\n",
      "600000\n",
      "158000\n",
      "154600\n"
     ]
    }
   ],
   "source": [
    "print(model.model.events[2].initial_size) # Ancestral population size\n",
    "print(model.model.populations[0].initial_size) # Post expansion African population size\n",
    "print(model.model.events[0].initial_size) # European bottleneck pop size\n",
    "print(model.model.populations[1].initial_size) # Modern European population size\n",
    "print(model.model.events[2].time) # Expansion of population in Africa\n",
    "print(model.model.events[1].time) # African-European Divergence\n",
    "print(model.model.events[0].time) # European population expansion|\n",
    "\n",
    "\n"
   ]
  },
  {
   "cell_type": "code",
   "execution_count": 29,
   "id": "eb375289",
   "metadata": {},
   "outputs": [
    {
     "data": {
      "text/plain": [
       "[PopulationParametersChange(time=154600, initial_size=2200, growth_rate=None, population=1),\n",
       " MassMigration(time=158000, source=1, dest=0, proportion=1.0),\n",
       " PopulationParametersChange(time=600000, initial_size=1720600.0, growth_rate=None, population=0)]"
      ]
     },
     "execution_count": 29,
     "metadata": {},
     "output_type": "execute_result"
    }
   ],
   "source": [
    "model.model.events"
   ]
  },
  {
   "cell_type": "code",
   "execution_count": 3,
   "id": "a984f7bf",
   "metadata": {},
   "outputs": [],
   "source": [
    "model.model.populations[0].initial_size = 10"
   ]
  },
  {
   "cell_type": "code",
   "execution_count": 4,
   "id": "f50ca646",
   "metadata": {},
   "outputs": [
    {
     "name": "stdout",
     "output_type": "stream",
     "text": [
      "Population(initial_size=10, growth_rate=0, name='Mallard', description='Wild North American mallards', extra_metadata={}, default_sampling_time=None, initially_active=None, id=0)\n"
     ]
    }
   ],
   "source": [
    "print(model.model.populations[0])\n"
   ]
  },
  {
   "cell_type": "code",
   "execution_count": 20,
   "id": "533b3bde",
   "metadata": {},
   "outputs": [
    {
     "data": {
      "text/plain": [
       "array([[0.00000000e+00, 1.72048784e-06, 0.00000000e+00],\n",
       "       [1.72048784e-06, 0.00000000e+00, 0.00000000e+00],\n",
       "       [0.00000000e+00, 0.00000000e+00, 0.00000000e+00]])"
      ]
     },
     "execution_count": 20,
     "metadata": {},
     "output_type": "execute_result"
    }
   ],
   "source": [
    "model.model.migration_matrix"
   ]
  },
  {
   "cell_type": "code",
   "execution_count": 37,
   "id": "31bd95e9",
   "metadata": {},
   "outputs": [],
   "source": [
    "a = model.model.to_demes()"
   ]
  },
  {
   "cell_type": "code",
   "execution_count": 38,
   "id": "c92deeee",
   "metadata": {},
   "outputs": [
    {
     "data": {
      "text/plain": [
       "Graph(description='', time_units='generations', generation_time=1, doi=[], metadata={}, demes=[Deme(name='AFR', description='African D. melanogaster population', start_time=inf, ancestors=[], proportions=[], epochs=[Epoch(start_time=inf, end_time=600000, start_size=1720600.0, end_size=1720600.0, size_function='constant', selfing_rate=0, cloning_rate=0), Epoch(start_time=600000, end_time=0, start_size=8603000.0, end_size=8603000.0, size_function='constant', selfing_rate=0, cloning_rate=0)]), Deme(name='EUR', description='European D. melanogaster population', start_time=158000, ancestors=['AFR'], proportions=[1.0], epochs=[Epoch(start_time=158000, end_time=154600, start_size=2200, end_size=2200, size_function='constant', selfing_rate=0, cloning_rate=0), Epoch(start_time=154600, end_time=0, start_size=1075000.0, end_size=1075000.0, size_function='constant', selfing_rate=0, cloning_rate=0)])], migrations=[], pulses=[])"
      ]
     },
     "execution_count": 38,
     "metadata": {},
     "output_type": "execute_result"
    }
   ],
   "source": [
    "a"
   ]
  },
  {
   "cell_type": "code",
   "execution_count": null,
   "id": "cadd3866",
   "metadata": {},
   "outputs": [
    {
     "data": {
      "text/plain": [
       "[Population(initial_size=10000, growth_rate=0.0, name='YRI', description='1000 Genomes YRI (Yoruba)', extra_metadata={'id': 'YRI', 'sampling_time': 0}, default_sampling_time=0, initially_active=None, id=0),\n",
       " Population(initial_size=10000, growth_rate=0.0, name='CEU', description='1000 Genomes CEU (Utah Residents (CEPH) with Northern and Western European Ancestry)', extra_metadata={'id': 'CEU', 'sampling_time': 0}, default_sampling_time=0, initially_active=None, id=1),\n",
       " Population(initial_size=10000, growth_rate=0.0, name='NEA', description='Neandertals', extra_metadata={'id': 'NEA', 'sampling_time': 0}, default_sampling_time=0, initially_active=None, id=2)]"
      ]
     },
     "execution_count": 24,
     "metadata": {},
     "output_type": "execute_result"
    }
   ],
   "source": [
    "model.populations"
   ]
  },
  {
   "cell_type": "code",
   "execution_count": 31,
   "id": "9a3ff67f",
   "metadata": {},
   "outputs": [
    {
     "data": {
      "text/plain": [
       "<bound method Mapping.items of Demography(populations=[Population(initial_size=10000, growth_rate=0.0, name='YRI', description='1000 Genomes YRI (Yoruba)', extra_metadata={'id': 'YRI', 'sampling_time': 0}, default_sampling_time=0, initially_active=None, id=0), Population(initial_size=10000, growth_rate=0.0, name='CEU', description='1000 Genomes CEU (Utah Residents (CEPH) with Northern and Western European Ancestry)', extra_metadata={'id': 'CEU', 'sampling_time': 0}, default_sampling_time=0, initially_active=None, id=1), Population(initial_size=10000, growth_rate=0.0, name='NEA', description='Neandertals', extra_metadata={'id': 'NEA', 'sampling_time': 0}, default_sampling_time=0, initially_active=None, id=2)], events=[MigrationRateChange(time=855, rate=0, source=-1, dest=-1), MigrationRateChange(time=856, rate=3.0237561476818266e-07, source=1, dest=2), MigrationRateChange(time=857, rate=3.0941225088385424e-07, source=1, dest=2), MigrationRateChange(time=858, rate=3.165909078218426e-07, source=1, dest=2), MigrationRateChange(time=859, rate=3.239139355800587e-07, source=1, dest=2), MigrationRateChange(time=860, rate=3.3138371193016855e-07, source=1, dest=2), MigrationRateChange(time=861, rate=3.390026425271303e-07, source=1, dest=2), MigrationRateChange(time=862, rate=3.467731610147432e-07, source=1, dest=2), MigrationRateChange(time=863, rate=3.546977291271178e-07, source=1, dest=2), MigrationRateChange(time=864, rate=3.627788367859763e-07, source=1, dest=2), MigrationRateChange(time=865, rate=3.7101900219369423e-07, source=1, dest=2), MigrationRateChange(time=866, rate=3.7942077192199127e-07, source=1, dest=2), MigrationRateChange(time=867, rate=3.8798672099618214e-07, source=1, dest=2), MigrationRateChange(time=868, rate=3.967194529748954e-07, source=1, dest=2), MigrationRateChange(time=869, rate=4.0562160002517094e-07, source=1, dest=2), MigrationRateChange(time=870, rate=4.146958229928455e-07, source=1, dest=2), MigrationRateChange(time=871, rate=4.239448114681343e-07, source=1, dest=2), MigrationRateChange(time=872, rate=4.333712838463207e-07, source=1, dest=2), MigrationRateChange(time=873, rate=4.429779873834619e-07, source=1, dest=2), MigrationRateChange(time=874, rate=4.5276769824702187e-07, source=1, dest=2), MigrationRateChange(time=875, rate=4.627432215613403e-07, source=1, dest=2), MigrationRateChange(time=876, rate=4.7290739144785044e-07, source=1, dest=2), MigrationRateChange(time=877, rate=4.832630710599525e-07, source=1, dest=2), MigrationRateChange(time=878, rate=4.938131526124588e-07, source=1, dest=2), MigrationRateChange(time=879, rate=5.045605574055173e-07, source=1, dest=2), MigrationRateChange(time=880, rate=5.155082358429281e-07, source=1, dest=2), MigrationRateChange(time=881, rate=5.266591674447607e-07, source=1, dest=2), MigrationRateChange(time=882, rate=5.380163608541972e-07, source=1, dest=2), MigrationRateChange(time=883, rate=5.495828538384934e-07, source=1, dest=2), MigrationRateChange(time=884, rate=5.613617132839909e-07, source=1, dest=2), MigrationRateChange(time=885, rate=5.733560351850833e-07, source=1, dest=2), MigrationRateChange(time=886, rate=5.855689446270557e-07, source=1, dest=2), MigrationRateChange(time=887, rate=5.980035957627098e-07, source=1, dest=2), MigrationRateChange(time=888, rate=6.106631717826931e-07, source=1, dest=2), MigrationRateChange(time=889, rate=6.235508848794479e-07, source=1, dest=2), MigrationRateChange(time=890, rate=6.366699762046954e-07, source=1, dest=2), MigrationRateChange(time=891, rate=6.500237158203764e-07, source=1, dest=2), MigrationRateChange(time=892, rate=6.636154026429643e-07, source=1, dest=2), MigrationRateChange(time=893, rate=6.774483643810718e-07, source=1, dest=2), MigrationRateChange(time=894, rate=6.915259574662766e-07, source=1, dest=2), MigrationRateChange(time=895, rate=7.058515669770634e-07, source=1, dest=2), MigrationRateChange(time=896, rate=7.204286065558571e-07, source=1, dest=2), MigrationRateChange(time=897, rate=7.35260518318995e-07, source=1, dest=2), MigrationRateChange(time=898, rate=7.503507727596478e-07, source=1, dest=2), MigrationRateChange(time=899, rate=7.657028686435254e-07, source=1, dest=2), MigrationRateChange(time=900, rate=7.813203328973873e-07, source=1, dest=2), MigrationRateChange(time=901, rate=7.97206720490188e-07, source=1, dest=2), MigrationRateChange(time=902, rate=8.133656143068848e-07, source=1, dest=2), MigrationRateChange(time=903, rate=8.298006250147386e-07, source=1, dest=2), MigrationRateChange(time=904, rate=8.46515390922138e-07, source=1, dest=2), MigrationRateChange(time=905, rate=8.635135778297804e-07, source=1, dest=2), MigrationRateChange(time=906, rate=8.807988788742416e-07, source=1, dest=2), MigrationRateChange(time=907, rate=8.983750143637696e-07, source=1, dest=2), MigrationRateChange(time=908, rate=9.162457316063432e-07, source=1, dest=2), MigrationRateChange(time=909, rate=9.344148047298246e-07, source=1, dest=2), MigrationRateChange(time=910, rate=9.52886034494238e-07, source=1, dest=2), MigrationRateChange(time=911, rate=9.716632480960756e-07, source=1, dest=2), MigrationRateChange(time=912, rate=9.90750298964535e-07, source=1, dest=2), MigrationRateChange(time=913, rate=1.0101510665497303e-06, source=1, dest=2), MigrationRateChange(time=914, rate=1.0298694561026975e-06, source=1, dest=2), MigrationRateChange(time=915, rate=1.0499093984472708e-06, source=1, dest=2), MigrationRateChange(time=916, rate=1.0702748497436476e-06, source=1, dest=2), MigrationRateChange(time=917, rate=1.0909697912437249e-06, source=1, dest=2), MigrationRateChange(time=918, rate=1.1119982290380222e-06, source=1, dest=2), MigrationRateChange(time=919, rate=1.1333641937942861e-06, source=1, dest=2), MigrationRateChange(time=920, rate=1.155071740487587e-06, source=1, dest=2), MigrationRateChange(time=921, rate=1.1771249481220104e-06, source=1, dest=2), MigrationRateChange(time=922, rate=1.199527919443758e-06, source=1, dest=2), MigrationRateChange(time=923, rate=1.2222847806457608e-06, source=1, dest=2), MigrationRateChange(time=924, rate=1.245399681063627e-06, source=1, dest=2), MigrationRateChange(time=925, rate=1.2688767928630295e-06, source=1, dest=2), MigrationRateChange(time=926, rate=1.2927203107183592e-06, source=1, dest=2), MigrationRateChange(time=927, rate=1.3169344514827526e-06, source=1, dest=2), MigrationRateChange(time=928, rate=1.3415234538493236e-06, source=1, dest=2), MigrationRateChange(time=929, rate=1.3664915780037167e-06, source=1, dest=2), MigrationRateChange(time=930, rate=1.3918431052678076e-06, source=1, dest=2), MigrationRateChange(time=931, rate=1.41758233773468e-06, source=1, dest=2), MigrationRateChange(time=932, rate=1.443713597894701e-06, source=1, dest=2), MigrationRateChange(time=933, rate=1.470241228252841e-06, source=1, dest=2), MigrationRateChange(time=934, rate=1.4971695909370487e-06, source=1, dest=2), MigrationRateChange(time=935, rate=1.5245030672978434e-06, source=1, dest=2), MigrationRateChange(time=936, rate=1.5522460574989365e-06, source=1, dest=2), MigrationRateChange(time=937, rate=1.5804029800990473e-06, source=1, dest=2), MigrationRateChange(time=938, rate=1.6089782716247268e-06, source=1, dest=2), MigrationRateChange(time=939, rate=1.6379763861343711e-06, source=1, dest=2), MigrationRateChange(time=940, rate=1.6674017947732291e-06, source=1, dest=2), MigrationRateChange(time=941, rate=1.6972589853195953e-06, source=1, dest=2), MigrationRateChange(time=942, rate=1.7275524617220005e-06, source=1, dest=2), MigrationRateChange(time=943, rate=1.7582867436275964e-06, source=1, dest=2), MigrationRateChange(time=944, rate=1.7894663659015436e-06, source=1, dest=2), MigrationRateChange(time=945, rate=1.8210958781376095e-06, source=1, dest=2), MigrationRateChange(time=946, rate=1.853179844159798e-06, source=1, dest=2), MigrationRateChange(time=947, rate=1.8857228415152084e-06, source=1, dest=2), MigrationRateChange(time=948, rate=1.9187294609579503e-06, source=1, dest=2), MigrationRateChange(time=949, rate=1.952204305924343e-06, source=1, dest=2), MigrationRateChange(time=950, rate=1.9861519919991924e-06, source=1, dest=2), MigrationRateChange(time=951, rate=2.0205771463734044e-06, source=1, dest=2), MigrationRateChange(time=952, rate=2.055484407292735e-06, source=1, dest=2), MigrationRateChange(time=953, rate=2.0908784234979206e-06, source=1, dest=2), MigrationRateChange(time=954, rate=2.1267638536560145e-06, source=1, dest=2), MigrationRateChange(time=955, rate=2.1631453657831694e-06, source=1, dest=2), MigrationRateChange(time=956, rate=2.2000276366586935e-06, source=1, dest=2), MigrationRateChange(time=957, rate=2.2374153512306355e-06, source=1, dest=2), MigrationRateChange(time=958, rate=2.275313202012722e-06, source=1, dest=2), MigrationRateChange(time=959, rate=2.3137258884729166e-06, source=1, dest=2), MigrationRateChange(time=960, rate=2.3526581164134144e-06, source=1, dest=2), MigrationRateChange(time=961, rate=2.3921145973423676e-06, source=1, dest=2), MigrationRateChange(time=962, rate=2.432100047837148e-06, source=1, dest=2), MigrationRateChange(time=963, rate=2.472619188899442e-06, source=1, dest=2), MigrationRateChange(time=964, rate=2.513676745302009e-06, source=1, dest=2), MigrationRateChange(time=965, rate=2.555277444927383e-06, source=1, dest=2), MigrationRateChange(time=966, rate=2.5974260180983753e-06, source=1, dest=2), MigrationRateChange(time=967, rate=2.640127196900604e-06, source=1, dest=2), MigrationRateChange(time=968, rate=2.683385714497077e-06, source=1, dest=2), MigrationRateChange(time=969, rate=2.7272063044347934e-06, source=1, dest=2), MigrationRateChange(time=970, rate=2.771593699943651e-06, source=1, dest=2), MigrationRateChange(time=971, rate=2.8165526332274833e-06, source=1, dest=2), MigrationRateChange(time=972, rate=2.86208783474758e-06, source=1, dest=2), MigrationRateChange(time=973, rate=2.908204032498481e-06, source=1, dest=2), MigrationRateChange(time=974, rate=2.954905951276438e-06, source=1, dest=2), MigrationRateChange(time=975, rate=3.002198311940314e-06, source=1, dest=2), MigrationRateChange(time=976, rate=3.050085830665336e-06, source=1, dest=2), MigrationRateChange(time=977, rate=3.098573218189476e-06, source=1, dest=2), MigrationRateChange(time=978, rate=3.1476651790528607e-06, source=1, dest=2), MigrationRateChange(time=979, rate=3.1973664108300135e-06, source=1, dest=2), MigrationRateChange(time=980, rate=3.247681603355335e-06, source=1, dest=2), MigrationRateChange(time=981, rate=3.298615437941611e-06, source=1, dest=2), MigrationRateChange(time=982, rate=3.3501725865919693e-06, source=1, dest=2), MigrationRateChange(time=983, rate=3.402357711205096e-06, source=1, dest=2), MigrationRateChange(time=984, rate=3.455175462774108e-06, source=1, dest=2), MigrationRateChange(time=985, rate=3.5086304805789155e-06, source=1, dest=2), MigrationRateChange(time=986, rate=3.5627273913724867e-06, source=1, dest=2), MigrationRateChange(time=987, rate=3.617470808560817e-06, source=1, dest=2), MigrationRateChange(time=988, rate=3.6728653313770713e-06, source=1, dest=2), MigrationRateChange(time=989, rate=3.728915544049659e-06, source=1, dest=2), MigrationRateChange(time=990, rate=3.7856260149647383e-06, source=1, dest=2), MigrationRateChange(time=991, rate=3.843001295822921e-06, source=1, dest=2), MigrationRateChange(time=992, rate=3.901045920790663e-06, source=1, dest=2), MigrationRateChange(time=993, rate=3.959764405646129e-06, source=1, dest=2), MigrationRateChange(time=994, rate=4.019161246920009e-06, source=1, dest=2), MigrationRateChange(time=995, rate=4.0792409210310865e-06, source=1, dest=2), MigrationRateChange(time=996, rate=4.140007883417059e-06, source=1, dest=2), MigrationRateChange(time=997, rate=4.201466567660381e-06, source=1, dest=2), MigrationRateChange(time=998, rate=4.2636213846096475e-06, source=1, dest=2), MigrationRateChange(time=999, rate=4.32647672149632e-06, source=1, dest=2), MigrationRateChange(time=1000, rate=4.39003694104728e-06, source=1, dest=2), MigrationRateChange(time=1001, rate=4.45430638059302e-06, source=1, dest=2), MigrationRateChange(time=1002, rate=4.519289351172003e-06, source=1, dest=2), MigrationRateChange(time=1003, rate=4.5849901366309505e-06, source=1, dest=2), MigrationRateChange(time=1004, rate=4.651412992721632e-06, source=1, dest=2), MigrationRateChange(time=1005, rate=4.71856214619389e-06, source=1, dest=2), MigrationRateChange(time=1006, rate=4.786441793885524e-06, source=1, dest=2), MigrationRateChange(time=1007, rate=4.855056101808715e-06, source=1, dest=2), MigrationRateChange(time=1008, rate=4.92440920423366e-06, source=1, dest=2), MigrationRateChange(time=1009, rate=4.994505202769089e-06, source=1, dest=2), MigrationRateChange(time=1010, rate=5.065348165440322e-06, source=1, dest=2), MigrationRateChange(time=1011, rate=5.1369421257645795e-06, source=1, dest=2), MigrationRateChange(time=1012, rate=5.209291081824172e-06, source=1, dest=2), MigrationRateChange(time=1013, rate=5.282398995337296e-06, source=1, dest=2), MigrationRateChange(time=1014, rate=5.356269790727075e-06, source=1, dest=2), MigrationRateChange(time=1015, rate=5.430907354188582e-06, source=1, dest=2), MigrationRateChange(time=1016, rate=5.506315532754453e-06, source=1, dest=2), MigrationRateChange(time=1017, rate=5.582498133358859e-06, source=1, dest=2), MigrationRateChange(time=1018, rate=5.659458921900459e-06, source=1, dest=2), MigrationRateChange(time=1019, rate=5.737201622304059e-06, source=1, dest=2), MigrationRateChange(time=1020, rate=5.815729915581667e-06, source=1, dest=2), MigrationRateChange(time=1021, rate=5.895047438892617e-06, source=1, dest=2), MigrationRateChange(time=1022, rate=5.975157784603464e-06, source=1, dest=2), MigrationRateChange(time=1023, rate=6.056064499347386e-06, source=1, dest=2), MigrationRateChange(time=1024, rate=6.13777108308363e-06, source=1, dest=2), MigrationRateChange(time=1025, rate=6.2202809881571e-06, source=1, dest=2), MigrationRateChange(time=1026, rate=6.303597618358079e-06, source=1, dest=2), MigrationRateChange(time=1027, rate=6.387724327982721e-06, source=1, dest=2), MigrationRateChange(time=1028, rate=6.472664420893999e-06, source=1, dest=2), MigrationRateChange(time=1029, rate=6.558421149583821e-06, source=1, dest=2), MigrationRateChange(time=1030, rate=6.644997714236029e-06, source=1, dest=2), MigrationRateChange(time=1031, rate=6.732397261790972e-06, source=1, dest=2), MigrationRateChange(time=1032, rate=6.820622885011356e-06, source=1, dest=2), MigrationRateChange(time=1033, rate=6.909677621550114e-06, source=1, dest=2), MigrationRateChange(time=1034, rate=6.999564453019937e-06, source=1, dest=2), MigrationRateChange(time=1035, rate=7.090286304065249e-06, source=1, dest=2), MigrationRateChange(time=1036, rate=7.1818460414362805e-06, source=1, dest=2), MigrationRateChange(time=1037, rate=7.274246473065983e-06, source=1, dest=2), MigrationRateChange(time=1038, rate=7.367490347149469e-06, source=1, dest=2), MigrationRateChange(time=1039, rate=7.4615803512267256e-06, source=1, dest=2), MigrationRateChange(time=1040, rate=7.5565191112682595e-06, source=1, dest=2), MigrationRateChange(time=1041, rate=7.652309190764468e-06, source=1, dest=2), MigrationRateChange(time=1042, rate=7.748953089818333e-06, source=1, dest=2), MigrationRateChange(time=1043, rate=7.846453244242289e-06, source=1, dest=2), MigrationRateChange(time=1044, rate=7.944812024658838e-06, source=1, dest=2), MigrationRateChange(time=1045, rate=8.04403173560577e-06, source=1, dest=2), MigrationRateChange(time=1046, rate=8.144114614645547e-06, source=1, dest=2), MigrationRateChange(time=1047, rate=8.245062831479723e-06, source=1, dest=2), MigrationRateChange(time=1048, rate=8.346878487067976e-06, source=1, dest=2), MigrationRateChange(time=1049, rate=8.449563612752584e-06, source=1, dest=2), MigrationRateChange(time=1050, rate=8.553120169387925e-06, source=1, dest=2), MigrationRateChange(time=1051, rate=8.65755004647592e-06, source=1, dest=2), MigrationRateChange(time=1052, rate=8.76285506130685e-06, source=1, dest=2), MigrationRateChange(time=1053, rate=8.869036958106573e-06, source=1, dest=2), MigrationRateChange(time=1054, rate=8.97609740718957e-06, source=1, dest=2), MigrationRateChange(time=1055, rate=9.08403800411877e-06, source=1, dest=2), MigrationRateChange(time=1056, rate=9.192860268871671e-06, source=1, dest=2), MigrationRateChange(time=1057, rate=9.302565645013657e-06, source=1, dest=2), MigrationRateChange(time=1058, rate=9.413155498878008e-06, source=1, dest=2), MigrationRateChange(time=1059, rate=9.524631118753558e-06, source=1, dest=2), MigrationRateChange(time=1060, rate=9.636993714079476e-06, source=1, dest=2), MigrationRateChange(time=1061, rate=9.750244414648092e-06, source=1, dest=2), MigrationRateChange(time=1062, rate=9.864384269815272e-06, source=1, dest=2), MigrationRateChange(time=1063, rate=9.97941424771927e-06, source=1, dest=2), MigrationRateChange(time=1064, rate=1.0095335234507528e-05, source=1, dest=2), MigrationRateChange(time=1065, rate=1.021214803357239e-05, source=1, dest=2), MigrationRateChange(time=1066, rate=1.032985336479515e-05, source=1, dest=2), MigrationRateChange(time=1067, rate=1.044845186379944e-05, source=1, dest=2), MigrationRateChange(time=1068, rate=1.0567944081213376e-05, source=1, dest=2), MigrationRateChange(time=1069, rate=1.0688330481941412e-05, source=1, dest=2), MigrationRateChange(time=1070, rate=1.0809611444445396e-05, source=1, dest=2), MigrationRateChange(time=1071, rate=1.0931787260035713e-05, source=1, dest=2), MigrationRateChange(time=1072, rate=1.1054858132172036e-05, source=1, dest=2), MigrationRateChange(time=1073, rate=1.1178824175774566e-05, source=1, dest=2), MigrationRateChange(time=1074, rate=1.130368541654524e-05, source=1, dest=2), MigrationRateChange(time=1075, rate=1.1429441790299893e-05, source=1, dest=2), MigrationRateChange(time=1076, rate=1.1556093142310697e-05, source=1, dest=2), MigrationRateChange(time=1077, rate=1.1683639226659967e-05, source=1, dest=2), MigrationRateChange(time=1078, rate=1.1812079705604646e-05, source=1, dest=2), MigrationRateChange(time=1079, rate=1.194141414895252e-05, source=1, dest=2), MigrationRateChange(time=1080, rate=1.2071642033449476e-05, source=1, dest=2), MigrationRateChange(time=1081, rate=1.2202762742178787e-05, source=1, dest=2), MigrationRateChange(time=1082, rate=1.2334775563972118e-05, source=1, dest=2), MigrationRateChange(time=1083, rate=1.2467679692832429e-05, source=1, dest=2), MigrationRateChange(time=1084, rate=1.2601474227369378e-05, source=1, dest=2), MigrationRateChange(time=1085, rate=1.2736158170246746e-05, source=1, dest=2), MigrationRateChange(time=1086, rate=1.2871730427642845e-05, source=1, dest=2), MigrationRateChange(time=1087, rate=1.3008189808723192e-05, source=1, dest=2), MigrationRateChange(time=1088, rate=1.3145535025126562e-05, source=1, dest=2), MigrationRateChange(time=1089, rate=1.3283764690463648e-05, source=1, dest=2), MigrationRateChange(time=1090, rate=1.3422877319829395e-05, source=1, dest=2), MigrationRateChange(time=1091, rate=1.3562871329328306e-05, source=1, dest=2), MigrationRateChange(time=1092, rate=1.3703745035613741e-05, source=1, dest=2), MigrationRateChange(time=1093, rate=1.3845496655440468e-05, source=1, dest=2), MigrationRateChange(time=1094, rate=1.3988124305231594e-05, source=1, dest=2), MigrationRateChange(time=1095, rate=1.413162600065897e-05, source=1, dest=2), MigrationRateChange(time=1096, rate=1.4275999656238336e-05, source=1, dest=2), MigrationRateChange(time=1097, rate=1.4421243084938244e-05, source=1, dest=2), MigrationRateChange(time=1098, rate=1.4567353997803962e-05, source=1, dest=2), MigrationRateChange(time=1099, rate=1.4714330003595482e-05, source=1, dest=2), MigrationRateChange(time=1100, rate=1.4862168608440783e-05, source=1, dest=2), MigrationRateChange(time=1101, rate=1.501086721550349e-05, source=1, dest=2), MigrationRateChange(time=1102, rate=1.5160423124666004e-05, source=1, dest=2), MigrationRateChange(time=1103, rate=1.5310833532227372e-05, source=1, dest=2), MigrationRateChange(time=1104, rate=1.546209553061679e-05, source=1, dest=2), MigrationRateChange(time=1105, rate=1.5614206108122184e-05, source=1, dest=2), MigrationRateChange(time=1106, rate=1.5767162148634658e-05, source=1, dest=2), MigrationRateChange(time=1107, rate=1.5920960431408157e-05, source=1, dest=2), MigrationRateChange(time=1108, rate=1.607559763083541e-05, source=1, dest=2), MigrationRateChange(time=1109, rate=1.6231070316239147e-05, source=1, dest=2), MigrationRateChange(time=1110, rate=1.638737495167991e-05, source=1, dest=2), MigrationRateChange(time=1111, rate=1.6544507895779334e-05, source=1, dest=2), MigrationRateChange(time=1112, rate=1.6702465401560183e-05, source=1, dest=2), MigrationRateChange(time=1113, rate=1.6861243616302177e-05, source=1, dest=2), MigrationRateChange(time=1114, rate=1.7020838581414625e-05, source=1, dest=2), MigrationRateChange(time=1115, rate=1.71812462323251e-05, source=1, dest=2), MigrationRateChange(time=1116, rate=1.734246239838515e-05, source=1, dest=2), MigrationRateChange(time=1117, rate=1.750448280279212e-05, source=1, dest=2), MigrationRateChange(time=1118, rate=1.766730306252825e-05, source=1, dest=2), MigrationRateChange(time=1119, rate=1.7830918688316085e-05, source=1, dest=2), MigrationRateChange(time=1120, rate=1.7995325084591177e-05, source=1, dest=2), MigrationRateChange(time=1121, rate=1.8160517549491347e-05, source=1, dest=2), MigrationRateChange(time=1122, rate=1.8326491274863367e-05, source=1, dest=2), MigrationRateChange(time=1123, rate=1.8493241346286313e-05, source=1, dest=2), MigrationRateChange(time=1124, rate=1.8660762743112503e-05, source=1, dest=2), MigrationRateChange(time=1125, rate=1.8829050338525112e-05, source=1, dest=2), MigrationRateChange(time=1126, rate=1.899809889961362e-05, source=1, dest=2), MigrationRateChange(time=1127, rate=1.916790308746599e-05, source=1, dest=2), MigrationRateChange(time=1128, rate=1.933845745727871e-05, source=1, dest=2), MigrationRateChange(time=1129, rate=1.950975645848373e-05, source=1, dest=2), MigrationRateChange(time=1130, rate=1.968179443489332e-05, source=1, dest=2), MigrationRateChange(time=1131, rate=1.9854565624861876e-05, source=1, dest=2), MigrationRateChange(time=1132, rate=2.002806416146574e-05, source=1, dest=2), MigrationRateChange(time=1133, rate=2.0202284072700026e-05, source=1, dest=2), MigrationRateChange(time=1134, rate=2.0377219281693455e-05, source=1, dest=2), MigrationRateChange(time=1135, rate=2.055286360694029e-05, source=1, dest=2), MigrationRateChange(time=1136, rate=2.072921076255033e-05, source=1, dest=2), MigrationRateChange(time=1137, rate=2.0906254358516013e-05, source=1, dest=2), MigrationRateChange(time=1138, rate=2.1083987900997394e-05, source=1, dest=2), MigrationRateChange(time=1139, rate=2.1262404792624795e-05, source=1, dest=2), MigrationRateChange(time=1140, rate=2.144149833281865e-05, source=1, dest=2), MigrationRateChange(time=1141, rate=2.1621261718127478e-05, source=1, dest=2), MigrationRateChange(time=1142, rate=2.1801688042582876e-05, source=1, dest=2), MigrationRateChange(time=1143, rate=2.1982770298072612e-05, source=1, dest=2), MigrationRateChange(time=1144, rate=2.2164501374730795e-05, source=1, dest=2), MigrationRateChange(time=1145, rate=2.2346874061346026e-05, source=1, dest=2), MigrationRateChange(time=1146, rate=2.252988104578658e-05, source=1, dest=2), MigrationRateChange(time=1147, rate=2.27135149154436e-05, source=1, dest=2), MigrationRateChange(time=1148, rate=2.289776815769118e-05, source=1, dest=2), MigrationRateChange(time=1149, rate=2.3082633160364416e-05, source=1, dest=2), MigrationRateChange(time=1150, rate=2.3268102212254284e-05, source=1, dest=2), MigrationRateChange(time=1151, rate=2.345416750362042e-05, source=1, dest=2), MigrationRateChange(time=1152, rate=2.3640821126720567e-05, source=1, dest=2), MigrationRateChange(time=1153, rate=2.3828055076357913e-05, source=1, dest=2), MigrationRateChange(time=1154, rate=2.401586125044492e-05, source=1, dest=2), MigrationRateChange(time=1155, rate=2.4204231450584966e-05, source=1, dest=2), MigrationRateChange(time=1156, rate=2.439315738267038e-05, source=1, dest=2), MigrationRateChange(time=1157, rate=2.458263065749807e-05, source=1, dest=2), MigrationRateChange(time=1158, rate=2.477264279140152e-05, source=1, dest=2), MigrationRateChange(time=1159, rate=2.4963185206900148e-05, source=1, dest=2), MigrationRateChange(time=1160, rate=2.515424923336492e-05, source=1, dest=2), MigrationRateChange(time=1161, rate=2.5345826107701217e-05, source=1, dest=2), MigrationRateChange(time=1162, rate=2.5537906975047643e-05, source=1, dest=2), MigrationRateChange(time=1163, rate=2.5730482889492077e-05, source=1, dest=2), MigrationRateChange(time=1164, rate=2.592354481480337e-05, source=1, dest=2), MigrationRateChange(time=1165, rate=2.6117083625180152e-05, source=1, dest=2), MigrationRateChange(time=1166, rate=2.6311090106015083e-05, source=1, dest=2), MigrationRateChange(time=1167, rate=2.6505554954675964e-05, source=1, dest=2), MigrationRateChange(time=1168, rate=2.6700468781302173e-05, source=1, dest=2), MigrationRateChange(time=1169, rate=2.689582210961764e-05, source=1, dest=2), MigrationRateChange(time=1170, rate=2.7091605377758958e-05, source=1, dest=2), MigrationRateChange(time=1171, rate=2.7287808939119867e-05, source=1, dest=2), MigrationRateChange(time=1172, rate=2.7484423063210515e-05, source=1, dest=2), MigrationRateChange(time=1173, rate=2.768143793653292e-05, source=1, dest=2), MigrationRateChange(time=1174, rate=2.7878843663470993e-05, source=1, dest=2), MigrationRateChange(time=1175, rate=2.8076630267196354e-05, source=1, dest=2), MigrationRateChange(time=1176, rate=2.8274787690588642e-05, source=1, dest=2), MigrationRateChange(time=1177, rate=2.847330579717115e-05, source=1, dest=2), MigrationRateChange(time=1178, rate=2.86721743720608e-05, source=1, dest=2), MigrationRateChange(time=1179, rate=2.887138312293313e-05, source=1, dest=2), MigrationRateChange(time=1180, rate=2.907092168100126e-05, source=1, dest=2), MigrationRateChange(time=1181, rate=2.92707796020097e-05, source=1, dest=2), MigrationRateChange(time=1182, rate=2.9470946367241683e-05, source=1, dest=2), MigrationRateChange(time=1183, rate=2.9671411384541112e-05, source=1, dest=2), MigrationRateChange(time=1184, rate=2.9872163989347707e-05, source=1, dest=2), MigrationRateChange(time=1185, rate=3.0073193445746443e-05, source=1, dest=2), MigrationRateChange(time=1186, rate=3.027448894752978e-05, source=1, dest=2), MigrationRateChange(time=1187, rate=3.047603961927396e-05, source=1, dest=2), MigrationRateChange(time=1188, rate=3.0677834517427714e-05, source=1, dest=2), MigrationRateChange(time=1189, rate=3.087986263141458e-05, source=1, dest=2), MigrationRateChange(time=1190, rate=3.108211288474745e-05, source=1, dest=2), MigrationRateChange(time=1191, rate=3.128457413615627e-05, source=1, dest=2), MigrationRateChange(time=1192, rate=3.148723518072758e-05, source=1, dest=2), MigrationRateChange(time=1193, rate=3.1690084751056735e-05, source=1, dest=2), MigrationRateChange(time=1194, rate=3.1893111518412154e-05, source=1, dest=2), MigrationRateChange(time=1195, rate=3.209630409391094e-05, source=1, dest=2), MigrationRateChange(time=1196, rate=3.229965102970684e-05, source=1, dest=2), MigrationRateChange(time=1197, rate=3.2503140820188996e-05, source=1, dest=2), MigrationRateChange(time=1198, rate=3.270676190319258e-05, source=1, dest=2), MigrationRateChange(time=1199, rate=3.291050266121982e-05, source=1, dest=2), MigrationRateChange(time=1200, rate=3.311435142267258e-05, source=1, dest=2), MigrationRateChange(time=1201, rate=3.331829646309485e-05, source=1, dest=2), MigrationRateChange(time=1202, rate=3.352232600642635e-05, source=1, dest=2), MigrationRateChange(time=1203, rate=3.372642822626571e-05, source=1, dest=2), MigrationRateChange(time=1204, rate=3.393059124714426e-05, source=1, dest=2), MigrationRateChange(time=1205, rate=3.413480314580899e-05, source=1, dest=2), MigrationRateChange(time=1206, rate=3.433905195251571e-05, source=1, dest=2), MigrationRateChange(time=1207, rate=3.45433256523309e-05, source=1, dest=2), MigrationRateChange(time=1208, rate=3.474761218644329e-05, source=1, dest=2), MigrationRateChange(time=1209, rate=3.4951899453483744e-05, source=1, dest=2), MigrationRateChange(time=1210, rate=3.515617531085448e-05, source=1, dest=2), MigrationRateChange(time=1211, rate=3.536042757606595e-05, source=1, dest=2), MigrationRateChange(time=1212, rate=3.5564644028082695e-05, source=1, dest=2), MigrationRateChange(time=1213, rate=3.576881240867655e-05, source=1, dest=2), MigrationRateChange(time=1214, rate=3.597292042378803e-05, source=1, dest=2), MigrationRateChange(time=1215, rate=3.6176955744894895e-05, source=1, dest=2), MigrationRateChange(time=1216, rate=3.638090601038834e-05, source=1, dest=2), MigrationRateChange(time=1217, rate=3.658475882695571e-05, source=1, dest=2), MigrationRateChange(time=1218, rate=3.678850177097067e-05, source=1, dest=2), MigrationRateChange(time=1219, rate=3.6992122389889145e-05, source=1, dest=2), MigrationRateChange(time=1220, rate=3.719560820365239e-05, source=1, dest=2), MigrationRateChange(time=1221, rate=3.739894670609534e-05, source=1, dest=2), MigrationRateChange(time=1222, rate=3.7602125366361454e-05, source=1, dest=2), MigrationRateChange(time=1223, rate=3.7805131630322515e-05, source=1, dest=2), MigrationRateChange(time=1224, rate=3.800795292200439e-05, source=1, dest=2), MigrationRateChange(time=1225, rate=3.821057664501718e-05, source=1, dest=2), MigrationRateChange(time=1226, rate=3.841299018399092e-05, source=1, dest=2), MigrationRateChange(time=1227, rate=3.8615180906015064e-05, source=1, dest=2), MigrationRateChange(time=1228, rate=3.8817136162083126e-05, source=1, dest=2), MigrationRateChange(time=1229, rate=3.901884328854064e-05, source=1, dest=2), MigrationRateChange(time=1230, rate=3.922028960853751e-05, source=1, dest=2), MigrationRateChange(time=1231, rate=3.94214624334835e-05, source=1, dest=2), MigrationRateChange(time=1232, rate=3.962234906450746e-05, source=1, dest=2), MigrationRateChange(time=1233, rate=3.982293679391906e-05, source=1, dest=2), MigrationRateChange(time=1234, rate=4.002321290667404e-05, source=1, dest=2), MigrationRateChange(time=1235, rate=4.0223164681841214e-05, source=1, dest=2), MigrationRateChange(time=1236, rate=4.0422779394072495e-05, source=1, dest=2), MigrationRateChange(time=1237, rate=4.062204431507436e-05, source=1, dest=2), MigrationRateChange(time=1238, rate=4.0820946715081606e-05, source=1, dest=2), MigrationRateChange(time=1239, rate=4.101947386433214e-05, source=1, dest=2), MigrationRateChange(time=1240, rate=4.1217613034543554e-05, source=1, dest=2), MigrationRateChange(time=1241, rate=4.141535150039011e-05, source=1, dest=2), MigrationRateChange(time=1242, rate=4.1612676540981156e-05, source=1, dest=2), MigrationRateChange(time=1243, rate=4.180957544133935e-05, source=1, dest=2), MigrationRateChange(time=1244, rate=4.2006035493879826e-05, source=1, dest=2), MigrationRateChange(time=1245, rate=4.220204399988857e-05, source=1, dest=2), MigrationRateChange(time=1246, rate=4.239758827100134e-05, source=1, dest=2), MigrationRateChange(time=1247, rate=4.259265563068136e-05, source=1, dest=2), MigrationRateChange(time=1248, rate=4.278723341569673e-05, source=1, dest=2), MigrationRateChange(time=1249, rate=4.298130897759644e-05, source=1, dest=2), MigrationRateChange(time=1250, rate=4.3174869684185314e-05, source=1, dest=2), MigrationRateChange(time=1251, rate=4.3367902920997464e-05, source=1, dest=2), MigrationRateChange(time=1252, rate=4.3560396092767536e-05, source=1, dest=2), MigrationRateChange(time=1253, rate=4.375233662490059e-05, source=1, dest=2), MigrationRateChange(time=1254, rate=4.394371196493887e-05, source=1, dest=2), MigrationRateChange(time=1255, rate=4.413450958402676e-05, source=1, dest=2), MigrationRateChange(time=1256, rate=4.432471697837236e-05, source=1, dest=2), MigrationRateChange(time=1257, rate=4.451432167070646e-05, source=1, dest=2), MigrationRateChange(time=1258, rate=4.4703311211737826e-05, source=1, dest=2), MigrationRateChange(time=1259, rate=4.489167318160526e-05, source=1, dest=2), MigrationRateChange(time=1260, rate=4.507939519132555e-05, source=1, dest=2), MigrationRateChange(time=1261, rate=4.526646488423773e-05, source=1, dest=2), MigrationRateChange(time=1262, rate=4.5452869937442644e-05, source=1, dest=2), MigrationRateChange(time=1263, rate=4.5638598063238445e-05, source=1, dest=2), MigrationRateChange(time=1264, rate=4.5823637010550785e-05, source=1, dest=2), MigrationRateChange(time=1265, rate=4.600797456635858e-05, source=1, dest=2), MigrationRateChange(time=1266, rate=4.6191598557113927e-05, source=1, dest=2), MigrationRateChange(time=1267, rate=4.637449685015708e-05, source=1, dest=2), MigrationRateChange(time=1268, rate=4.6556657355125214e-05, source=1, dest=2), MigrationRateChange(time=1269, rate=4.6738068025355665e-05, source=1, dest=2), MigrationRateChange(time=1270, rate=4.691871685928251e-05, source=1, dest=2), MigrationRateChange(time=1271, rate=4.709859190182728e-05, source=1, dest=2), MigrationRateChange(time=1272, rate=4.7277681245782315e-05, source=1, dest=2), MigrationRateChange(time=1273, rate=4.7455973033188025e-05, source=1, dest=2), MigrationRateChange(time=1274, rate=4.76334554567023e-05, source=1, dest=2), MigrationRateChange(time=1275, rate=4.781011676096313e-05, source=1, dest=2), MigrationRateChange(time=1276, rate=4.798594524394328e-05, source=1, dest=2), MigrationRateChange(time=1277, rate=4.8160929258297535e-05, source=1, dest=2), MigrationRateChange(time=1278, rate=4.8335057212701445e-05, source=1, dest=2), MigrationRateChange(time=1279, rate=4.850831757318258e-05, source=1, dest=2), MigrationRateChange(time=1280, rate=4.8680698864442474e-05, source=1, dest=2), MigrationRateChange(time=1281, rate=4.885218967117078e-05, source=1, dest=2), MigrationRateChange(time=1282, rate=4.902277863934977e-05, source=1, dest=2), MigrationRateChange(time=1283, rate=4.9192454477550516e-05, source=1, dest=2), MigrationRateChange(time=1284, rate=4.93612059582191e-05, source=1, dest=2), MigrationRateChange(time=1285, rate=4.9529021918953977e-05, source=1, dest=2), MigrationRateChange(time=1286, rate=4.9695891263773e-05, source=1, dest=2), MigrationRateChange(time=1287, rate=4.986180296437129e-05, source=1, dest=2), MigrationRateChange(time=1288, rate=5.0026746061368315e-05, source=1, dest=2), MigrationRateChange(time=1289, rate=5.019070966554525e-05, source=1, dest=2), MigrationRateChange(time=1290, rate=5.035368295907145e-05, source=1, dest=2), MigrationRateChange(time=1291, rate=5.051565519672061e-05, source=1, dest=2), MigrationRateChange(time=1292, rate=5.067661570707579e-05, source=1, dest=2), MigrationRateChange(time=1293, rate=5.083655389372363e-05, source=1, dest=2), MigrationRateChange(time=1294, rate=5.0995459236437156e-05, source=1, dest=2), MigrationRateChange(time=1295, rate=5.115332129234736e-05, source=1, dest=2), MigrationRateChange(time=1296, rate=5.1310129697103e-05, source=1, dest=2), MigrationRateChange(time=1297, rate=5.146587416601895e-05, source=1, dest=2), MigrationRateChange(time=1298, rate=5.162054449521227e-05, source=1, dest=2), MigrationRateChange(time=1299, rate=5.177413056272649e-05, source=1, dest=2), MigrationRateChange(time=1300, rate=5.192662232964341e-05, source=1, dest=2), MigrationRateChange(time=1301, rate=5.2078009841182636e-05, source=1, dest=2), MigrationRateChange(time=1302, rate=5.222828322778839e-05, source=1, dest=2), MigrationRateChange(time=1303, rate=5.2377432706203805e-05, source=1, dest=2), MigrationRateChange(time=1304, rate=5.2525448580531894e-05, source=1, dest=2), MigrationRateChange(time=1305, rate=5.267232124328401e-05, source=1, dest=2), MigrationRateChange(time=1306, rate=5.281804117641464e-05, source=1, dest=2), MigrationRateChange(time=1307, rate=5.296259895234308e-05, source=1, dest=2), MigrationRateChange(time=1308, rate=5.310598523496166e-05, source=1, dest=2), MigrationRateChange(time=1309, rate=5.324819078063008e-05, source=1, dest=2), MigrationRateChange(time=1310, rate=5.338920643915628e-05, source=1, dest=2), MigrationRateChange(time=1311, rate=5.352902315476313e-05, source=1, dest=2), MigrationRateChange(time=1312, rate=5.366763196704133e-05, source=1, dest=2), MigrationRateChange(time=1313, rate=5.3805024011887826e-05, source=1, dest=2), MigrationRateChange(time=1314, rate=5.394119052243035e-05, source=1, dest=2), MigrationRateChange(time=1315, rate=5.4076122829937047e-05, source=1, dest=2), MigrationRateChange(time=1316, rate=5.420981236471205e-05, source=1, dest=2), MigrationRateChange(time=1317, rate=5.434225065697596e-05, source=1, dest=2), MigrationRateChange(time=1318, rate=5.447342933773195e-05, source=1, dest=2), MigrationRateChange(time=1319, rate=5.4603340139616585e-05, source=1, dest=2), MigrationRateChange(time=1320, rate=5.473197489773613e-05, source=1, dest=2), MigrationRateChange(time=1321, rate=5.485932555048714e-05, source=1, dest=2), MigrationRateChange(time=1322, rate=5.498538414036262e-05, source=1, dest=2), MigrationRateChange(time=1323, rate=5.5110142814742196e-05, source=1, dest=2), MigrationRateChange(time=1324, rate=5.5233593826667314e-05, source=1, dest=2), MigrationRateChange(time=1325, rate=5.5355729535600734e-05, source=1, dest=2), MigrationRateChange(time=1326, rate=5.547654240817077e-05, source=1, dest=2), MigrationRateChange(time=1327, rate=5.55960250188994e-05, source=1, dest=2), MigrationRateChange(time=1328, rate=5.5714170050915165e-05, source=1, dest=2), MigrationRateChange(time=1329, rate=5.583097029664979e-05, source=1, dest=2), MigrationRateChange(time=1330, rate=5.59464186585193e-05, source=1, dest=2), MigrationRateChange(time=1331, rate=5.606050814958888e-05, source=1, dest=2), MigrationRateChange(time=1332, rate=5.61732318942219e-05, source=1, dest=2), MigrationRateChange(time=1333, rate=5.6284583128712775e-05, source=1, dest=2), MigrationRateChange(time=1334, rate=5.639455520190365e-05, source=1, dest=2), MigrationRateChange(time=1335, rate=5.650314157578487e-05, source=1, dest=2), MigrationRateChange(time=1336, rate=5.6610335826079295e-05, source=1, dest=2), MigrationRateChange(time=1337, rate=5.671613164281006e-05, source=1, dest=2), MigrationRateChange(time=1338, rate=5.68205228308522e-05, source=1, dest=2), MigrationRateChange(time=1339, rate=5.692350331046765e-05, source=1, dest=2), MigrationRateChange(time=1340, rate=5.702506711782407e-05, source=1, dest=2), MigrationRateChange(time=1341, rate=5.7125208405496696e-05, source=1, dest=2), MigrationRateChange(time=1342, rate=5.722392144295417e-05, source=1, dest=2), MigrationRateChange(time=1343, rate=5.732120061702745e-05, source=1, dest=2), MigrationRateChange(time=1344, rate=5.741704043236227e-05, source=1, dest=2), MigrationRateChange(time=1345, rate=5.7511435511854856e-05, source=1, dest=2), MigrationRateChange(time=1346, rate=5.760438059707118e-05, source=1, dest=2), MigrationRateChange(time=1347, rate=5.769587054864926e-05, source=1, dest=2), MigrationRateChange(time=1348, rate=5.778590034668512e-05, source=1, dest=2), MigrationRateChange(time=1349, rate=5.78744650911016e-05, source=1, dest=2), MigrationRateChange(time=1350, rate=5.796156000200101e-05, source=1, dest=2), MigrationRateChange(time=1351, rate=5.8047180420000434e-05, source=1, dest=2), MigrationRateChange(time=1352, rate=5.8131321806550886e-05, source=1, dest=2), MigrationRateChange(time=1353, rate=5.8213979744239215e-05, source=1, dest=2), MigrationRateChange(time=1354, rate=5.829514993707381e-05, source=1, dest=2), MigrationRateChange(time=1355, rate=5.837482821075306e-05, source=1, dest=2), MigrationRateChange(time=1356, rate=5.8453010512917486e-05, source=1, dest=2), MigrationRateChange(time=1357, rate=5.852969291338497e-05, source=1, dest=2), MigrationRateChange(time=1358, rate=5.860487160436934e-05, source=1, dest=2), MigrationRateChange(time=1359, rate=5.867854290068229e-05, source=1, dest=2), MigrationRateChange(time=1360, rate=5.875070323991868e-05, source=1, dest=2), MigrationRateChange(time=1361, rate=5.882134918262504e-05, source=1, dest=2), MigrationRateChange(time=1362, rate=5.8890477412451715e-05, source=1, dest=2), MigrationRateChange(time=1363, rate=5.895808473628821e-05, source=1, dest=2), MigrationRateChange(time=1364, rate=5.902416808438212e-05, source=1, dest=2), MigrationRateChange(time=1365, rate=5.9088724510441544e-05, source=1, dest=2), MigrationRateChange(time=1366, rate=5.915175119172089e-05, source=1, dest=2), MigrationRateChange(time=1367, rate=5.9213245429090446e-05, source=1, dest=2), MigrationRateChange(time=1368, rate=5.9273204647089314e-05, source=1, dest=2), MigrationRateChange(time=1369, rate=5.9331626393962394e-05, source=1, dest=2), MigrationRateChange(time=1370, rate=5.938850834168051e-05, source=1, dest=2), MigrationRateChange(time=1371, rate=5.944384828594485e-05, source=1, dest=2), MigrationRateChange(time=1372, rate=5.949764414617484e-05, source=1, dest=2), MigrationRateChange(time=1373, rate=5.954989396548006e-05, source=1, dest=2), MigrationRateChange(time=1374, rate=5.9600595910616024e-05, source=1, dest=2), MigrationRateChange(time=1375, rate=5.9649748271923973e-05, source=1, dest=2), MigrationRateChange(time=1376, rate=5.96973494632547e-05, source=1, dest=2), MigrationRateChange(time=1377, rate=5.9743398021876566e-05, source=1, dest=2), MigrationRateChange(time=1378, rate=5.978789260836758e-05, source=1, dest=2), MigrationRateChange(time=1379, rate=5.983083200649194e-05, source=1, dest=2), MigrationRateChange(time=1380, rate=5.9872215123060647e-05, source=1, dest=2), MigrationRateChange(time=1381, rate=5.991204098777684e-05, source=1, dest=2), MigrationRateChange(time=1382, rate=5.995030875306537e-05, source=1, dest=2), MigrationRateChange(time=1383, rate=5.998701769388718e-05, source=1, dest=2), MigrationRateChange(time=1384, rate=6.002216720753817e-05, source=1, dest=2), MigrationRateChange(time=1385, rate=6.005575681343288e-05, source=1, dest=2), MigrationRateChange(time=1386, rate=6.008778615287317e-05, source=1, dest=2), MigrationRateChange(time=1387, rate=6.01182549888015e-05, source=1, dest=2), MigrationRateChange(time=1388, rate=6.014716320553965e-05, source=1, dest=2), MigrationRateChange(time=1389, rate=6.0174510808512334e-05, source=1, dest=2), MigrationRateChange(time=1390, rate=6.020029792395597e-05, source=1, dest=2), MigrationRateChange(time=1391, rate=6.022452479861303e-05, source=1, dest=2), MigrationRateChange(time=1392, rate=6.0247191799411674e-05, source=1, dest=2), MigrationRateChange(time=1393, rate=6.02682994131309e-05, source=1, dest=2), MigrationRateChange(time=1394, rate=6.0287848246051464e-05, source=1, dest=2), MigrationRateChange(time=1395, rate=6.030583902359252e-05, source=1, dest=2), MigrationRateChange(time=1396, rate=6.032227258993398e-05, source=1, dest=2), MigrationRateChange(time=1397, rate=6.033714990762517e-05, source=1, dest=2), MigrationRateChange(time=1398, rate=6.035047205717928e-05, source=1, dest=2), MigrationRateChange(time=1399, rate=6.036224023665425e-05, source=1, dest=2), MigrationRateChange(time=1400, rate=6.037245576121994e-05, source=1, dest=2), MigrationRateChange(time=1401, rate=6.03811200627116e-05, source=1, dest=2), MigrationRateChange(time=1402, rate=6.038823468917031e-05, source=1, dest=2), MigrationRateChange(time=1403, rate=6.039380130436973e-05, source=1, dest=2), MigrationRateChange(time=1404, rate=6.039782168732989e-05, source=1, dest=2), MigrationRateChange(time=1405, rate=6.040029773181799e-05, source=1, dest=2), MigrationRateChange(time=1406, rate=6.0401231445836176e-05, source=1, dest=2), MigrationRateChange(time=1407, rate=6.0400624951096676e-05, source=1, dest=2), MigrationRateChange(time=1408, rate=6.039848048248413e-05, source=1, dest=2), MigrationRateChange(time=1409, rate=6.0394800387505715e-05, source=1, dest=2), MigrationRateChange(time=1410, rate=6.0389587125728515e-05, source=1, dest=2), MigrationRateChange(time=1411, rate=6.038284326820506e-05, source=1, dest=2), MigrationRateChange(time=1412, rate=6.0374571496886546e-05, source=1, dest=2), MigrationRateChange(time=1413, rate=6.03647746040242e-05, source=1, dest=2), MigrationRateChange(time=1414, rate=6.0353455491558814e-05, source=1, dest=2), MigrationRateChange(time=1415, rate=6.034061717049864e-05, source=1, dest=2), MigrationRateChange(time=1416, rate=6.032626276028591e-05, source=1, dest=2), MigrationRateChange(time=1417, rate=6.03103954881517e-05, source=1, dest=2), MigrationRateChange(time=1418, rate=6.029301868845992e-05, source=1, dest=2), MigrationRateChange(time=1419, rate=6.0274135802039975e-05, source=1, dest=2), MigrationRateChange(time=1420, rate=6.025375037550872e-05, source=1, dest=2), MigrationRateChange(time=1421, rate=6.023186606058155e-05, source=1, dest=2), MigrationRateChange(time=1422, rate=6.020848661337281e-05, source=1, dest=2), MigrationRateChange(time=1423, rate=6.018361589368607e-05, source=1, dest=2), MigrationRateChange(time=1424, rate=6.015725786429364e-05, source=1, dest=2), MigrationRateChange(time=1425, rate=6.012941659020636e-05, source=1, dest=2), MigrationRateChange(time=1426, rate=6.0100096237933195e-05, source=1, dest=2), MigrationRateChange(time=1427, rate=6.006930107473105e-05, source=1, dest=2), MigrationRateChange(time=1428, rate=6.003703546784488e-05, source=1, dest=2), MigrationRateChange(time=1429, rate=6.0003303883738466e-05, source=1, dest=2), MigrationRateChange(time=1430, rate=5.996811088731561e-05, source=1, dest=2), MigrationRateChange(time=1431, rate=5.993146114113226e-05, source=1, dest=2), MigrationRateChange(time=1432, rate=5.9893359404599646e-05, source=1, dest=2), MigrationRateChange(time=1433, rate=5.985381053317854e-05, source=1, dest=2), MigrationRateChange(time=1434, rate=5.9812819477564755e-05, source=1, dest=2), MigrationRateChange(time=1435, rate=5.9770391282866214e-05, source=1, dest=2), MigrationRateChange(time=1436, rate=5.9726531087771475e-05, source=1, dest=2), MigrationRateChange(time=1437, rate=5.968124412371038e-05, source=1, dest=2), MigrationRateChange(time=1438, rate=5.9634535714006276e-05, source=1, dest=2), MigrationRateChange(time=1439, rate=5.958641127302068e-05, source=1, dest=2), MigrationRateChange(time=1440, rate=5.953687630528998e-05, source=1, dest=2), MigrationRateChange(time=1441, rate=5.948593640465495e-05, source=1, dest=2), MigrationRateChange(time=1442, rate=5.943359725338242e-05, source=1, dest=2), MigrationRateChange(time=1443, rate=5.937986462128022e-05, source=1, dest=2), MigrationRateChange(time=1444, rate=5.9324744364804756e-05, source=1, dest=2), MigrationRateChange(time=1445, rate=5.926824242616189e-05, source=1, dest=2), MigrationRateChange(time=1446, rate=5.921036483240102e-05, source=1, dest=2), MigrationRateChange(time=1447, rate=5.915111769450276e-05, source=1, dest=2), MigrationRateChange(time=1448, rate=5.909050720646012e-05, source=1, dest=2), MigrationRateChange(time=1449, rate=5.9028539644353595e-05, source=1, dest=2), MigrationRateChange(time=1450, rate=5.8965221365420144e-05, source=1, dest=2), MigrationRateChange(time=1451, rate=5.890055880711646e-05, source=1, dest=2), MigrationRateChange(time=1452, rate=5.883455848617637e-05, source=1, dest=2), MigrationRateChange(time=1453, rate=5.876722699766285e-05, source=1, dest=2), MigrationRateChange(time=1454, rate=5.869857101401468e-05, source=1, dest=2), MigrationRateChange(time=1455, rate=5.86285972840879e-05, source=1, dest=2), MigrationRateChange(time=1456, rate=5.855731263219217e-05, source=1, dest=2), MigrationRateChange(time=1457, rate=5.848472395712252e-05, source=1, dest=2), MigrationRateChange(time=1458, rate=5.841083823118619e-05, source=1, dest=2), MigrationRateChange(time=1459, rate=5.8335662499225085e-05, source=1, dest=2), MigrationRateChange(time=1460, rate=5.8259203877633904e-05, source=1, dest=2), MigrationRateChange(time=1461, rate=5.818146955337405e-05, source=1, dest=2), MigrationRateChange(time=1462, rate=5.8102466782983516e-05, source=1, dest=2), MigrationRateChange(time=1463, rate=5.802220289158315e-05, source=1, dest=2), MigrationRateChange(time=1464, rate=5.794068527187885e-05, source=1, dest=2), MigrationRateChange(time=1465, rate=5.785792138316075e-05, source=1, dest=2), MigrationRateChange(time=1466, rate=5.777391875029864e-05, source=1, dest=2), MigrationRateChange(time=1467, rate=5.768868496273453e-05, source=1, dest=2), MigrationRateChange(time=1468, rate=5.760222767347194e-05, source=1, dest=2), MigrationRateChange(time=1469, rate=5.75145545980627e-05, source=1, dest=2), MigrationRateChange(time=1470, rate=5.742567351359067e-05, source=1, dest=2), MigrationRateChange(time=1471, rate=5.733559225765327e-05, source=1, dest=2), MigrationRateChange(time=1472, rate=5.724431872734052e-05, source=1, dest=2), MigrationRateChange(time=1473, rate=5.7151860878211954e-05, source=1, dest=2), MigrationRateChange(time=1474, rate=5.7058226723271344e-05, source=1, dest=2), MigrationRateChange(time=1475, rate=5.69634243319399e-05, source=1, dest=2), MigrationRateChange(time=1476, rate=5.6867461829027375e-05, source=1, dest=2), MigrationRateChange(time=1477, rate=5.677034739370187e-05, source=1, dest=2), MigrationRateChange(time=1478, rate=5.667208925845829e-05, source=1, dest=2), MigrationRateChange(time=1479, rate=5.6572695708085284e-05, source=1, dest=2), MigrationRateChange(time=1480, rate=5.647217507863152e-05, source=1, dest=2), MigrationRateChange(time=1481, rate=5.637053575637066e-05, source=1, dest=2), MigrationRateChange(time=1482, rate=5.626778617676591e-05, source=1, dest=2), MigrationRateChange(time=1483, rate=5.616393482343359e-05, source=1, dest=2), MigrationRateChange(time=1484, rate=5.605899022710678e-05, source=1, dest=2), MigrationRateChange(time=1485, rate=5.595296096459803e-05, source=1, dest=2), MigrationRateChange(time=1486, rate=5.584585565776258e-05, source=1, dest=2), MigrationRateChange(time=1487, rate=5.573768297246093e-05, source=1, dest=2), MigrationRateChange(time=1488, rate=5.562845161752221e-05, source=1, dest=2), MigrationRateChange(time=1489, rate=5.551817034370726e-05, source=1, dest=2), MigrationRateChange(time=1490, rate=5.54068479426727e-05, source=1, dest=2), MigrationRateChange(time=1491, rate=5.529449324593512e-05, source=1, dest=2), MigrationRateChange(time=1492, rate=5.518111512383639e-05, source=1, dest=2), MigrationRateChange(time=1493, rate=5.506672248450961e-05, source=1, dest=2), MigrationRateChange(time=1494, rate=5.4951324272846215e-05, source=1, dest=2), MigrationRateChange(time=1495, rate=5.483492946946422e-05, source=1, dest=2), MigrationRateChange(time=1496, rate=5.4717547089677825e-05, source=1, dest=2), MigrationRateChange(time=1497, rate=5.459918618246831e-05, source=1, dest=2), MigrationRateChange(time=1498, rate=5.4479855829456814e-05, source=1, dest=2), MigrationRateChange(time=1499, rate=5.435956514387854e-05, source=1, dest=2), MigrationRateChange(time=1500, rate=5.423832326955905e-05, source=1, dest=2), MigrationRateChange(time=1501, rate=5.41161393798924e-05, source=1, dest=2), MigrationRateChange(time=1502, rate=5.399302267682161e-05, source=1, dest=2), MigrationRateChange(time=1503, rate=5.3868982389821137e-05, source=1, dest=2), MigrationRateChange(time=1504, rate=5.3744027774882016e-05, source=1, dest=2), MigrationRateChange(time=1505, rate=5.361816811349931e-05, source=1, dest=2), MigrationRateChange(time=1506, rate=5.3491412711662466e-05, source=1, dest=2), MigrationRateChange(time=1507, rate=5.336377089884807e-05, source=1, dest=2), MigrationRateChange(time=1508, rate=5.3235252027016025e-05, source=1, dest=2), MigrationRateChange(time=1509, rate=5.310586546960827e-05, source=1, dest=2), MigrationRateChange(time=1510, rate=5.297562062055108e-05, source=1, dest=2), MigrationRateChange(time=1511, rate=5.2844526893260194e-05, source=1, dest=2), MigrationRateChange(time=1512, rate=5.271259371964993e-05, source=1, dest=2), MigrationRateChange(time=1513, rate=5.2579830549145164e-05, source=1, dest=2), MigrationRateChange(time=1514, rate=5.244624684769757e-05, source=1, dest=2), MigrationRateChange(time=1515, rate=5.231185209680502e-05, source=1, dest=2), MigrationRateChange(time=1516, rate=5.217665579253546e-05, source=1, dest=2), MigrationRateChange(time=1517, rate=5.204066744455424e-05, source=1, dest=2), MigrationRateChange(time=1518, rate=5.190389657515585e-05, source=1, dest=2), MigrationRateChange(time=1519, rate=5.176635271829972e-05, source=1, dest=2), MigrationRateChange(time=1520, rate=5.162804541865051e-05, source=1, dest=2), MigrationRateChange(time=1521, rate=5.148898423062252e-05, source=1, dest=2), MigrationRateChange(time=1522, rate=5.134917871742893e-05, source=1, dest=2), MigrationRateChange(time=1523, rate=5.120863845013549e-05, source=1, dest=2), MigrationRateChange(time=1524, rate=5.106737300671902e-05, source=1, dest=2), MigrationRateChange(time=1525, rate=5.092539197113064e-05, source=1, dest=2), MigrationRateChange(time=1526, rate=5.078270493236424e-05, source=1, dest=2), MigrationRateChange(time=1527, rate=5.063932148352939e-05, source=1, dest=2), MigrationRateChange(time=1528, rate=5.049525122093011e-05, source=1, dest=2), MigrationRateChange(time=1529, rate=5.0350503743148266e-05, source=1, dest=2), MigrationRateChange(time=1530, rate=5.0205088650132656e-05, source=1, dest=2), MigrationRateChange(time=1531, rate=5.005901554229325e-05, source=1, dest=2), MigrationRateChange(time=1532, rate=4.99122940196012e-05, source=1, dest=2), MigrationRateChange(time=1533, rate=4.976493368069404e-05, source=1, dest=2), MigrationRateChange(time=1534, rate=4.961694412198712e-05, source=1, dest=2), MigrationRateChange(time=1535, rate=4.946833493679029e-05, source=1, dest=2), MigrationRateChange(time=1536, rate=4.931911571443059e-05, source=1, dest=2), MigrationRateChange(time=1537, rate=4.916929603938114e-05, source=1, dest=2), MigrationRateChange(time=1538, rate=4.9018885490395523e-05, source=1, dest=2), MigrationRateChange(time=1539, rate=4.886789363964879e-05, source=1, dest=2), MigrationRateChange(time=1540, rate=4.8716330051884165e-05, source=1, dest=2), MigrationRateChange(time=1541, rate=4.856420428356645e-05, source=1, dest=2), MigrationRateChange(time=1542, rate=4.8411525882041236e-05, source=1, dest=2), MigrationRateChange(time=1543, rate=4.8258304384701036e-05, source=1, dest=2), MigrationRateChange(time=1544, rate=4.810454931815739e-05, source=1, dest=2), MigrationRateChange(time=1545, rate=4.7950270197419926e-05, source=1, dest=2), MigrationRateChange(time=1546, rate=4.779547652508164e-05, source=1, dest=2), MigrationRateChange(time=1547, rate=4.7640177790511186e-05, source=1, dest=2), MigrationRateChange(time=1548, rate=4.748438346905162e-05, source=1, dest=2), MigrationRateChange(time=1549, rate=4.732810302122612e-05, source=1, dest=2), MigrationRateChange(time=1550, rate=4.717134589195044e-05, source=1, dest=2), MigrationRateChange(time=1551, rate=4.7014121509752436e-05, source=1, dest=2), MigrationRateChange(time=1552, rate=4.685643928599825e-05, source=1, dest=2), MigrationRateChange(time=1553, rate=4.6698308614126054e-05, source=1, dest=2), MigrationRateChange(time=1554, rate=4.6539738868886257e-05, source=1, dest=2), MigrationRateChange(time=1555, rate=4.6380739405589416e-05, source=1, dest=2), MigrationRateChange(time=1556, rate=4.6221319559360835e-05, source=1, dest=2), MigrationRateChange(time=1557, rate=4.606148864440298e-05, source=1, dest=2), MigrationRateChange(time=1558, rate=4.5901255953264524e-05, source=1, dest=2), MigrationRateChange(time=1559, rate=4.574063075611734e-05, source=1, dest=2), MigrationRateChange(time=1560, rate=4.557962230004047e-05, source=1, dest=2), MigrationRateChange(time=1561, rate=4.541823980831177e-05, source=1, dest=2), MigrationRateChange(time=1562, rate=4.52564924797068e-05, source=1, dest=2), MigrationRateChange(time=1563, rate=4.509438948780557e-05, source=1, dest=2), MigrationRateChange(time=1564, rate=4.493193998030636e-05, source=1, dest=2), MigrationRateChange(time=1565, rate=4.4769153078347705e-05, source=1, dest=2), MigrationRateChange(time=1566, rate=4.460603787583742e-05, source=1, dest=2), MigrationRateChange(time=1567, rate=4.444260343878989e-05, source=1, dest=2), MigrationRateChange(time=1568, rate=4.427885880467041e-05, source=1, dest=2), MigrationRateChange(time=1569, rate=4.411481298174797e-05, source=1, dest=2), MigrationRateChange(time=1570, rate=4.395047494845509e-05, source=1, dest=2), MigrationRateChange(time=1571, rate=4.378585365275607e-05, source=1, dest=2), MigrationRateChange(time=1572, rate=4.362095801152256e-05, source=1, dest=2), MigrationRateChange(time=1573, rate=4.3455796909917426e-05, source=1, dest=2), MigrationRateChange(time=1574, rate=4.329037920078599e-05, source=1, dest=2), MigrationRateChange(time=1575, rate=4.312471370405571e-05, source=1, dest=2), MigrationRateChange(time=1576, rate=4.2958809206143266e-05, source=1, dest=2), MigrationRateChange(time=1577, rate=4.279267445937003e-05, source=1, dest=2), MigrationRateChange(time=1578, rate=4.262631818138507e-05, source=1, dest=2), MigrationRateChange(time=1579, rate=4.2459749054596535e-05, source=1, dest=2), MigrationRateChange(time=1580, rate=4.229297572561067e-05, source=1, dest=2), MigrationRateChange(time=1581, rate=4.2126006804679185e-05, source=1, dest=2), MigrationRateChange(time=1582, rate=4.195885086515422e-05, source=1, dest=2), MigrationRateChange(time=1583, rate=4.179151644295184e-05, source=1, dest=2), MigrationRateChange(time=1584, rate=4.162401203602306e-05, source=1, dest=2), MigrationRateChange(time=1585, rate=4.145634610383345e-05, source=1, dest=2), MigrationRateChange(time=1586, rate=4.128852706685024e-05, source=1, dest=2), MigrationRateChange(time=1587, rate=4.112056330603803e-05, source=1, dest=2), MigrationRateChange(time=1588, rate=4.095246316236208e-05, source=1, dest=2), MigrationRateChange(time=1589, rate=4.078423493630013e-05, source=1, dest=2), MigrationRateChange(time=1590, rate=4.0615886887361873e-05, source=1, dest=2), MigrationRateChange(time=1591, rate=4.044742723361692e-05, source=1, dest=2), MigrationRateChange(time=1592, rate=4.027886415123051e-05, source=1, dest=2), MigrationRateChange(time=1593, rate=4.011020577400738e-05, source=1, dest=2), MigrationRateChange(time=1594, rate=3.9941460192943935e-05, source=1, dest=2), MigrationRateChange(time=1595, rate=3.977263545578812e-05, source=1, dest=2), MigrationRateChange(time=1596, rate=3.960373956660775e-05, source=1, dest=2), MigrationRateChange(time=1597, rate=3.943478048536646e-05, source=1, dest=2), MigrationRateChange(time=1598, rate=3.92657661275083e-05, source=1, dest=2), MigrationRateChange(time=1599, rate=3.909670436354958e-05, source=1, dest=2), MigrationRateChange(time=1600, rate=3.89276030186797e-05, source=1, dest=2), MigrationRateChange(time=1601, rate=3.875846987236905e-05, source=1, dest=2), MigrationRateChange(time=1602, rate=3.858931265798577e-05, source=1, dest=2), MigrationRateChange(time=1603, rate=3.84201390624198e-05, source=1, dest=2), MigrationRateChange(time=1604, rate=3.8250956725715505e-05, source=1, dest=2), MigrationRateChange(time=1605, rate=3.808177324071176e-05, source=1, dest=2), MigrationRateChange(time=1606, rate=3.791259615269049e-05, source=1, dest=2), MigrationRateChange(time=1607, rate=3.774343295903262e-05, source=1, dest=2), MigrationRateChange(time=1608, rate=3.757429110888249e-05, source=1, dest=2), MigrationRateChange(time=1609, rate=3.740517800281961e-05, source=1, dest=2), MigrationRateChange(time=1610, rate=3.7236100992538816e-05, source=1, dest=2), MigrationRateChange(time=1611, rate=3.7067067380537865e-05, source=1, dest=2), MigrationRateChange(time=1612, rate=3.689808441981317e-05, source=1, dest=2), MigrationRateChange(time=1613, rate=3.672915931356306e-05, source=1, dest=2), MigrationRateChange(time=1614, rate=3.656029921489917e-05, source=1, dest=2), MigrationRateChange(time=1615, rate=3.639151122656514e-05, source=1, dest=2), MigrationRateChange(time=1616, rate=3.622280240066357e-05, source=1, dest=2), MigrationRateChange(time=1617, rate=3.6054179738390164e-05, source=1, dest=2), MigrationRateChange(time=1618, rate=3.5885650189775995e-05, source=1, dest=2), MigrationRateChange(time=1619, rate=3.571722065343697e-05, source=1, dest=2), MigrationRateChange(time=1620, rate=3.554889797633147e-05, source=1, dest=2), MigrationRateChange(time=1621, rate=3.538068895352488e-05, source=1, dest=2), MigrationRateChange(time=1622, rate=3.52126003279624e-05, source=1, dest=2), MigrationRateChange(time=1623, rate=3.5044638790248675e-05, source=1, dest=2), MigrationRateChange(time=1624, rate=3.487681097843557e-05, source=1, dest=2), MigrationRateChange(time=1625, rate=3.470912347781676e-05, source=1, dest=2), MigrationRateChange(time=1626, rate=3.454158282073033e-05, source=1, dest=2), MigrationRateChange(time=1627, rate=3.437419548636815e-05, source=1, dest=2), MigrationRateChange(time=1628, rate=3.4206967900593256e-05, source=1, dest=2), MigrationRateChange(time=1629, rate=3.403990643576381e-05, source=1, dest=2), MigrationRateChange(time=1630, rate=3.387301741056499e-05, source=1, dest=2), MigrationRateChange(time=1631, rate=3.3706307089847555e-05, source=1, dest=2), MigrationRateChange(time=1632, rate=3.353978168447403e-05, source=1, dest=2), MigrationRateChange(time=1633, rate=3.3373447351171644e-05, source=1, dest=2), MigrationRateChange(time=1634, rate=3.3207310192392736e-05, source=1, dest=2), MigrationRateChange(time=1635, rate=3.304137625618182e-05, source=1, dest=2), MigrationRateChange(time=1636, rate=3.2875651536050134e-05, source=1, dest=2), MigrationRateChange(time=1637, rate=3.271014197085661e-05, source=1, dest=2), MigrationRateChange(time=1638, rate=3.2544853444696314e-05, source=1, dest=2), MigrationRateChange(time=1639, rate=3.237979178679526e-05, source=1, dest=2), MigrationRateChange(time=1640, rate=3.2214962771412534e-05, source=1, dest=2), MigrationRateChange(time=1641, rate=3.205037211774873e-05, source=1, dest=2), MigrationRateChange(time=1642, rate=3.188602548986158e-05, source=1, dest=2), MigrationRateChange(time=1643, rate=3.172192849658787e-05, source=1, dest=2), MigrationRateChange(time=1644, rate=3.155808669147229e-05, source=1, dest=2), MigrationRateChange(time=1645, rate=3.139450557270272e-05, source=1, dest=2), MigrationRateChange(time=1646, rate=3.1231190583052154e-05, source=1, dest=2), MigrationRateChange(time=1647, rate=3.1068147109827034e-05, source=1, dest=2), MigrationRateChange(time=1648, rate=3.0905380484822004e-05, source=1, dest=2), MigrationRateChange(time=1649, rate=3.074289598428126e-05, source=1, dest=2), MigrationRateChange(time=1650, rate=3.058069882886594e-05, source=1, dest=2), MigrationRateChange(time=1651, rate=3.0418794183628128e-05, source=1, dest=2), MigrationRateChange(time=1652, rate=3.0257187157990693e-05, source=1, dest=2), MigrationRateChange(time=1653, rate=3.0095882805733855e-05, source=1, dest=2), MigrationRateChange(time=1654, rate=2.9934886124987215e-05, source=1, dest=2), MigrationRateChange(time=1655, rate=2.9774202058228537e-05, source=1, dest=2), MigrationRateChange(time=1656, rate=2.9613835492287976e-05, source=1, dest=2), MigrationRateChange(time=1657, rate=2.9453791258358775e-05, source=1, dest=2), MigrationRateChange(time=1658, rate=2.9294074132013338e-05, source=1, dest=2), MigrationRateChange(time=1659, rate=2.9134688833225763e-05, source=1, dest=2), MigrationRateChange(time=1660, rate=2.8975640026399588e-05, source=1, dest=2), MigrationRateChange(time=1661, rate=2.8816932320401792e-05, source=1, dest=2), MigrationRateChange(time=1662, rate=2.865857026860206e-05, source=1, dest=2), MigrationRateChange(time=1663, rate=2.8500558368918063e-05, source=1, dest=2), MigrationRateChange(time=1664, rate=2.834290106386592e-05, source=1, dest=2), MigrationRateChange(time=1665, rate=2.8185602740616622e-05, source=1, dest=2), MigrationRateChange(time=1666, rate=2.802866773105745e-05, source=1, dest=2), MigrationRateChange(time=1667, rate=2.7872100311859242e-05, source=1, dest=2), MigrationRateChange(time=1668, rate=2.7715904704548596e-05, source=1, dest=2), MigrationRateChange(time=1669, rate=2.756008507558578e-05, source=1, dest=2), MigrationRateChange(time=1670, rate=2.74046455364474e-05, source=1, dest=2), MigrationRateChange(time=1671, rate=2.7249590143714752e-05, source=1, dest=2), MigrationRateChange(time=1672, rate=2.7094922899166765e-05, source=1, dest=2), MigrationRateChange(time=1673, rate=2.694064774987853e-05, source=1, dest=2), MigrationRateChange(time=1674, rate=2.6786768588324262e-05, source=1, dest=2), MigrationRateChange(time=1675, rate=2.6633289252485767e-05, source=1, dest=2), MigrationRateChange(time=1676, rate=2.6480213525965244e-05, source=1, dest=2), MigrationRateChange(time=1677, rate=2.6327545138103404e-05, source=1, dest=2), MigrationRateChange(time=1678, rate=2.6175287764101853e-05, source=1, dest=2), MigrationRateChange(time=1679, rate=2.602344502515066e-05, source=1, dest=2), MigrationRateChange(time=1680, rate=2.5872020488560104e-05, source=1, dest=2), MigrationRateChange(time=1681, rate=2.572101766789741e-05, source=1, dest=2), MigrationRateChange(time=1682, rate=2.55704400231276e-05, source=1, dest=2), MigrationRateChange(time=1683, rate=2.542029096075922e-05, source=1, dest=2), MigrationRateChange(time=1684, rate=2.5270573833994004e-05, source=1, dest=2), MigrationRateChange(time=1685, rate=2.5121291942881374e-05, source=1, dest=2), MigrationRateChange(time=1686, rate=2.4972448534476678e-05, source=1, dest=2), MigrationRateChange(time=1687, rate=2.4824046803004175e-05, source=1, dest=2), MigrationRateChange(time=1688, rate=2.4676089890023697e-05, source=1, dest=2), MigrationRateChange(time=1689, rate=2.4528580884601785e-05, source=1, dest=2), MigrationRateChange(time=1690, rate=2.4381522823486557e-05, source=1, dest=2), MigrationRateChange(time=1691, rate=2.4234918691286838e-05, source=1, dest=2), MigrationRateChange(time=1692, rate=2.408877142065485e-05, source=1, dest=2), MigrationRateChange(time=1693, rate=2.3943083892473166e-05, source=1, dest=2), MigrationRateChange(time=1694, rate=2.3797858936045017e-05, source=1, dest=2), MigrationRateChange(time=1695, rate=2.3653099329288788e-05, source=1, dest=2), MigrationRateChange(time=1696, rate=2.3508807798935696e-05, source=1, dest=2), MigrationRateChange(time=1697, rate=2.336498702073157e-05, source=1, dest=2), MigrationRateChange(time=1698, rate=2.322163961964171e-05, source=1, dest=2), MigrationRateChange(time=1699, rate=2.3078768170059695e-05, source=1, dest=2), MigrationRateChange(time=1700, rate=2.293637519601914e-05, source=1, dest=2), MigrationRateChange(time=1701, rate=2.2794463171409347e-05, source=1, dest=2), MigrationRateChange(time=1702, rate=2.265303452019371e-05, source=1, dest=2), MigrationRateChange(time=1703, rate=2.2512091616631894e-05, source=1, dest=2), MigrationRateChange(time=1704, rate=2.2371636785504873e-05, source=1, dest=2), MigrationRateChange(time=1705, rate=2.2231672302343074e-05, source=1, dest=2), MigrationRateChange(time=1706, rate=2.2092200393657957e-05, source=1, dest=2), MigrationRateChange(time=1707, rate=2.19532232371761e-05, source=1, dest=2), MigrationRateChange(time=1708, rate=2.1814742962076753e-05, source=1, dest=2), MigrationRateChange(time=1709, rate=2.1676761649231793e-05, source=1, dest=2), MigrationRateChange(time=1710, rate=2.1539281331449004e-05, source=1, dest=2), MigrationRateChange(time=1711, rate=2.140230399371765e-05, source=1, dest=2), MigrationRateChange(time=1712, rate=2.1265831573457267e-05, source=1, dest=2), MigrationRateChange(time=1713, rate=2.1129865960768608e-05, source=1, dest=2), MigrationRateChange(time=1714, rate=2.0994408998687714e-05, source=1, dest=2), MigrationRateChange(time=1715, rate=2.0859462483442013e-05, source=1, dest=2), MigrationRateChange(time=1716, rate=2.0725028164709418e-05, source=1, dest=2), MigrationRateChange(time=1717, rate=2.059110774587936e-05, source=1, dest=2), MigrationRateChange(time=1718, rate=2.045770288431673e-05, source=1, dest=2), MigrationRateChange(time=1719, rate=2.0324815191627564e-05, source=1, dest=2), MigrationRateChange(time=1720, rate=2.019244623392758e-05, source=1, dest=2), MigrationRateChange(time=1721, rate=2.0060597532112363e-05, source=1, dest=2), MigrationRateChange(time=1722, rate=1.9929270562130248e-05, source=1, dest=2), MigrationRateChange(time=1723, rate=1.9798466755256765e-05, source=1, dest=2), MigrationRateChange(time=1724, rate=1.9668187498371628e-05, source=1, dest=2), MigrationRateChange(time=1725, rate=1.9538434134237272e-05, source=1, dest=2), MigrationRateChange(time=1726, rate=1.9409207961779728e-05, source=1, dest=2), MigrationRateChange(time=1727, rate=1.9280510236370975e-05, source=1, dest=2), MigrationRateChange(time=1728, rate=1.91523421701135e-05, source=1, dest=2), MigrationRateChange(time=1729, rate=1.9024704932126296e-05, source=1, dest=2), MigrationRateChange(time=1730, rate=1.8897599648832883e-05, source=1, dest=2), MigrationRateChange(time=1731, rate=1.877102740425067e-05, source=1, dest=2), MigrationRateChange(time=1732, rate=1.8644989240282307e-05, source=1, dest=2), MigrationRateChange(time=1733, rate=1.8519486157008178e-05, source=1, dest=2), MigrationRateChange(time=1734, rate=1.8394519112980826e-05, source=1, dest=2), MigrationRateChange(time=1735, rate=1.8270089025520418e-05, source=1, dest=2), MigrationRateChange(time=1736, rate=1.8146196771012047e-05, source=1, dest=2), MigrationRateChange(time=1737, rate=1.8022843185203948e-05, source=1, dest=2), MigrationRateChange(time=1738, rate=1.7900029063507434e-05, source=1, dest=2), MigrationRateChange(time=1739, rate=1.77777551612977e-05, source=1, dest=2), MigrationRateChange(time=1740, rate=1.7656022194216197e-05, source=1, dest=2), MigrationRateChange(time=1741, rate=1.7534830838473807e-05, source=1, dest=2), MigrationRateChange(time=1742, rate=1.7414181731155494e-05, source=1, dest=2), MigrationRateChange(time=1743, rate=1.7294075470525582e-05, source=1, dest=2), MigrationRateChange(time=1744, rate=1.7174512616334497e-05, source=1, dest=2), MigrationRateChange(time=1745, rate=1.7055493690126074e-05, source=1, dest=2), MigrationRateChange(time=1746, rate=1.6937019175546083e-05, source=1, dest=2), MigrationRateChange(time=1747, rate=1.6819089518651328e-05, source=1, dest=2), MigrationRateChange(time=1748, rate=1.6701705128219907e-05, source=1, dest=2), MigrationRateChange(time=1749, rate=1.658486637606186e-05, source=1, dest=2), MigrationRateChange(time=1750, rate=1.646857359733092e-05, source=1, dest=2), MigrationRateChange(time=1751, rate=1.6352827090836604e-05, source=1, dest=2), MigrationRateChange(time=1752, rate=1.623762711935724e-05, source=1, dest=2), MigrationRateChange(time=1753, rate=1.6122973909953273e-05, source=1, dest=2), MigrationRateChange(time=1754, rate=1.6008867654281477e-05, source=1, dest=2), MigrationRateChange(time=1755, rate=1.5895308508909282e-05, source=1, dest=2), MigrationRateChange(time=1756, rate=1.5782296595629932e-05, source=1, dest=2), MigrationRateChange(time=1757, rate=1.5669832001777696e-05, source=1, dest=2), MigrationRateChange(time=1758, rate=1.55579147805438e-05, source=1, dest=2), MigrationRateChange(time=1759, rate=1.544654495129233e-05, source=1, dest=2), MigrationRateChange(time=1760, rate=1.533572249987682e-05, source=1, dest=2), MigrationRateChange(time=1761, rate=1.522544737895673e-05, source=1, dest=2), MigrationRateChange(time=1762, rate=1.5115719508314262e-05, source=1, dest=2), MigrationRateChange(time=1763, rate=1.500653877517148e-05, source=1, dest=2), MigrationRateChange(time=1764, rate=1.4897905034507267e-05, source=1, dest=2), MigrationRateChange(time=1765, rate=1.4789818109374672e-05, source=1, dest=2), MigrationRateChange(time=1766, rate=1.4682277791217993e-05, source=1, dest=2), MigrationRateChange(time=1767, rate=1.4575283840190206e-05, source=1, dest=2), MigrationRateChange(time=1768, rate=1.4468835985469983e-05, source=1, dest=2), MigrationRateChange(time=1769, rate=1.4362933925579024e-05, source=1, dest=2), MigrationRateChange(time=1770, rate=1.425757732869891e-05, source=1, dest=2), MigrationRateChange(time=1771, rate=1.4152765832988174e-05, source=1, dest=2), MigrationRateChange(time=1772, rate=1.4048499046898807e-05, source=1, dest=2), MigrationRateChange(time=1773, rate=1.3944776549492945e-05, source=1, dest=2), MigrationRateChange(time=1774, rate=1.38415978907589e-05, source=1, dest=2), MigrationRateChange(time=1775, rate=1.373896259192729e-05, source=1, dest=2), MigrationRateChange(time=1776, rate=1.3636870145786472e-05, source=1, dest=2), MigrationRateChange(time=1777, rate=1.3535320016997958e-05, source=1, dest=2), MigrationRateChange(time=1778, rate=1.343431164241112e-05, source=1, dest=2), MigrationRateChange(time=1779, rate=1.3333844431377773e-05, source=1, dest=2), MigrationRateChange(time=1780, rate=1.323391776606598e-05, source=1, dest=2), MigrationRateChange(time=1781, rate=1.3134531001773705e-05, source=1, dest=2), MigrationRateChange(time=1782, rate=1.3035683467241576e-05, source=1, dest=2), MigrationRateChange(time=1783, rate=1.293737446496545e-05, source=1, dest=2), MigrationRateChange(time=1784, rate=1.2839603271508046e-05, source=1, dest=2), MigrationRateChange(time=1785, rate=1.274236913781029e-05, source=1, dest=2), MigrationRateChange(time=1786, rate=1.2645671289501703e-05, source=1, dest=2), MigrationRateChange(time=1787, rate=1.2549508927210271e-05, source=1, dest=2), MigrationRateChange(time=1788, rate=1.2453881226871735e-05, source=1, dest=2), MigrationRateChange(time=1789, rate=1.2358787340037738e-05, source=1, dest=2), MigrationRateChange(time=1790, rate=1.2264226394183605e-05, source=1, dest=2), MigrationRateChange(time=1791, rate=1.2170197493015108e-05, source=1, dest=2), MigrationRateChange(time=1792, rate=1.2076699716774592e-05, source=1, dest=2), MigrationRateChange(time=1793, rate=1.1983732122545914e-05, source=1, dest=2), MigrationRateChange(time=1794, rate=1.1891293744558854e-05, source=1, dest=2), MigrationRateChange(time=1795, rate=1.1799383594492396e-05, source=1, dest=2), MigrationRateChange(time=1796, rate=1.1708000661777311e-05, source=1, dest=2), MigrationRateChange(time=1797, rate=1.161714391389739e-05, source=1, dest=2), MigrationRateChange(time=1798, rate=1.1526812296690087e-05, source=1, dest=2), MigrationRateChange(time=1799, rate=1.1437004734645907e-05, source=1, dest=2), MigrationRateChange(time=1800, rate=1.1347720131206995e-05, source=1, dest=2), MigrationRateChange(time=1801, rate=1.125895736906431e-05, source=1, dest=2), MigrationRateChange(time=1802, rate=1.1170715310454044e-05, source=1, dest=2), MigrationRateChange(time=1803, rate=1.1082992797452782e-05, source=1, dest=2), MigrationRateChange(time=1804, rate=1.0995788652271666e-05, source=1, dest=2), MigrationRateChange(time=1805, rate=1.090910167754915e-05, source=1, dest=2), MigrationRateChange(time=1806, rate=1.0822930656642844e-05, source=1, dest=2), MigrationRateChange(time=1807, rate=1.0737274353920029e-05, source=1, dest=2), MigrationRateChange(time=1808, rate=1.0652131515047112e-05, source=1, dest=2), MigrationRateChange(time=1809, rate=1.056750086727753e-05, source=1, dest=2), MigrationRateChange(time=1810, rate=1.0483381119738734e-05, source=1, dest=2), MigrationRateChange(time=1811, rate=1.0399770963717707e-05, source=1, dest=2), MigrationRateChange(time=1812, rate=1.031666907294535e-05, source=1, dest=2), MigrationRateChange(time=1813, rate=1.0234074103879267e-05, source=1, dest=2), MigrationRateChange(time=1814, rate=1.0151984695985522e-05, source=1, dest=2), MigrationRateChange(time=1815, rate=1.0070399472018847e-05, source=1, dest=2), MigrationRateChange(time=1816, rate=9.989317038301703e-06, source=1, dest=2), MigrationRateChange(time=1817, rate=9.908735985001598e-06, source=1, dest=2), MigrationRateChange(time=1818, rate=9.828654886407313e-06, source=1, dest=2), MigrationRateChange(time=1819, rate=9.749072301203694e-06, source=1, dest=2), MigrationRateChange(time=1820, rate=9.669986772744748e-06, source=1, dest=2), MigrationRateChange(time=1821, rate=9.591396829325568e-06, source=1, dest=2), MigrationRateChange(time=1822, rate=9.513300984452624e-06, source=1, dest=2), MigrationRateChange(time=1823, rate=9.435697737112769e-06, source=1, dest=2), MigrationRateChange(time=1824, rate=9.3585855720404e-06, source=1, dest=2), MigrationRateChange(time=1825, rate=9.28196295998346e-06, source=1, dest=2), MigrationRateChange(time=1826, rate=9.20582835796771e-06, source=1, dest=2), MigrationRateChange(time=1827, rate=9.130180209559629e-06, source=1, dest=2), MigrationRateChange(time=1828, rate=9.055016945127493e-06, source=1, dest=2), MigrationRateChange(time=1829, rate=8.980336982101173e-06, source=1, dest=2), MigrationRateChange(time=1830, rate=8.906138725230162e-06, source=1, dest=2), MigrationRateChange(time=1831, rate=8.832420566840225e-06, source=1, dest=2), MigrationRateChange(time=1832, rate=8.759180887088118e-06, source=1, dest=2), MigrationRateChange(time=1833, rate=8.68641805421502e-06, source=1, dest=2), MigrationRateChange(time=1834, rate=8.614130424798122e-06, source=1, dest=2), MigrationRateChange(time=1835, rate=8.542316344000817e-06, source=1, dest=2), MigrationRateChange(time=1836, rate=8.470974145820911e-06, source=1, dest=2), MigrationRateChange(time=1837, rate=8.400102153337463e-06, source=1, dest=2), MigrationRateChange(time=1838, rate=8.329698678955836e-06, source=1, dest=2), MigrationRateChange(time=1839, rate=8.259762024651186e-06, source=1, dest=2), MigrationRateChange(time=1840, rate=8.190290482210046e-06, source=1, dest=2), MigrationRateChange(time=1841, rate=8.121282333470448e-06, source=1, dest=2), MigrationRateChange(time=1842, rate=8.052735850560208e-06, source=1, dest=2), MigrationRateChange(time=1843, rate=7.984649296133656e-06, source=1, dest=2), MigrationRateChange(time=1844, rate=7.917020923606398e-06, source=1, dest=2), MigrationRateChange(time=1845, rate=7.8498489773886e-06, source=1, dest=2), MigrationRateChange(time=1846, rate=7.783131693116402e-06, source=1, dest=2), MigrationRateChange(time=1847, rate=7.71686729788175e-06, source=1, dest=2), MigrationRateChange(time=1848, rate=7.65105401046022e-06, source=1, dest=2), MigrationRateChange(time=1849, rate=7.585690041537353e-06, source=1, dest=2), MigrationRateChange(time=1850, rate=7.520773593933103e-06, source=1, dest=2), MigrationRateChange(time=1851, rate=7.456302862824643e-06, source=1, dest=2), MigrationRateChange(time=1852, rate=7.39227603596718e-06, source=1, dest=2), MigrationRateChange(time=1853, rate=7.3286912939132534e-06, source=1, dest=2), MigrationRateChange(time=1854, rate=7.2655468102300934e-06, source=1, dest=2), MigrationRateChange(time=1855, rate=7.202840751715365e-06, source=1, dest=2), MigrationRateChange(time=1856, rate=7.140571278610881e-06, source=1, dest=2), MigrationRateChange(time=1857, rate=7.078736544814767e-06, source=1, dest=2), MigrationRateChange(time=1858, rate=7.0173346980917066e-06, source=1, dest=2), MigrationRateChange(time=1859, rate=6.9563638802815295e-06, source=1, dest=2), MigrationRateChange(time=1860, rate=6.895822227505771e-06, source=1, dest=2), MigrationRateChange(time=1861, rate=6.835707870372657e-06, source=1, dest=2), MigrationRateChange(time=1862, rate=6.776018934180184e-06, source=1, dest=2), MigrationRateChange(time=1863, rate=6.7167535391175e-06, source=1, dest=2), MigrationRateChange(time=1864, rate=6.65790980046428e-06, source=1, dest=2), MigrationRateChange(time=1865, rate=6.599485828788499e-06, source=1, dest=2), MigrationRateChange(time=1866, rate=6.541479730142297e-06, source=1, dest=2), MigrationRateChange(time=1867, rate=6.483889606256149e-06, source=1, dest=2), MigrationRateChange(time=1868, rate=6.426713554731005e-06, source=1, dest=2), MigrationRateChange(time=1869, rate=6.3699496692288694e-06, source=1, dest=2), MigrationRateChange(time=1870, rate=6.313596039661398e-06, source=1, dest=2), MigrationRateChange(time=1871, rate=6.257650752376872e-06, source=1, dest=2), MigrationRateChange(time=1872, rate=6.202111890345099e-06, source=1, dest=2), MigrationRateChange(time=1873, rate=6.146977533340731e-06, source=1, dest=2), MigrationRateChange(time=1874, rate=6.0922457581247816e-06, source=1, dest=2), MigrationRateChange(time=1875, rate=6.037914638624103e-06, source=1, dest=2), MigrationRateChange(time=1876, rate=5.983982246109346e-06, source=1, dest=2), MigrationRateChange(time=1877, rate=5.9304466493709125e-06, source=1, dest=2), MigrationRateChange(time=1878, rate=5.877305914893292e-06, source=1, dest=2), MigrationRateChange(time=1879, rate=5.82455810702736e-06, source=1, dest=2), MigrationRateChange(time=1880, rate=5.772201288161108e-06, source=1, dest=2), MigrationRateChange(time=1881, rate=5.720233518888435e-06, source=1, dest=2), MigrationRateChange(time=1882, rate=5.668652858176292e-06, source=1, dest=2), MigrationRateChange(time=1883, rate=5.6174573635298196e-06, source=1, dest=2), MigrationRateChange(time=1884, rate=5.566645091155906e-06, source=1, dest=2), MigrationRateChange(time=1885, rate=5.516214096124852e-06, source=1, dest=2), MigrationRateChange(time=1886, rate=5.46616243253036e-06, source=1, dest=2), MigrationRateChange(time=1887, rate=5.416488153647566e-06, source=1, dest=2), MigrationRateChange(time=1888, rate=5.3671893120894825e-06, source=1, dest=2), MigrationRateChange(time=1889, rate=5.318263959961569e-06, source=1, dest=2), MigrationRateChange(time=1890, rate=5.269710149014651e-06, source=1, dest=2), MigrationRateChange(time=1891, rate=5.221525930795875e-06, source=1, dest=2), MigrationRateChange(time=1892, rate=5.173709356798127e-06, source=1, dest=2), MigrationRateChange(time=1893, rate=5.126258478607556e-06, source=1, dest=2), MigrationRateChange(time=1894, rate=5.0791713480494915e-06, source=1, dest=2), MigrationRateChange(time=1895, rate=5.032446017332418e-06, source=1, dest=2), MigrationRateChange(time=1896, rate=4.986080539190399e-06, source=1, dest=2), MigrationRateChange(time=1897, rate=4.940072967023678e-06, source=1, dest=2), MigrationRateChange(time=1898, rate=4.8944213550376385e-06, source=1, dest=2), MigrationRateChange(time=1899, rate=4.84912375837989e-06, source=1, dest=2), MigrationRateChange(time=1900, rate=4.804178233275799e-06, source=1, dest=2), MigrationRateChange(time=1901, rate=4.759582837162226e-06, source=1, dest=2), MigrationRateChange(time=1902, rate=4.715335628819646e-06, source=1, dest=2), MigrationRateChange(time=1903, rate=4.671434668502421e-06, source=1, dest=2), MigrationRateChange(time=1904, rate=4.627878018067535e-06, source=1, dest=2), MigrationRateChange(time=1905, rate=4.584663741101569e-06, source=1, dest=2), MigrationRateChange(time=1906, rate=4.541789903046081e-06, source=1, dest=2), MigrationRateChange(time=1907, rate=4.499254571321158e-06, source=1, dest=2), MigrationRateChange(time=1908, rate=4.457055815447475e-06, source=1, dest=2), MigrationRateChange(time=1909, rate=4.415191707166599e-06, source=1, dest=2), MigrationRateChange(time=1910, rate=4.373660320559738e-06, source=1, dest=2), MigrationRateChange(time=1911, rate=4.332459732164701e-06, source=1, dest=2), MigrationRateChange(time=1912, rate=4.291588021091364e-06, source=1, dest=2), MigrationRateChange(time=1913, rate=4.251043269135447e-06, source=1, dest=2), MigrationRateChange(time=1914, rate=4.210823560890729e-06, source=1, dest=2), MigrationRateChange(time=1915, rate=4.170926983859535e-06, source=1, dest=2), MigrationRateChange(time=1916, rate=4.1313516285617466e-06, source=1, dest=2), MigrationRateChange(time=1917, rate=4.092095588642144e-06, source=1, dest=2), MigrationRateChange(time=1918, rate=4.053156960976245e-06, source=1, dest=2), MigrationRateChange(time=1919, rate=4.014533845774421e-06, source=1, dest=2), MigrationRateChange(time=1920, rate=3.9762243466845815e-06, source=1, dest=2), MigrationRateChange(time=1921, rate=3.938226570893226e-06, source=1, dest=2), MigrationRateChange(time=1922, rate=3.900538629225013e-06, source=1, dest=2), MigrationRateChange(time=1923, rate=3.863158636240658e-06, source=1, dest=2), MigrationRateChange(time=1924, rate=3.82608471033342e-06, source=1, dest=2), MigrationRateChange(time=1925, rate=3.7893149738239846e-06, source=1, dest=2), MigrationRateChange(time=1926, rate=3.75284755305393e-06, source=1, dest=2), MigrationRateChange(time=1927, rate=3.7166805784775068e-06, source=1, dest=2), MigrationRateChange(time=1928, rate=3.6808121847520917e-06, source=1, dest=2), MigrationRateChange(time=1929, rate=3.645240510827047e-06, source=1, dest=2), MigrationRateChange(time=1930, rate=3.609963700031188e-06, source=1, dest=2), MigrationRateChange(time=1931, rate=3.5749799001586438e-06, source=1, dest=2), MigrationRateChange(time=1932, rate=3.5402872635533593e-06, source=1, dest=2), MigrationRateChange(time=1933, rate=3.505883947192172e-06, source=1, dest=2), MigrationRateChange(time=1934, rate=3.4717681127662894e-06, source=1, dest=2), MigrationRateChange(time=1935, rate=3.437937926761494e-06, source=1, dest=2), MigrationRateChange(time=1936, rate=3.4043915605368226e-06, source=1, dest=2), MigrationRateChange(time=1937, rate=3.371127190401917e-06, source=1, dest=2), MigrationRateChange(time=1938, rate=3.338142997692834e-06, source=1, dest=2), MigrationRateChange(time=1939, rate=3.305437168846589e-06, source=1, dest=2), MigrationRateChange(time=1940, rate=3.273007895474238e-06, source=1, dest=2), MigrationRateChange(time=1941, rate=3.240853374432647e-06, source=1, dest=2), MigrationRateChange(time=1942, rate=3.208971807894782e-06, source=1, dest=2), MigrationRateChange(time=1943, rate=3.177361403418753e-06, source=1, dest=2), MigrationRateChange(time=1944, rate=3.1460203740154465e-06, source=1, dest=2), MigrationRateChange(time=1945, rate=3.1149469382148845e-06, source=1, dest=2), MigrationRateChange(time=1946, rate=3.084139320131135e-06, source=1, dest=2), MigrationRateChange(time=1947, rate=3.0535957495260295e-06, source=1, dest=2), MigrationRateChange(time=1948, rate=3.023314461871498e-06, source=1, dest=2), MigrationRateChange(time=1949, rate=2.993293698410672e-06, source=1, dest=2), MigrationRateChange(time=1950, rate=2.96353170621759e-06, source=1, dest=2), MigrationRateChange(time=1951, rate=2.9340267382557358e-06, source=1, dest=2), MigrationRateChange(time=1952, rate=2.9047770534352405e-06, source=1, dest=2), MigrationRateChange(time=1953, rate=2.8757809166689e-06, source=1, dest=2), MigrationRateChange(time=1954, rate=2.8470365989268218e-06, source=1, dest=2), MigrationRateChange(time=1955, rate=2.818542377289959e-06, source=1, dest=2), MigrationRateChange(time=1956, rate=2.790296535002342e-06, source=1, dest=2), MigrationRateChange(time=1957, rate=2.762297361522165e-06, source=1, dest=2), MigrationRateChange(time=1958, rate=2.734543152571551e-06, source=1, dest=2), MigrationRateChange(time=1959, rate=2.7070322101852307e-06, source=1, dest=2), MigrationRateChange(time=1960, rate=2.67976284275798e-06, source=1, dest=2), MigrationRateChange(time=1961, rate=2.652733365090932e-06, source=1, dest=2), MigrationRateChange(time=1962, rate=2.625942098436629e-06, source=1, dest=2), MigrationRateChange(time=1963, rate=2.5993873705430165e-06, source=1, dest=2), MigrationRateChange(time=1964, rate=2.5730675156962378e-06, source=1, dest=2), MigrationRateChange(time=1965, rate=2.546980874762354e-06, source=1, dest=2), MigrationRateChange(time=1966, rate=2.521125795227831e-06, source=1, dest=2), MigrationRateChange(time=1967, rate=2.4955006312390284e-06, source=1, dest=2), MigrationRateChange(time=1968, rate=2.470103743640511e-06, source=1, dest=2), MigrationRateChange(time=1969, rate=2.4449335000123384e-06, source=1, dest=2), MigrationRateChange(time=1970, rate=2.419988274706165e-06, source=1, dest=2), MigrationRateChange(time=1971, rate=2.395266448880372e-06, source=1, dest=2), MigrationRateChange(time=1972, rate=2.3707664105340777e-06, source=1, dest=2), MigrationRateChange(time=1973, rate=2.3464865545401517e-06, source=1, dest=2), MigrationRateChange(time=1974, rate=2.3224252826770995e-06, source=1, dest=2), MigrationRateChange(time=1975, rate=2.2985810036600023e-06, source=1, dest=2), MigrationRateChange(time=1976, rate=2.274952133170385e-06, source=1, dest=2), MigrationRateChange(time=1977, rate=2.2515370938851343e-06, source=1, dest=2), MigrationRateChange(time=1978, rate=2.228334315504313e-06, source=1, dest=2), MigrationRateChange(time=1979, rate=2.2053422347780887e-06, source=1, dest=2), MigrationRateChange(time=1980, rate=2.182559295532623e-06, source=1, dest=2), MigrationRateChange(time=1981, rate=2.1599839486950438e-06, source=1, dest=2), MigrationRateChange(time=1982, rate=2.1376146523173725e-06, source=1, dest=2), MigrationRateChange(time=1983, rate=2.1154498715995925e-06, source=1, dest=2), MigrationRateChange(time=1984, rate=2.093488078911726e-06, source=1, dest=2), MigrationRateChange(time=1985, rate=2.0717277538150267e-06, source=1, dest=2), MigrationRateChange(time=1986, rate=2.0501673830821823e-06, source=1, dest=2), MigrationRateChange(time=1987, rate=2.028805460716675e-06, source=1, dest=2), MigrationRateChange(time=1988, rate=2.007640487971246e-06, source=1, dest=2), MigrationRateChange(time=1989, rate=1.9866709733654016e-06, source=1, dest=2), MigrationRateChange(time=1990, rate=1.965895432702118e-06, source=1, dest=2), MigrationRateChange(time=1991, rate=1.9453123890836307e-06, source=1, dest=2), MigrationRateChange(time=1992, rate=1.924920372926421e-06, source=1, dest=2), MigrationRateChange(time=1993, rate=1.9047179219752596e-06, source=1, dest=2), MigrationRateChange(time=1994, rate=1.8847035813165092e-06, source=1, dest=2), MigrationRateChange(time=1995, rate=1.8648759033905371e-06, source=1, dest=2), MigrationRateChange(time=1996, rate=1.8452334480033641e-06, source=1, dest=2), MigrationRateChange(time=1997, rate=1.8257747823374255e-06, source=1, dest=2), MigrationRateChange(time=1998, rate=1.8064984809616066e-06, source=1, dest=2), MigrationRateChange(time=1999, rate=1.7874031258404494e-06, source=1, dest=2), MigrationRateChange(time=2000, rate=1.768487306342621e-06, source=1, dest=2), MigrationRateChange(time=2001, rate=1.7497496192485337e-06, source=1, dest=2), MigrationRateChange(time=2002, rate=1.7311886687572907e-06, source=1, dest=2), MigrationRateChange(time=2003, rate=1.7128030664928224e-06, source=1, dest=2), MigrationRateChange(time=2004, rate=1.6945914315093368e-06, source=1, dest=2), MigrationRateChange(time=2005, rate=1.676552390295959e-06, source=1, dest=2), MigrationRateChange(time=2006, rate=1.658684576780722e-06, source=1, dest=2), MigrationRateChange(time=2007, rate=1.640986632333804e-06, source=1, dest=2), MigrationRateChange(time=2008, rate=1.6234572057701021e-06, source=1, dest=2), MigrationRateChange(time=2009, rate=1.6060949533510403e-06, source=1, dest=2), MigrationRateChange(time=2010, rate=1.5888985387857674e-06, source=1, dest=2), MigrationRateChange(time=2011, rate=1.5718666332316308e-06, source=1, dest=2), MigrationRateChange(time=2012, rate=1.5549979152940317e-06, source=1, dest=2), MigrationRateChange(time=2013, rate=1.5382910710255474e-06, source=1, dest=2), MigrationRateChange(time=2014, rate=1.5217447939244807e-06, source=1, dest=2), MigrationRateChange(time=2015, rate=1.5053577849327228e-06, source=1, dest=2), MigrationRateChange(time=2016, rate=1.4891287524330284e-06, source=1, dest=2), MigrationRateChange(time=2017, rate=1.473056412245606e-06, source=1, dest=2), MigrationRateChange(time=2018, rate=1.4571394876241563e-06, source=1, dest=2), MigrationRateChange(time=2019, rate=1.44137670925127e-06, source=1, dest=2), MigrationRateChange(time=2020, rate=1.4257668152332707e-06, source=1, dest=2), MigrationRateChange(time=2021, rate=1.4103085510944036e-06, source=1, dest=2), MigrationRateChange(time=2022, rate=1.3950006697705154e-06, source=1, dest=2), MigrationRateChange(time=2023, rate=1.379841931602124e-06, source=1, dest=2), MigrationRateChange(time=2024, rate=1.364831104326963e-06, source=1, dest=2), MigrationRateChange(time=2025, rate=1.3499669630719193e-06, source=1, dest=2), MigrationRateChange(time=2026, rate=1.3352482903444821e-06, source=1, dest=2), MigrationRateChange(time=2027, rate=1.3206738760236238e-06, source=1, dest=2), MigrationRateChange(time=2028, rate=1.306242517350188e-06, source=1, dest=2), MigrationRateChange(time=2029, rate=1.2919530189167024e-06, source=1, dest=2), MigrationRateChange(time=2030, rate=1.2778041926567392e-06, source=1, dest=2), MigrationRateChange(time=2031, rate=1.2637948578337368e-06, source=1, dest=2), MigrationRateChange(time=2032, rate=1.2499238410293656e-06, source=1, dest=2), MigrationRateChange(time=2033, rate=1.2361899761313475e-06, source=1, dest=2), MigrationRateChange(time=2034, rate=1.2225921043208575e-06, source=1, dest=2), MigrationRateChange(time=2035, rate=1.2091290740594206e-06, source=1, dest=2), MigrationRateChange(time=2036, rate=1.1957997410753786e-06, source=1, dest=2), MigrationRateChange(time=2037, rate=1.1826029683498495e-06, source=1, dest=2), MigrationRateChange(time=2038, rate=1.1695376261022958e-06, source=1, dest=2), MigrationRateChange(time=2039, rate=1.1566025917756213e-06, source=1, dest=2), MigrationRateChange(time=2040, rate=1.143796750020867e-06, source=1, dest=2), MigrationRateChange(time=2041, rate=1.1311189926814362e-06, source=1, dest=2), MigrationRateChange(time=2042, rate=1.1185682187769493e-06, source=1, dest=2), MigrationRateChange(time=2043, rate=1.1061433344866661e-06, source=1, dest=2), MigrationRateChange(time=2044, rate=1.0938432531325337e-06, source=1, dest=2), MigrationRateChange(time=2045, rate=1.0816668951617924e-06, source=1, dest=2), MigrationRateChange(time=2046, rate=1.0696131881292404e-06, source=1, dest=2), MigrationRateChange(time=2047, rate=1.0576810666791194e-06, source=1, dest=2), MigrationRateChange(time=2048, rate=1.0458694725265854e-06, source=1, dest=2), MigrationRateChange(time=2049, rate=1.034177354438862e-06, source=1, dest=2), MigrationRateChange(time=2050, rate=1.022603668216011e-06, source=1, dest=2), MigrationRateChange(time=2051, rate=1.011147376671376e-06, source=1, dest=2), MigrationRateChange(time=2052, rate=9.998074496116414e-07, source=1, dest=2), MigrationRateChange(time=2053, rate=9.885828638165984e-07, source=1, dest=2), MigrationRateChange(time=2054, rate=9.774726030185538e-07, source=1, dest=2), MigrationRateChange(time=2055, rate=9.664756578814444e-07, source=1, dest=2), MigrationRateChange(time=2056, rate=9.5559102597959e-07, source=1, dest=2), MigrationRateChange(time=2057, rate=9.448177117761818e-07, source=1, dest=2), MigrationRateChange(time=2058, rate=9.341547266014423e-07, source=1, dest=2), MigrationRateChange(time=2059, rate=9.23601088630513e-07, source=1, dest=2), MigrationRateChange(time=2060, rate=9.131558228610113e-07, source=1, dest=2), MigrationRateChange(time=2061, rate=9.028179610903468e-07, source=1, dest=2), MigrationRateChange(time=2062, rate=8.925865418927353e-07, source=1, dest=2), MigrationRateChange(time=2063, rate=8.824606105959655e-07, source=1, dest=2), MigrationRateChange(time=2064, rate=8.724392192578624e-07, source=1, dest=2), MigrationRateChange(time=2065, rate=8.625214266425328e-07, source=1, dest=2), MigrationRateChange(time=2066, rate=8.527062981963343e-07, source=1, dest=2), MigrationRateChange(time=2067, rate=8.429929060236214e-07, source=1, dest=2), MigrationRateChange(time=2068, rate=8.33380328862214e-07, source=1, dest=2), MigrationRateChange(time=2069, rate=8.238676520586709e-07, source=1, dest=2), MigrationRateChange(time=2070, rate=8.14453967543311e-07, source=1, dest=2), MigrationRateChange(time=2071, rate=8.05138373805034e-07, source=1, dest=2), MigrationRateChange(time=2072, rate=7.95919975865891e-07, source=1, dest=2), MigrationRateChange(time=2073, rate=7.867978852554773e-07, source=1, dest=2), MigrationRateChange(time=2074, rate=7.777712199851013e-07, source=1, dest=2), MigrationRateChange(time=2075, rate=7.688391045217731e-07, source=1, dest=2), MigrationRateChange(time=2076, rate=7.600006697619653e-07, source=1, dest=2), MigrationRateChange(time=2077, rate=7.512550530052194e-07, source=1, dest=2), MigrationRateChange(time=2078, rate=7.4260139792755e-07, source=1, dest=2), MigrationRateChange(time=2079, rate=7.340388545546892e-07, source=1, dest=2), MigrationRateChange(time=2080, rate=7.255665792351265e-07, source=1, dest=2), MigrationRateChange(time=2081, rate=7.171837346130159e-07, source=1, dest=2), MigrationRateChange(time=2082, rate=7.088894896008989e-07, source=1, dest=2), MigrationRateChange(time=2083, rate=7.006830193522923e-07, source=1, dest=2), MigrationRateChange(time=2084, rate=6.925635052340904e-07, source=1, dest=2), MigrationRateChange(time=2085, rate=6.845301347988541e-07, source=1, dest=2), MigrationRateChange(time=2086, rate=6.76582101756938e-07, source=1, dest=2), MigrationRateChange(time=2087, rate=6.687186059484988e-07, source=1, dest=2), MigrationRateChange(time=2088, rate=6.609388533153439e-07, source=1, dest=2), MigrationRateChange(time=2089, rate=6.532420558726785e-07, source=1, dest=2), MigrationRateChange(time=2090, rate=6.456274316807172e-07, source=1, dest=2), MigrationRateChange(time=2091, rate=6.38094204816192e-07, source=1, dest=2), MigrationRateChange(time=2092, rate=6.306416053437185e-07, source=1, dest=2), MigrationRateChange(time=2093, rate=6.232688692870843e-07, source=1, dest=2), MigrationRateChange(time=2094, rate=6.159752386004133e-07, source=1, dest=2), MigrationRateChange(time=2095, rate=6.087599611392501e-07, source=1, dest=2), MigrationRateChange(time=2096, rate=6.016222906315176e-07, source=1, dest=2), MigrationRateChange(time=2097, rate=5.945614866484164e-07, source=1, dest=2), MigrationRateChange(time=2098, rate=5.875768145752156e-07, source=1, dest=2), MigrationRateChange(time=2099, rate=5.806675455819818e-07, source=1, dest=2), MigrationRateChange(time=2100, rate=5.73832956594201e-07, source=1, dest=2), MigrationRateChange(time=2101, rate=5.670723302633497e-07, source=1, dest=2), MigrationRateChange(time=2102, rate=5.603849549373986e-07, source=1, dest=2), MigrationRateChange(time=2103, rate=5.537701246312237e-07, source=1, dest=2), MigrationRateChange(time=2104, rate=5.472271389969831e-07, source=1, dest=2), MigrationRateChange(time=2105, rate=5.407553032944216e-07, source=1, dest=2), MigrationRateChange(time=2106, rate=5.34353928361132e-07, source=1, dest=2), MigrationRateChange(time=2107, rate=5.280223305827453e-07, source=1, dest=2), MigrationRateChange(time=2108, rate=5.217598318630964e-07, source=1, dest=2), MigrationRateChange(time=2109, rate=5.155657595943339e-07, source=1, dest=2), MigrationRateChange(time=2110, rate=5.094394466270034e-07, source=1, dest=2), MigrationRateChange(time=2111, rate=5.033802312400724e-07, source=1, dest=2), MigrationRateChange(time=2112, rate=4.973874571109459e-07, source=1, dest=2), MigrationRateChange(time=2113, rate=4.914604732854406e-07, source=1, dest=2), MigrationRateChange(time=2114, rate=4.855986341477468e-07, source=1, dest=2), MigrationRateChange(time=2115, rate=4.798012993903445e-07, source=1, dest=2), MigrationRateChange(time=2116, rate=4.740678339839272e-07, source=1, dest=2), MigrationRateChange(time=2117, rate=4.683976081472941e-07, source=1, dest=2), MigrationRateChange(time=2118, rate=4.6278999731724403e-07, source=1, dest=2), MigrationRateChange(time=2119, rate=4.5724438211844104e-07, source=1, dest=2), MigrationRateChange(time=2120, rate=4.517601483332934e-07, source=1, dest=2), MigrationRateChange(time=2121, rate=4.4633668687181994e-07, source=1, dest=2), MigrationRateChange(time=2122, rate=4.4097339374152794e-07, source=1, dest=2), MigrationRateChange(time=2123, rate=4.356696700172744e-07, source=1, dest=2), MigrationRateChange(time=2124, rate=4.3042492181115546e-07, source=1, dest=2), MigrationRateChange(time=2125, rate=4.25238560242393e-07, source=1, dest=2), MigrationRateChange(time=2126, rate=4.2011000140724457e-07, source=1, dest=2), MigrationRateChange(time=2127, rate=4.1503866634891105e-07, source=1, dest=2), MigrationRateChange(time=2128, rate=4.100239810274794e-07, source=1, dest=2), MigrationRateChange(time=2129, rate=4.0506537628987815e-07, source=1, dest=2), MigrationRateChange(time=2130, rate=4.001622878398648e-07, source=1, dest=2), MigrationRateChange(time=2131, rate=3.953141562080227e-07, source=1, dest=2), MigrationRateChange(time=2132, rate=3.905204267218042e-07, source=1, dest=2), MigrationRateChange(time=2133, rate=3.8578054947559543e-07, source=1, dest=2), MigrationRateChange(time=2134, rate=3.8109397930082535e-07, source=1, dest=2), MigrationRateChange(time=2135, rate=3.7646017573609304e-07, source=1, dest=2), MigrationRateChange(time=2136, rate=3.7187860299735263e-07, source=1, dest=2), MigrationRateChange(time=2137, rate=3.6734872994812825e-07, source=1, dest=2), MigrationRateChange(time=2138, rate=3.6287003006978405e-07, source=1, dest=2), MigrationRateChange(time=2139, rate=3.5844198143182127e-07, source=1, dest=2), MigrationRateChange(time=2140, rate=3.54064066662243e-07, source=1, dest=2), MigrationRateChange(time=2141, rate=3.4973577291795763e-07, source=1, dest=2), MigrationRateChange(time=2142, rate=3.4545659185524635e-07, source=1, dest=2), MigrationRateChange(time=2143, rate=3.4122601960026716e-07, source=1, dest=2), MigrationRateChange(time=2144, rate=3.370435567196351e-07, source=1, dest=2), MigrationRateChange(time=2145, rate=3.3290870819104887e-07, source=1, dest=2), MigrationRateChange(time=2146, rate=3.288209833739907e-07, source=1, dest=2), MigrationRateChange(time=2147, rate=3.2477989598047146e-07, source=1, dest=2), MigrationRateChange(time=2148, rate=3.207849640458585e-07, source=1, dest=2), MigrationRateChange(time=2149, rate=3.168357098997598e-07, source=1, dest=2), MigrationRateChange(time=2150, rate=3.129316601369867e-07, source=1, dest=2), MigrationRateChange(time=2151, rate=3.090723455885724e-07, source=1, dest=2), MigrationRateChange(time=2152, rate=3.0525730129287787e-07, source=1, dest=2), MigrationRateChange(time=2153, rate=3.014860664667632e-07, source=1, dest=2), MigrationRateChange(time=2154, rate=0, source=-1, dest=-1), MassMigration(time=2550, source=1, dest=0, proportion=1.0), MassMigration(time=10000, source=2, dest=0, proportion=1.0)], migration_matrix=array([[0., 0., 0.],\n",
       "       [0., 0., 0.],\n",
       "       [0., 0., 0.]]))>"
      ]
     },
     "execution_count": 31,
     "metadata": {},
     "output_type": "execute_result"
    }
   ],
   "source": [
    "model.model.items"
   ]
  },
  {
   "cell_type": "code",
   "execution_count": 5,
   "id": "7b533a21",
   "metadata": {},
   "outputs": [
    {
     "ename": "AttributeError",
     "evalue": "'Demography' object has no attribute 'migration_rate_changes'",
     "output_type": "error",
     "traceback": [
      "\u001b[0;31m---------------------------------------------------------------------------\u001b[0m",
      "\u001b[0;31mAttributeError\u001b[0m                            Traceback (most recent call last)",
      "Cell \u001b[0;32mIn[5], line 58\u001b[0m\n\u001b[1;32m     55\u001b[0m     \u001b[38;5;28;01mreturn\u001b[39;00m dem              \u001b[38;5;66;03m# ready for msprime.sim_ancestry / .to_demes()\u001b[39;00m\n\u001b[1;32m     57\u001b[0m \u001b[38;5;66;03m# ── example ─────────────────────────────────────────────────────────────\u001b[39;00m\n\u001b[0;32m---> 58\u001b[0m custom_demog \u001b[38;5;241m=\u001b[39m \u001b[43mcustomise_ooa_extended_pulse\u001b[49m\u001b[43m(\u001b[49m\n\u001b[1;32m     59\u001b[0m \u001b[43m    \u001b[49m\u001b[43mNYRI\u001b[49m\u001b[38;5;241;43m=\u001b[39;49m\u001b[38;5;241;43m8000\u001b[39;49m\u001b[43m,\u001b[49m\u001b[43m \u001b[49m\u001b[43mNCEU\u001b[49m\u001b[38;5;241;43m=\u001b[39;49m\u001b[38;5;241;43m12000\u001b[39;49m\u001b[43m,\u001b[49m\u001b[43m \u001b[49m\u001b[43mT_OOA\u001b[49m\u001b[38;5;241;43m=\u001b[39;49m\u001b[38;5;241;43m2500\u001b[39;49m\u001b[43m,\u001b[49m\n\u001b[1;32m     60\u001b[0m \u001b[43m    \u001b[49m\u001b[43mT_PULSE_START\u001b[49m\u001b[38;5;241;43m=\u001b[39;49m\u001b[38;5;241;43m1800\u001b[39;49m\u001b[43m,\u001b[49m\u001b[43m \u001b[49m\u001b[43mT_PULSE_END\u001b[49m\u001b[38;5;241;43m=\u001b[39;49m\u001b[38;5;241;43m1000\u001b[39;49m\u001b[43m,\u001b[49m\u001b[43m \u001b[49m\u001b[43mM_NEApCEU\u001b[49m\u001b[38;5;241;43m=\u001b[39;49m\u001b[38;5;241;43m0.02\u001b[39;49m\n\u001b[1;32m     61\u001b[0m \u001b[43m)\u001b[49m\n",
      "Cell \u001b[0;32mIn[5], line 41\u001b[0m, in \u001b[0;36mcustomise_ooa_extended_pulse\u001b[0;34m(**kwargs)\u001b[0m\n\u001b[1;32m     38\u001b[0m pulse_keys \u001b[38;5;241m=\u001b[39m {\u001b[38;5;124m\"\u001b[39m\u001b[38;5;124mT_PULSE_START\u001b[39m\u001b[38;5;124m\"\u001b[39m, \u001b[38;5;124m\"\u001b[39m\u001b[38;5;124mT_PULSE_END\u001b[39m\u001b[38;5;124m\"\u001b[39m, \u001b[38;5;124m\"\u001b[39m\u001b[38;5;124mM_NEApCEU\u001b[39m\u001b[38;5;124m\"\u001b[39m}\n\u001b[1;32m     39\u001b[0m \u001b[38;5;28;01mif\u001b[39;00m pulse_keys \u001b[38;5;241m&\u001b[39m kwargs\u001b[38;5;241m.\u001b[39mkeys():\n\u001b[1;32m     40\u001b[0m     dem\u001b[38;5;241m.\u001b[39mmigration_rate_changes \u001b[38;5;241m=\u001b[39m [  \u001b[38;5;66;03m# keep only non-NEA→CEU records\u001b[39;00m\n\u001b[0;32m---> 41\u001b[0m         m \u001b[38;5;28;01mfor\u001b[39;00m m \u001b[38;5;129;01min\u001b[39;00m \u001b[43mdem\u001b[49m\u001b[38;5;241;43m.\u001b[39;49m\u001b[43mmigration_rate_changes\u001b[49m\n\u001b[1;32m     42\u001b[0m         \u001b[38;5;28;01mif\u001b[39;00m \u001b[38;5;129;01mnot\u001b[39;00m (m\u001b[38;5;241m.\u001b[39msource \u001b[38;5;241m==\u001b[39m \u001b[38;5;124m\"\u001b[39m\u001b[38;5;124mNEA\u001b[39m\u001b[38;5;124m\"\u001b[39m \u001b[38;5;129;01mand\u001b[39;00m m\u001b[38;5;241m.\u001b[39mdest \u001b[38;5;241m==\u001b[39m \u001b[38;5;124m\"\u001b[39m\u001b[38;5;124mCEU\u001b[39m\u001b[38;5;124m\"\u001b[39m)\n\u001b[1;32m     43\u001b[0m     ]\n\u001b[1;32m     44\u001b[0m     \u001b[38;5;66;03m# add fresh ones\u001b[39;00m\n\u001b[1;32m     45\u001b[0m     start \u001b[38;5;241m=\u001b[39m kwargs\u001b[38;5;241m.\u001b[39mget(\u001b[38;5;124m\"\u001b[39m\u001b[38;5;124mT_PULSE_START\u001b[39m\u001b[38;5;124m\"\u001b[39m, \u001b[38;5;241m1700\u001b[39m)   \u001b[38;5;66;03m# defaults = original\u001b[39;00m\n",
      "\u001b[0;31mAttributeError\u001b[0m: 'Demography' object has no attribute 'migration_rate_changes'"
     ]
    }
   ],
   "source": [
    "import stdpopsim, msprime          # only two deps\n",
    "\n",
    "def customise_ooa_extended_pulse(**kwargs) -> msprime.Demography:\n",
    "    \"\"\"\n",
    "    Return an **msprime.Demography** object identical to\n",
    "    `OutOfAfricaExtendedNeandertalAdmixturePulse_3I21`, except that any keyword\n",
    "    you pass here replaces the model’s default value.\n",
    "\n",
    "    Valid keywords  (all optional) ────────────────────────────────────────────\n",
    "        NYRI, NCEU, NNEA            – population sizes\n",
    "        T_OOA, T_NEASPLIT           – split times  (generations, *not* kya)\n",
    "        T_PULSE_START, T_PULSE_END  – pulse window (generations)\n",
    "        M_NEApCEU                   – per-generation NEA→CEU migration rate\n",
    "    \"\"\"\n",
    "    # 1) grab the original\n",
    "    species = stdpopsim.get_species(\"HomSap\")\n",
    "    dem = species.get_demographic_model(\n",
    "            \"OutOfAfricaExtendedNeandertalAdmixturePulse_3I21\").model.copy()\n",
    "\n",
    "    # 2) sizes -------------------------------------------------------------\n",
    "    size_map = {\"YRI\": \"NYRI\", \"CEU\": \"NCEU\", \"NEA\": \"NNEA\"}\n",
    "    for pop in dem.populations:\n",
    "        if size_map[pop.name] in kwargs:\n",
    "            pop.initial_size = kwargs[size_map[pop.name]]\n",
    "\n",
    "    # 3) split times -------------------------------------------------------\n",
    "    for ev in dem.events:                     # works in any msprime ≥1.0\n",
    "        # CEU & YRI split (OOA)\n",
    "        if isinstance(ev, msprime.MassMigration) and ev.source == 1 and ev.dest == 0:\n",
    "            if \"T_OOA\" in kwargs:\n",
    "                ev.time = kwargs[\"T_OOA\"]\n",
    "        # NEA–human split\n",
    "        if isinstance(ev, msprime.MassMigration) and ev.source == 2 and ev.dest == 0:\n",
    "            if \"T_NEASPLIT\" in kwargs:\n",
    "                ev.time = kwargs[\"T_NEASPLIT\"]\n",
    "\n",
    "    # 4) overwrite pulse: drop old events, add ours ------------------------\n",
    "    pulse_keys = {\"T_PULSE_START\", \"T_PULSE_END\", \"M_NEApCEU\"}\n",
    "    if pulse_keys & kwargs.keys():\n",
    "        dem.migration_rate_changes = [  # keep only non-NEA→CEU records\n",
    "            m for m in dem.migration_rate_changes\n",
    "            if not (m.source == \"NEA\" and m.dest == \"CEU\")\n",
    "        ]\n",
    "        # add fresh ones\n",
    "        start = kwargs.get(\"T_PULSE_START\", 1700)   # defaults = original\n",
    "        end   = kwargs.get(\"T_PULSE_END\",   900)\n",
    "        rate  = kwargs.get(\"M_NEApCEU\",     0.03)\n",
    "        dem.migration_rate_changes.extend([\n",
    "            msprime.MigrationRateChange(time=start, rate=rate,\n",
    "                                        source=\"NEA\", dest=\"CEU\"),\n",
    "            msprime.MigrationRateChange(time=end,   rate=0.0,\n",
    "                                        source=\"NEA\", dest=\"CEU\"),\n",
    "        ])\n",
    "\n",
    "    return dem              # ready for msprime.sim_ancestry / .to_demes()\n",
    "\n",
    "# ── example ─────────────────────────────────────────────────────────────\n",
    "custom_demog = customise_ooa_extended_pulse(\n",
    "    NYRI=8000, NCEU=12000, T_OOA=2500,\n",
    "    T_PULSE_START=1800, T_PULSE_END=1000, M_NEApCEU=0.02\n",
    ")"
   ]
  },
  {
   "cell_type": "code",
   "execution_count": 7,
   "id": "f34afe76",
   "metadata": {},
   "outputs": [],
   "source": [
    "import stdpopsim, msprime\n",
    "\n",
    "species = stdpopsim.get_species(\"HomSap\")\n",
    "cat_model = species.get_demographic_model(\n",
    "    \"OutOfAfricaExtendedNeandertalAdmixturePulse_3I21\")\n",
    "\n",
    "# In >= v0.3 the `model` attribute *is* an msprime.Demography\n",
    "demo = cat_model.model.copy()      # make our own editable copy\n"
   ]
  },
  {
   "cell_type": "code",
   "execution_count": 8,
   "id": "558c1cf0",
   "metadata": {},
   "outputs": [
    {
     "ename": "AttributeError",
     "evalue": "'Demography' object has no attribute 'set_migration_matrix'",
     "output_type": "error",
     "traceback": [
      "\u001b[0;31m---------------------------------------------------------------------------\u001b[0m",
      "\u001b[0;31mAttributeError\u001b[0m                            Traceback (most recent call last)",
      "Cell \u001b[0;32mIn[8], line 6\u001b[0m\n\u001b[1;32m      4\u001b[0m \u001b[38;5;66;03m# Cut YRI↔CEU symmetric migration in half\u001b[39;00m\n\u001b[1;32m      5\u001b[0m new_matrix \u001b[38;5;241m=\u001b[39m demo\u001b[38;5;241m.\u001b[39mmigration_matrix \u001b[38;5;241m*\u001b[39m \u001b[38;5;241m0.5\u001b[39m\n\u001b[0;32m----> 6\u001b[0m \u001b[43mdemo\u001b[49m\u001b[38;5;241;43m.\u001b[39;49m\u001b[43mset_migration_matrix\u001b[49m(new_matrix)\n\u001b[1;32m      8\u001b[0m \u001b[38;5;66;03m# Remove the Neandertal→CEU pulse completely\u001b[39;00m\n\u001b[1;32m      9\u001b[0m demo\u001b[38;5;241m.\u001b[39mevents \u001b[38;5;241m=\u001b[39m [e \u001b[38;5;28;01mfor\u001b[39;00m e \u001b[38;5;129;01min\u001b[39;00m demo\u001b[38;5;241m.\u001b[39mevents\n\u001b[1;32m     10\u001b[0m                \u001b[38;5;28;01mif\u001b[39;00m \u001b[38;5;129;01mnot\u001b[39;00m (\u001b[38;5;28misinstance\u001b[39m(e, msprime\u001b[38;5;241m.\u001b[39mMassMigration)\n\u001b[1;32m     11\u001b[0m                        \u001b[38;5;129;01mand\u001b[39;00m e\u001b[38;5;241m.\u001b[39mdest \u001b[38;5;241m==\u001b[39m demo[\u001b[38;5;124m\"\u001b[39m\u001b[38;5;124mCEU\u001b[39m\u001b[38;5;124m\"\u001b[39m]\u001b[38;5;241m.\u001b[39mid)]\n",
      "\u001b[0;31mAttributeError\u001b[0m: 'Demography' object has no attribute 'set_migration_matrix'"
     ]
    }
   ],
   "source": [
    "# Double the present-day CEU size\n",
    "demo[\"CEU\"].initial_size *= 2\n",
    "\n",
    "# Cut YRI↔CEU symmetric migration in half\n",
    "new_matrix = demo.migration_matrix * 0.5\n",
    "demo.set_migration_matrix(new_matrix)\n",
    "\n",
    "# Remove the Neandertal→CEU pulse completely\n",
    "demo.events = [e for e in demo.events\n",
    "               if not (isinstance(e, msprime.MassMigration)\n",
    "                       and e.dest == demo[\"CEU\"].id)]\n"
   ]
  },
  {
   "cell_type": "code",
   "execution_count": 3,
   "id": "fada62bf",
   "metadata": {},
   "outputs": [],
   "source": [
    "import pickle \n",
    "with open('/sietch_colab/akapoor/Infer_Demography/split_isolation/runs/run_0001/data/sampled_params.pkl', 'rb') as f:\n",
    "    sampled_params = pickle.load(f)"
   ]
  },
  {
   "cell_type": "code",
   "execution_count": 4,
   "id": "767f1573",
   "metadata": {},
   "outputs": [
    {
     "data": {
      "text/plain": [
       "{'N0': 16609,\n",
       " 'N1': 4950,\n",
       " 'N2': 8727,\n",
       " 'm': 6.97398292256458e-05,\n",
       " 't_split': 4673}"
      ]
     },
     "execution_count": 4,
     "metadata": {},
     "output_type": "execute_result"
    }
   ],
   "source": [
    "sampled_params"
   ]
  },
  {
   "cell_type": "code",
   "execution_count": 1,
   "id": "31c2554b",
   "metadata": {},
   "outputs": [],
   "source": [
    "import pickle\n",
    "with open('/sietch_colab/akapoor/Infer_Demography/experiments/split_isolation/inferences/sim_0/dadi/fit_params.pkl', 'rb') as f:\n",
    "    dadi_fit_params = pickle.load(f)"
   ]
  },
  {
   "cell_type": "code",
   "execution_count": 2,
   "id": "c7ed5fbc",
   "metadata": {},
   "outputs": [
    {
     "data": {
      "text/plain": [
       "{'best_params': [array([2.18331227e+03, 2.95178502e+04, 2.18282507e+04, 3.23288191e-05,\n",
       "         2.00000000e+04]),\n",
       "  array([2.18331227e+03, 2.96051878e+04, 2.17271273e+04, 3.24199928e-05,\n",
       "         2.00000000e+04])],\n",
       " 'best_lls': [-576.9923217184846, -577.0031443763118]}"
      ]
     },
     "execution_count": 2,
     "metadata": {},
     "output_type": "execute_result"
    }
   ],
   "source": [
    "dadi_fit_params"
   ]
  },
  {
   "cell_type": "code",
   "execution_count": 3,
   "id": "937ba4ea",
   "metadata": {},
   "outputs": [],
   "source": [
    "import pickle\n",
    "with open('/projects/kernlab/akapoor/Infer_Demography/experiments/bottleneck/inferences/sim_0/all_inferences.pkl', 'rb') as f:\n",
    "    all_inferences = pickle.load(f)"
   ]
  },
  {
   "cell_type": "code",
   "execution_count": 4,
   "id": "7c89a9b5",
   "metadata": {},
   "outputs": [
    {
     "data": {
      "text/plain": [
       "{'moments': {'best_params': ['N0'], 'best_lls': [94.73367150869032]},\n",
       " 'dadi': {'best_params': ['N0'], 'best_lls': [-93.64312380114049]},\n",
       " 'momentsLD': {'opt_params': {'N_bottleneck': 866.1572336041122,\n",
       "   'N_recover': 9078.351185941146,\n",
       "   't_bottleneck_start': 1554.509181997806,\n",
       "   't_bottleneck_end': 849.999013978426,\n",
       "   'N0': 9078.351185941146},\n",
       "  'loglik': 2.699875797913049}}"
      ]
     },
     "execution_count": 4,
     "metadata": {},
     "output_type": "execute_result"
    }
   ],
   "source": [
    "all_inferences"
   ]
  },
  {
   "cell_type": "code",
   "execution_count": 11,
   "id": "3bf8e66b",
   "metadata": {},
   "outputs": [],
   "source": [
    "with open('/home/akapoor/kernlab/Infer_Demography/experiments/bottleneck/inferences/sim_1/dadi/fit_params.pkl', 'rb') as f:\n",
    "    dadi_fit_params = pickle.load(f)"
   ]
  },
  {
   "cell_type": "code",
   "execution_count": 12,
   "id": "b696f402",
   "metadata": {},
   "outputs": [
    {
     "data": {
      "text/plain": [
       "{'best_params': [{'N0': 8139.331591383296,\n",
       "   'N_bottleneck': 958.8227460999914,\n",
       "   'N_recover': 19999.99999999998,\n",
       "   't_bottleneck_start': 1700.9999999999998,\n",
       "   't_bottleneck_end': 258.7649152312198}],\n",
       " 'best_lls': [113.29296357567316]}"
      ]
     },
     "execution_count": 12,
     "metadata": {},
     "output_type": "execute_result"
    }
   ],
   "source": [
    "dadi_fit_params"
   ]
  },
  {
   "cell_type": "code",
   "execution_count": 16,
   "id": "3caf8cd8",
   "metadata": {},
   "outputs": [],
   "source": [
    "with open('/home/akapoor/kernlab/Infer_Demography/experiments/split_isolation/inferences/sim_0/all_inferences.pkl', 'rb') as f:\n",
    "    all_inferences = pickle.load(f)"
   ]
  },
  {
   "cell_type": "code",
   "execution_count": 17,
   "id": "ce4516cc",
   "metadata": {},
   "outputs": [
    {
     "data": {
      "text/plain": [
       "{'moments': {'best_params': [{'N0': 17555.922337392178,\n",
       "    'N1': 7796.562630626548,\n",
       "    'N2': 12188.245160817358,\n",
       "    'm': 4.018009136894766e-05,\n",
       "    't_split': 18341.851191110814},\n",
       "   {'N0': 17555.922337392178,\n",
       "    'N1': 7796.708576402069,\n",
       "    'N2': 12188.846928503957,\n",
       "    'm': 4.0178371412684415e-05,\n",
       "    't_split': 18334.402769613047}],\n",
       "  'best_lls': [1243.4709811391656, 1243.470970482198]},\n",
       " 'dadi': {'best_params': [{'N0': 17555.922337392178,\n",
       "    'N1': 7117.711335063998,\n",
       "    'N2': 11075.137977795626,\n",
       "    'm': 4.1700761922239436e-05,\n",
       "    't_split': 9757.10177708768},\n",
       "   {'N0': 17555.922337392178,\n",
       "    'N1': 6561.476467594923,\n",
       "    'N2': 10659.345933590477,\n",
       "    'm': 4.9848274037219946e-05,\n",
       "    't_split': 10979.275976153536}],\n",
       "  'best_lls': [-1260.0160623676284, -1266.7306647855562]},\n",
       " 'momentsLD': {'opt_params': {'N1': 9242.37313771942,\n",
       "   'N2': 15812.570081954216,\n",
       "   't_split': 119530.21366212315,\n",
       "   'N0': 2.7379734966532323e-05},\n",
       "  'loglik': 795.6257660955346}}"
      ]
     },
     "execution_count": 17,
     "metadata": {},
     "output_type": "execute_result"
    }
   ],
   "source": [
    "all_inferences"
   ]
  },
  {
   "cell_type": "code",
   "execution_count": 18,
   "id": "5483630d",
   "metadata": {},
   "outputs": [],
   "source": [
    "with open('/home/akapoor/kernlab/Infer_Demography/experiments/split_isolation/inferences/sim_0/MomentsLD/best_fit.pkl', 'rb') as f:\n",
    "    moments_ld_fit_params = pickle.load(f)"
   ]
  },
  {
   "cell_type": "code",
   "execution_count": 19,
   "id": "85c89f3b",
   "metadata": {},
   "outputs": [
    {
     "data": {
      "text/plain": [
       "{'opt_params': {'N1': 9242.37313771942,\n",
       "  'N2': 15812.570081954216,\n",
       "  't_split': 119530.21366212315,\n",
       "  'N0': 2.7379734966532323e-05},\n",
       " 'loglik': 795.6257660955346}"
      ]
     },
     "execution_count": 19,
     "metadata": {},
     "output_type": "execute_result"
    }
   ],
   "source": [
    "moments_ld_fit_params"
   ]
  },
  {
   "cell_type": "code",
   "execution_count": 20,
   "id": "020accfc",
   "metadata": {},
   "outputs": [],
   "source": [
    "with open('/home/akapoor/kernlab/Infer_Demography/experiments/split_isolation/modeling/features_df.pkl', 'rb') as f:\n",
    "    features_df = pickle.load(f)"
   ]
  },
  {
   "cell_type": "code",
   "execution_count": 21,
   "id": "7c885426",
   "metadata": {},
   "outputs": [
    {
     "data": {
      "text/html": [
       "<div>\n",
       "<style scoped>\n",
       "    .dataframe tbody tr th:only-of-type {\n",
       "        vertical-align: middle;\n",
       "    }\n",
       "\n",
       "    .dataframe tbody tr th {\n",
       "        vertical-align: top;\n",
       "    }\n",
       "\n",
       "    .dataframe thead th {\n",
       "        text-align: right;\n",
       "    }\n",
       "</style>\n",
       "<table border=\"1\" class=\"dataframe\">\n",
       "  <thead>\n",
       "    <tr style=\"text-align: right;\">\n",
       "      <th></th>\n",
       "      <th>dadi_N0</th>\n",
       "      <th>dadi_N1</th>\n",
       "      <th>dadi_N2</th>\n",
       "      <th>dadi_m</th>\n",
       "      <th>dadi_t_split</th>\n",
       "      <th>momentsLD_N0</th>\n",
       "      <th>momentsLD_N1</th>\n",
       "      <th>momentsLD_N2</th>\n",
       "      <th>momentsLD_t_split</th>\n",
       "      <th>moments_N0</th>\n",
       "      <th>moments_N1</th>\n",
       "      <th>moments_N2</th>\n",
       "      <th>moments_m</th>\n",
       "      <th>moments_t_split</th>\n",
       "    </tr>\n",
       "  </thead>\n",
       "  <tbody>\n",
       "    <tr>\n",
       "      <th>0</th>\n",
       "      <td>27051.562034</td>\n",
       "      <td>9949.378242</td>\n",
       "      <td>28082.614239</td>\n",
       "      <td>1.000000e-04</td>\n",
       "      <td>20000.000000</td>\n",
       "      <td>0.000105</td>\n",
       "      <td>7994.337919</td>\n",
       "      <td>21422.108537</td>\n",
       "      <td>16877.797163</td>\n",
       "      <td>27051.562034</td>\n",
       "      <td>9352.126623</td>\n",
       "      <td>26864.245537</td>\n",
       "      <td>1.000000e-04</td>\n",
       "      <td>8927.871648</td>\n",
       "    </tr>\n",
       "    <tr>\n",
       "      <th>1</th>\n",
       "      <td>5305.061322</td>\n",
       "      <td>27749.605542</td>\n",
       "      <td>23754.806228</td>\n",
       "      <td>9.582252e-05</td>\n",
       "      <td>15789.871745</td>\n",
       "      <td>0.000092</td>\n",
       "      <td>24449.426021</td>\n",
       "      <td>23377.603484</td>\n",
       "      <td>13527.806240</td>\n",
       "      <td>5305.061322</td>\n",
       "      <td>25111.606610</td>\n",
       "      <td>21847.223620</td>\n",
       "      <td>1.000000e-04</td>\n",
       "      <td>13472.235464</td>\n",
       "    </tr>\n",
       "    <tr>\n",
       "      <th>2</th>\n",
       "      <td>892.646884</td>\n",
       "      <td>4144.794726</td>\n",
       "      <td>9465.692506</td>\n",
       "      <td>6.043604e-05</td>\n",
       "      <td>11920.055913</td>\n",
       "      <td>0.000030</td>\n",
       "      <td>3903.313494</td>\n",
       "      <td>11639.600790</td>\n",
       "      <td>16024.431945</td>\n",
       "      <td>892.646884</td>\n",
       "      <td>5205.814538</td>\n",
       "      <td>11866.869716</td>\n",
       "      <td>4.580140e-05</td>\n",
       "      <td>15482.503953</td>\n",
       "    </tr>\n",
       "    <tr>\n",
       "      <th>3</th>\n",
       "      <td>19694.516099</td>\n",
       "      <td>259.300264</td>\n",
       "      <td>27107.609489</td>\n",
       "      <td>7.448504e-06</td>\n",
       "      <td>10156.868476</td>\n",
       "      <td>0.000013</td>\n",
       "      <td>4190.264888</td>\n",
       "      <td>132138.975842</td>\n",
       "      <td>3981.106398</td>\n",
       "      <td>19694.516099</td>\n",
       "      <td>356.684642</td>\n",
       "      <td>30000.000000</td>\n",
       "      <td>7.045962e-07</td>\n",
       "      <td>6099.281912</td>\n",
       "    </tr>\n",
       "    <tr>\n",
       "      <th>4</th>\n",
       "      <td>1989.369097</td>\n",
       "      <td>12427.192636</td>\n",
       "      <td>19420.645371</td>\n",
       "      <td>1.000000e-08</td>\n",
       "      <td>2610.777694</td>\n",
       "      <td>0.000012</td>\n",
       "      <td>9149.690887</td>\n",
       "      <td>12481.147767</td>\n",
       "      <td>2040.356183</td>\n",
       "      <td>1989.369097</td>\n",
       "      <td>11772.023104</td>\n",
       "      <td>13416.484058</td>\n",
       "      <td>1.000000e-08</td>\n",
       "      <td>2264.584641</td>\n",
       "    </tr>\n",
       "    <tr>\n",
       "      <th>5</th>\n",
       "      <td>16354.776312</td>\n",
       "      <td>15772.093800</td>\n",
       "      <td>1981.981428</td>\n",
       "      <td>3.787637e-05</td>\n",
       "      <td>11220.777624</td>\n",
       "      <td>0.000019</td>\n",
       "      <td>17309.154642</td>\n",
       "      <td>2995.717584</td>\n",
       "      <td>13055.435774</td>\n",
       "      <td>16354.776312</td>\n",
       "      <td>20534.549276</td>\n",
       "      <td>2683.934423</td>\n",
       "      <td>1.754561e-05</td>\n",
       "      <td>9097.942884</td>\n",
       "    </tr>\n",
       "    <tr>\n",
       "      <th>6</th>\n",
       "      <td>20724.657112</td>\n",
       "      <td>8198.207681</td>\n",
       "      <td>15468.624606</td>\n",
       "      <td>7.375815e-05</td>\n",
       "      <td>9156.043594</td>\n",
       "      <td>0.000055</td>\n",
       "      <td>9343.365977</td>\n",
       "      <td>14421.681336</td>\n",
       "      <td>12115.132336</td>\n",
       "      <td>20724.657112</td>\n",
       "      <td>8160.467559</td>\n",
       "      <td>15457.205180</td>\n",
       "      <td>7.391561e-05</td>\n",
       "      <td>10565.725350</td>\n",
       "    </tr>\n",
       "    <tr>\n",
       "      <th>7</th>\n",
       "      <td>11046.918419</td>\n",
       "      <td>14301.561548</td>\n",
       "      <td>29230.637862</td>\n",
       "      <td>6.876497e-05</td>\n",
       "      <td>3896.273793</td>\n",
       "      <td>0.000172</td>\n",
       "      <td>8901.590328</td>\n",
       "      <td>18864.619718</td>\n",
       "      <td>6730.682371</td>\n",
       "      <td>11046.918419</td>\n",
       "      <td>14391.228542</td>\n",
       "      <td>30000.000000</td>\n",
       "      <td>4.595811e-05</td>\n",
       "      <td>3160.414693</td>\n",
       "    </tr>\n",
       "    <tr>\n",
       "      <th>8</th>\n",
       "      <td>8132.128583</td>\n",
       "      <td>21576.121740</td>\n",
       "      <td>20225.301189</td>\n",
       "      <td>1.000000e-04</td>\n",
       "      <td>13298.096884</td>\n",
       "      <td>0.000088</td>\n",
       "      <td>21661.696096</td>\n",
       "      <td>16506.883109</td>\n",
       "      <td>11471.758462</td>\n",
       "      <td>8132.128583</td>\n",
       "      <td>20406.116771</td>\n",
       "      <td>19115.703933</td>\n",
       "      <td>1.000000e-04</td>\n",
       "      <td>10946.701708</td>\n",
       "    </tr>\n",
       "    <tr>\n",
       "      <th>9</th>\n",
       "      <td>20598.423214</td>\n",
       "      <td>11106.480829</td>\n",
       "      <td>9888.703281</td>\n",
       "      <td>1.428229e-05</td>\n",
       "      <td>9747.122359</td>\n",
       "      <td>0.000022</td>\n",
       "      <td>11795.976739</td>\n",
       "      <td>10657.338593</td>\n",
       "      <td>14990.303983</td>\n",
       "      <td>20598.423214</td>\n",
       "      <td>11393.364741</td>\n",
       "      <td>10154.342320</td>\n",
       "      <td>1.406746e-05</td>\n",
       "      <td>10127.558813</td>\n",
       "    </tr>\n",
       "  </tbody>\n",
       "</table>\n",
       "</div>"
      ],
      "text/plain": [
       "        dadi_N0       dadi_N1       dadi_N2        dadi_m  dadi_t_split  \\\n",
       "0  27051.562034   9949.378242  28082.614239  1.000000e-04  20000.000000   \n",
       "1   5305.061322  27749.605542  23754.806228  9.582252e-05  15789.871745   \n",
       "2    892.646884   4144.794726   9465.692506  6.043604e-05  11920.055913   \n",
       "3  19694.516099    259.300264  27107.609489  7.448504e-06  10156.868476   \n",
       "4   1989.369097  12427.192636  19420.645371  1.000000e-08   2610.777694   \n",
       "5  16354.776312  15772.093800   1981.981428  3.787637e-05  11220.777624   \n",
       "6  20724.657112   8198.207681  15468.624606  7.375815e-05   9156.043594   \n",
       "7  11046.918419  14301.561548  29230.637862  6.876497e-05   3896.273793   \n",
       "8   8132.128583  21576.121740  20225.301189  1.000000e-04  13298.096884   \n",
       "9  20598.423214  11106.480829   9888.703281  1.428229e-05   9747.122359   \n",
       "\n",
       "   momentsLD_N0  momentsLD_N1   momentsLD_N2  momentsLD_t_split    moments_N0  \\\n",
       "0      0.000105   7994.337919   21422.108537       16877.797163  27051.562034   \n",
       "1      0.000092  24449.426021   23377.603484       13527.806240   5305.061322   \n",
       "2      0.000030   3903.313494   11639.600790       16024.431945    892.646884   \n",
       "3      0.000013   4190.264888  132138.975842        3981.106398  19694.516099   \n",
       "4      0.000012   9149.690887   12481.147767        2040.356183   1989.369097   \n",
       "5      0.000019  17309.154642    2995.717584       13055.435774  16354.776312   \n",
       "6      0.000055   9343.365977   14421.681336       12115.132336  20724.657112   \n",
       "7      0.000172   8901.590328   18864.619718        6730.682371  11046.918419   \n",
       "8      0.000088  21661.696096   16506.883109       11471.758462   8132.128583   \n",
       "9      0.000022  11795.976739   10657.338593       14990.303983  20598.423214   \n",
       "\n",
       "     moments_N1    moments_N2     moments_m  moments_t_split  \n",
       "0   9352.126623  26864.245537  1.000000e-04      8927.871648  \n",
       "1  25111.606610  21847.223620  1.000000e-04     13472.235464  \n",
       "2   5205.814538  11866.869716  4.580140e-05     15482.503953  \n",
       "3    356.684642  30000.000000  7.045962e-07      6099.281912  \n",
       "4  11772.023104  13416.484058  1.000000e-08      2264.584641  \n",
       "5  20534.549276   2683.934423  1.754561e-05      9097.942884  \n",
       "6   8160.467559  15457.205180  7.391561e-05     10565.725350  \n",
       "7  14391.228542  30000.000000  4.595811e-05      3160.414693  \n",
       "8  20406.116771  19115.703933  1.000000e-04     10946.701708  \n",
       "9  11393.364741  10154.342320  1.406746e-05     10127.558813  "
      ]
     },
     "execution_count": 21,
     "metadata": {},
     "output_type": "execute_result"
    }
   ],
   "source": [
    "features_df"
   ]
  },
  {
   "cell_type": "code",
   "execution_count": 22,
   "id": "f779137f",
   "metadata": {},
   "outputs": [],
   "source": [
    "with open('/home/akapoor/kernlab/Infer_Demography/experiments/split_isolation/modeling/targets_df.pkl', 'rb') as f:\n",
    "    targets_df = pickle.load(f)"
   ]
  },
  {
   "cell_type": "code",
   "execution_count": 23,
   "id": "68b0c122",
   "metadata": {},
   "outputs": [
    {
     "data": {
      "text/html": [
       "<div>\n",
       "<style scoped>\n",
       "    .dataframe tbody tr th:only-of-type {\n",
       "        vertical-align: middle;\n",
       "    }\n",
       "\n",
       "    .dataframe tbody tr th {\n",
       "        vertical-align: top;\n",
       "    }\n",
       "\n",
       "    .dataframe thead th {\n",
       "        text-align: right;\n",
       "    }\n",
       "</style>\n",
       "<table border=\"1\" class=\"dataframe\">\n",
       "  <thead>\n",
       "    <tr style=\"text-align: right;\">\n",
       "      <th></th>\n",
       "      <th>N0</th>\n",
       "      <th>N1</th>\n",
       "      <th>N2</th>\n",
       "      <th>m</th>\n",
       "      <th>t_split</th>\n",
       "    </tr>\n",
       "  </thead>\n",
       "  <tbody>\n",
       "    <tr>\n",
       "      <th>0</th>\n",
       "      <td>27051.562034</td>\n",
       "      <td>7838.403122</td>\n",
       "      <td>22136.756040</td>\n",
       "      <td>0.000084</td>\n",
       "      <td>15727.693879</td>\n",
       "    </tr>\n",
       "    <tr>\n",
       "      <th>1</th>\n",
       "      <td>5305.061322</td>\n",
       "      <td>24058.315363</td>\n",
       "      <td>22966.330333</td>\n",
       "      <td>0.000076</td>\n",
       "      <td>13371.913601</td>\n",
       "    </tr>\n",
       "    <tr>\n",
       "      <th>2</th>\n",
       "      <td>892.646884</td>\n",
       "      <td>3897.212683</td>\n",
       "      <td>12243.226270</td>\n",
       "      <td>0.000028</td>\n",
       "      <td>15907.489103</td>\n",
       "    </tr>\n",
       "    <tr>\n",
       "      <th>3</th>\n",
       "      <td>19694.516099</td>\n",
       "      <td>308.414489</td>\n",
       "      <td>29639.305714</td>\n",
       "      <td>0.000012</td>\n",
       "      <td>11436.148031</td>\n",
       "    </tr>\n",
       "    <tr>\n",
       "      <th>4</th>\n",
       "      <td>1989.369097</td>\n",
       "      <td>9329.663905</td>\n",
       "      <td>14293.115351</td>\n",
       "      <td>0.000009</td>\n",
       "      <td>2123.304935</td>\n",
       "    </tr>\n",
       "    <tr>\n",
       "      <th>5</th>\n",
       "      <td>16354.776312</td>\n",
       "      <td>17026.067954</td>\n",
       "      <td>3003.480890</td>\n",
       "      <td>0.000018</td>\n",
       "      <td>13052.371370</td>\n",
       "    </tr>\n",
       "    <tr>\n",
       "      <th>6</th>\n",
       "      <td>20724.657112</td>\n",
       "      <td>8608.476479</td>\n",
       "      <td>15386.152568</td>\n",
       "      <td>0.000048</td>\n",
       "      <td>9019.781476</td>\n",
       "    </tr>\n",
       "    <tr>\n",
       "      <th>7</th>\n",
       "      <td>11046.918419</td>\n",
       "      <td>11344.860805</td>\n",
       "      <td>29819.918632</td>\n",
       "      <td>0.000057</td>\n",
       "      <td>3825.123643</td>\n",
       "    </tr>\n",
       "    <tr>\n",
       "      <th>8</th>\n",
       "      <td>8132.128583</td>\n",
       "      <td>19417.398262</td>\n",
       "      <td>16510.087674</td>\n",
       "      <td>0.000084</td>\n",
       "      <td>11050.358315</td>\n",
       "    </tr>\n",
       "    <tr>\n",
       "      <th>9</th>\n",
       "      <td>20598.423214</td>\n",
       "      <td>11909.330914</td>\n",
       "      <td>11143.304415</td>\n",
       "      <td>0.000020</td>\n",
       "      <td>14952.875347</td>\n",
       "    </tr>\n",
       "  </tbody>\n",
       "</table>\n",
       "</div>"
      ],
      "text/plain": [
       "             N0            N1            N2         m       t_split\n",
       "0  27051.562034   7838.403122  22136.756040  0.000084  15727.693879\n",
       "1   5305.061322  24058.315363  22966.330333  0.000076  13371.913601\n",
       "2    892.646884   3897.212683  12243.226270  0.000028  15907.489103\n",
       "3  19694.516099    308.414489  29639.305714  0.000012  11436.148031\n",
       "4   1989.369097   9329.663905  14293.115351  0.000009   2123.304935\n",
       "5  16354.776312  17026.067954   3003.480890  0.000018  13052.371370\n",
       "6  20724.657112   8608.476479  15386.152568  0.000048   9019.781476\n",
       "7  11046.918419  11344.860805  29819.918632  0.000057   3825.123643\n",
       "8   8132.128583  19417.398262  16510.087674  0.000084  11050.358315\n",
       "9  20598.423214  11909.330914  11143.304415  0.000020  14952.875347"
      ]
     },
     "execution_count": 23,
     "metadata": {},
     "output_type": "execute_result"
    }
   ],
   "source": [
    "targets_df"
   ]
  },
  {
   "cell_type": "code",
   "execution_count": 24,
   "id": "f0265092",
   "metadata": {},
   "outputs": [],
   "source": [
    "with open('/home/akapoor/kernlab/Infer_Demography/experiments/split_isolation/inferences/sim_3/MomentsLD/best_fit.pkl', 'rb') as f:\n",
    "    moments_ld_fit_params = pickle.load(f)"
   ]
  },
  {
   "cell_type": "code",
   "execution_count": 25,
   "id": "54af101d",
   "metadata": {},
   "outputs": [
    {
     "data": {
      "text/plain": [
       "{'best_params': {'N1': 2713.565306385988,\n",
       "  'N2': 30625.431154930124,\n",
       "  't_split': 196770.88000685372,\n",
       "  'N0': 1.916556906860545e-05},\n",
       " 'best_lls': 115.64566252077942}"
      ]
     },
     "execution_count": 25,
     "metadata": {},
     "output_type": "execute_result"
    }
   ],
   "source": [
    "moments_ld_fit_params"
   ]
  },
  {
   "cell_type": "code",
   "execution_count": 1,
   "id": "da6760b6",
   "metadata": {},
   "outputs": [],
   "source": [
    "import pickle\n",
    "with open('/home/akapoor/kernlab/Infer_Demography/experiments/bottleneck/inferences/sim_0/dadi/fit_params.pkl', 'rb') as f:\n",
    "    dadi_fit_params = pickle.load(f)"
   ]
  },
  {
   "cell_type": "code",
   "execution_count": 2,
   "id": "b6c7dcd9",
   "metadata": {},
   "outputs": [
    {
     "data": {
      "text/plain": [
       "{'best_params': [{'N0': 6060.303776052738,\n",
       "   'N_bottleneck': 681.0573336946379,\n",
       "   'N_recover': 18622.343331919557,\n",
       "   't_bottleneck_start': 2249.3304304384606,\n",
       "   't_bottleneck_end': 926.7103582957724},\n",
       "  {'N0': 6060.303776052738,\n",
       "   'N_bottleneck': 681.0573336946379,\n",
       "   'N_recover': 18621.626069275848,\n",
       "   't_bottleneck_start': 2249.3647848809032,\n",
       "   't_bottleneck_end': 926.6644232814249}],\n",
       " 'best_lls': [-160.7920262536436, -160.79202662729494]}"
      ]
     },
     "execution_count": 2,
     "metadata": {},
     "output_type": "execute_result"
    }
   ],
   "source": [
    "dadi_fit_params"
   ]
  },
  {
   "cell_type": "code",
   "execution_count": 3,
   "id": "0b000fe3",
   "metadata": {},
   "outputs": [],
   "source": [
    "with open('/home/akapoor/kernlab/Infer_Demography/experiments/bottleneck/inferences/sim_0/all_inferences.pkl', 'rb') as f:\n",
    "    all_inferences = pickle.load(f)"
   ]
  },
  {
   "cell_type": "code",
   "execution_count": 4,
   "id": "25cb22fa",
   "metadata": {},
   "outputs": [
    {
     "data": {
      "text/plain": [
       "{'moments': {'best_params': [{'N0': 6060.303776052738,\n",
       "    'N_bottleneck': 681.0573336946379,\n",
       "    'N_recover': 14686.018006626999,\n",
       "    't_bottleneck_start': 2384.90104967301,\n",
       "    't_bottleneck_end': 729.8667838286508},\n",
       "   {'N0': 6060.303776052738,\n",
       "    'N_bottleneck': 681.0573336946379,\n",
       "    'N_recover': 14686.02132410507,\n",
       "    't_bottleneck_start': 2384.90113533676,\n",
       "    't_bottleneck_end': 729.8667889233898}],\n",
       "  'best_lls': [166.02082074880946, 166.02081969192204]},\n",
       " 'dadi': {'best_params': [{'N0': 6060.303776052738,\n",
       "    'N_bottleneck': 681.0573336946379,\n",
       "    'N_recover': 18622.343331919557,\n",
       "    't_bottleneck_start': 2249.3304304384606,\n",
       "    't_bottleneck_end': 926.7103582957724},\n",
       "   {'N0': 6060.303776052738,\n",
       "    'N_bottleneck': 681.0573336946379,\n",
       "    'N_recover': 18621.626069275848,\n",
       "    't_bottleneck_start': 2249.3647848809032,\n",
       "    't_bottleneck_end': 926.6644232814249}],\n",
       "  'best_lls': [-160.7920262536436, -160.79202662729494]},\n",
       " 'momentsLD': {'best_params': {'N_bottleneck': 681.0573336946379,\n",
       "   'N_recover': 12354.183701597007,\n",
       "   't_bottleneck_start': 2516.7917157245392,\n",
       "   't_bottleneck_end': 740.5923247681249,\n",
       "   'N0': 6060.303776052738},\n",
       "  'best_lls': 4.868700934917286}}"
      ]
     },
     "execution_count": 4,
     "metadata": {},
     "output_type": "execute_result"
    }
   ],
   "source": [
    "all_inferences"
   ]
  },
  {
   "cell_type": "code",
   "execution_count": 5,
   "id": "1e7d8b2f",
   "metadata": {},
   "outputs": [],
   "source": [
    "with open('/sietch_colab/akapoor/Infer_Demography/experiments/split_migration/modeling/features_df.pkl', 'rb') as f:\n",
    "    features_df = pickle.load(f)"
   ]
  },
  {
   "cell_type": "code",
   "execution_count": 6,
   "id": "f8bab96b",
   "metadata": {},
   "outputs": [
    {
     "data": {
      "text/plain": [
       "Index(['dadi_N0_rep_0', 'dadi_N1_rep_0', 'dadi_N2_rep_0', 'dadi_m12_rep_0',\n",
       "       'dadi_m21_rep_0', 'dadi_t_split_rep_0', 'momentsLD_N0', 'momentsLD_N1',\n",
       "       'momentsLD_N2', 'momentsLD_m12', 'momentsLD_m21', 'momentsLD_t_split',\n",
       "       'moments_N0_rep_0', 'moments_N1_rep_0', 'moments_N2_rep_0',\n",
       "       'moments_m12_rep_0', 'moments_m21_rep_0', 'moments_t_split_rep_0'],\n",
       "      dtype='object')"
      ]
     },
     "execution_count": 6,
     "metadata": {},
     "output_type": "execute_result"
    }
   ],
   "source": [
    "features_df.columns"
   ]
  },
  {
   "cell_type": "code",
   "execution_count": 7,
   "id": "060cc4e6",
   "metadata": {},
   "outputs": [
    {
     "data": {
      "text/html": [
       "<div>\n",
       "<style scoped>\n",
       "    .dataframe tbody tr th:only-of-type {\n",
       "        vertical-align: middle;\n",
       "    }\n",
       "\n",
       "    .dataframe tbody tr th {\n",
       "        vertical-align: top;\n",
       "    }\n",
       "\n",
       "    .dataframe thead th {\n",
       "        text-align: right;\n",
       "    }\n",
       "</style>\n",
       "<table border=\"1\" class=\"dataframe\">\n",
       "  <thead>\n",
       "    <tr style=\"text-align: right;\">\n",
       "      <th></th>\n",
       "      <th>dadi_N0_rep_0</th>\n",
       "      <th>dadi_N1_rep_0</th>\n",
       "      <th>dadi_N2_rep_0</th>\n",
       "      <th>dadi_m12_rep_0</th>\n",
       "      <th>dadi_m21_rep_0</th>\n",
       "      <th>dadi_t_split_rep_0</th>\n",
       "      <th>momentsLD_N0</th>\n",
       "      <th>momentsLD_N1</th>\n",
       "      <th>momentsLD_N2</th>\n",
       "      <th>momentsLD_m12</th>\n",
       "      <th>momentsLD_m21</th>\n",
       "      <th>momentsLD_t_split</th>\n",
       "      <th>moments_N0_rep_0</th>\n",
       "      <th>moments_N1_rep_0</th>\n",
       "      <th>moments_N2_rep_0</th>\n",
       "      <th>moments_m12_rep_0</th>\n",
       "      <th>moments_m21_rep_0</th>\n",
       "      <th>moments_t_split_rep_0</th>\n",
       "    </tr>\n",
       "  </thead>\n",
       "  <tbody>\n",
       "    <tr>\n",
       "      <th>0</th>\n",
       "      <td>16082.498766</td>\n",
       "      <td>15963.250412</td>\n",
       "      <td>17901.403598</td>\n",
       "      <td>0.000045</td>\n",
       "      <td>0.000048</td>\n",
       "      <td>3991.010112</td>\n",
       "      <td>2.434486e+04</td>\n",
       "      <td>2.432709e+04</td>\n",
       "      <td>2.442305e+04</td>\n",
       "      <td>1.985560e-12</td>\n",
       "      <td>6.693803e-05</td>\n",
       "      <td>4.992134e+03</td>\n",
       "      <td>17753.998124</td>\n",
       "      <td>15412.902597</td>\n",
       "      <td>20396.462638</td>\n",
       "      <td>0.000059</td>\n",
       "      <td>1.000000e-04</td>\n",
       "      <td>9032.902059</td>\n",
       "    </tr>\n",
       "    <tr>\n",
       "      <th>1</th>\n",
       "      <td>15585.349329</td>\n",
       "      <td>1407.931730</td>\n",
       "      <td>15471.998076</td>\n",
       "      <td>0.000042</td>\n",
       "      <td>0.000036</td>\n",
       "      <td>10136.448244</td>\n",
       "      <td>2.999049e+04</td>\n",
       "      <td>9.490894e+03</td>\n",
       "      <td>1.111980e+04</td>\n",
       "      <td>0.000000e+00</td>\n",
       "      <td>6.998668e-05</td>\n",
       "      <td>4.577467e+04</td>\n",
       "      <td>16638.666049</td>\n",
       "      <td>3197.512862</td>\n",
       "      <td>21093.579885</td>\n",
       "      <td>0.000031</td>\n",
       "      <td>1.000000e-08</td>\n",
       "      <td>11649.095047</td>\n",
       "    </tr>\n",
       "    <tr>\n",
       "      <th>2</th>\n",
       "      <td>15489.627724</td>\n",
       "      <td>18316.250883</td>\n",
       "      <td>584.850800</td>\n",
       "      <td>0.000047</td>\n",
       "      <td>0.000051</td>\n",
       "      <td>11057.696395</td>\n",
       "      <td>1.306038e+161</td>\n",
       "      <td>7.826075e+184</td>\n",
       "      <td>1.587973e+149</td>\n",
       "      <td>0.000000e+00</td>\n",
       "      <td>0.000000e+00</td>\n",
       "      <td>6.703269e+149</td>\n",
       "      <td>5630.152853</td>\n",
       "      <td>25483.744215</td>\n",
       "      <td>1002.389337</td>\n",
       "      <td>0.000012</td>\n",
       "      <td>5.000403e-05</td>\n",
       "      <td>16685.583465</td>\n",
       "    </tr>\n",
       "    <tr>\n",
       "      <th>3</th>\n",
       "      <td>19025.175918</td>\n",
       "      <td>4809.546815</td>\n",
       "      <td>8334.445504</td>\n",
       "      <td>0.000037</td>\n",
       "      <td>0.000089</td>\n",
       "      <td>12328.162642</td>\n",
       "      <td>9.807083e+03</td>\n",
       "      <td>4.896605e+03</td>\n",
       "      <td>9.945167e+03</td>\n",
       "      <td>1.088597e-04</td>\n",
       "      <td>1.357081e-05</td>\n",
       "      <td>6.024716e+03</td>\n",
       "      <td>27168.240967</td>\n",
       "      <td>5356.504586</td>\n",
       "      <td>10108.504807</td>\n",
       "      <td>0.000024</td>\n",
       "      <td>7.947507e-05</td>\n",
       "      <td>8410.380465</td>\n",
       "    </tr>\n",
       "    <tr>\n",
       "      <th>4</th>\n",
       "      <td>14436.099177</td>\n",
       "      <td>15888.209535</td>\n",
       "      <td>814.233665</td>\n",
       "      <td>0.000046</td>\n",
       "      <td>0.000051</td>\n",
       "      <td>10840.562986</td>\n",
       "      <td>6.055581e+03</td>\n",
       "      <td>1.808949e+04</td>\n",
       "      <td>1.766665e+03</td>\n",
       "      <td>3.698245e-05</td>\n",
       "      <td>9.398886e-09</td>\n",
       "      <td>2.072104e+05</td>\n",
       "      <td>16883.291132</td>\n",
       "      <td>15274.205747</td>\n",
       "      <td>793.989526</td>\n",
       "      <td>0.000050</td>\n",
       "      <td>5.567120e-05</td>\n",
       "      <td>20000.000000</td>\n",
       "    </tr>\n",
       "    <tr>\n",
       "      <th>5</th>\n",
       "      <td>8566.926103</td>\n",
       "      <td>7178.517832</td>\n",
       "      <td>22880.701732</td>\n",
       "      <td>0.000064</td>\n",
       "      <td>0.000059</td>\n",
       "      <td>14367.829164</td>\n",
       "      <td>2.615202e+04</td>\n",
       "      <td>1.856022e+04</td>\n",
       "      <td>2.449799e+04</td>\n",
       "      <td>7.386080e-116</td>\n",
       "      <td>1.091604e-04</td>\n",
       "      <td>2.638781e+06</td>\n",
       "      <td>8394.062781</td>\n",
       "      <td>7165.451567</td>\n",
       "      <td>22639.197063</td>\n",
       "      <td>0.000064</td>\n",
       "      <td>6.021152e-05</td>\n",
       "      <td>15183.711437</td>\n",
       "    </tr>\n",
       "    <tr>\n",
       "      <th>6</th>\n",
       "      <td>3760.139040</td>\n",
       "      <td>8401.399502</td>\n",
       "      <td>20739.540090</td>\n",
       "      <td>0.000054</td>\n",
       "      <td>0.000029</td>\n",
       "      <td>11107.205919</td>\n",
       "      <td>1.658502e+04</td>\n",
       "      <td>1.741497e+04</td>\n",
       "      <td>1.681184e+04</td>\n",
       "      <td>2.305927e-05</td>\n",
       "      <td>8.437017e-05</td>\n",
       "      <td>3.987593e+04</td>\n",
       "      <td>3183.790971</td>\n",
       "      <td>8152.152206</td>\n",
       "      <td>16731.299232</td>\n",
       "      <td>0.000078</td>\n",
       "      <td>1.372347e-05</td>\n",
       "      <td>9539.252320</td>\n",
       "    </tr>\n",
       "    <tr>\n",
       "      <th>7</th>\n",
       "      <td>16603.923119</td>\n",
       "      <td>17230.188210</td>\n",
       "      <td>15764.375667</td>\n",
       "      <td>0.000078</td>\n",
       "      <td>0.000071</td>\n",
       "      <td>1107.309203</td>\n",
       "      <td>1.006946e+04</td>\n",
       "      <td>1.010693e+04</td>\n",
       "      <td>1.002690e+04</td>\n",
       "      <td>9.485597e-04</td>\n",
       "      <td>1.009502e-04</td>\n",
       "      <td>2.068264e+03</td>\n",
       "      <td>11923.516694</td>\n",
       "      <td>28688.171766</td>\n",
       "      <td>16442.247222</td>\n",
       "      <td>0.000046</td>\n",
       "      <td>1.000000e-04</td>\n",
       "      <td>1163.798088</td>\n",
       "    </tr>\n",
       "    <tr>\n",
       "      <th>8</th>\n",
       "      <td>13137.655566</td>\n",
       "      <td>15825.550120</td>\n",
       "      <td>17527.592845</td>\n",
       "      <td>0.000059</td>\n",
       "      <td>0.000036</td>\n",
       "      <td>12616.309097</td>\n",
       "      <td>1.959806e+04</td>\n",
       "      <td>1.958889e+04</td>\n",
       "      <td>2.009946e+04</td>\n",
       "      <td>4.025654e-05</td>\n",
       "      <td>5.423711e-05</td>\n",
       "      <td>1.620766e+04</td>\n",
       "      <td>15145.374103</td>\n",
       "      <td>17624.901810</td>\n",
       "      <td>20512.541460</td>\n",
       "      <td>0.000048</td>\n",
       "      <td>3.346427e-05</td>\n",
       "      <td>13972.980570</td>\n",
       "    </tr>\n",
       "    <tr>\n",
       "      <th>9</th>\n",
       "      <td>6459.430004</td>\n",
       "      <td>18722.344791</td>\n",
       "      <td>22966.920719</td>\n",
       "      <td>0.000065</td>\n",
       "      <td>0.000049</td>\n",
       "      <td>1132.966378</td>\n",
       "      <td>1.116478e+04</td>\n",
       "      <td>1.934806e+04</td>\n",
       "      <td>9.096435e+03</td>\n",
       "      <td>4.300565e-10</td>\n",
       "      <td>4.072380e-04</td>\n",
       "      <td>2.180728e+03</td>\n",
       "      <td>8710.664289</td>\n",
       "      <td>24580.577430</td>\n",
       "      <td>30000.000000</td>\n",
       "      <td>0.000100</td>\n",
       "      <td>3.660772e-08</td>\n",
       "      <td>1518.210604</td>\n",
       "    </tr>\n",
       "  </tbody>\n",
       "</table>\n",
       "</div>"
      ],
      "text/plain": [
       "   dadi_N0_rep_0  dadi_N1_rep_0  dadi_N2_rep_0  dadi_m12_rep_0  \\\n",
       "0   16082.498766   15963.250412   17901.403598        0.000045   \n",
       "1   15585.349329    1407.931730   15471.998076        0.000042   \n",
       "2   15489.627724   18316.250883     584.850800        0.000047   \n",
       "3   19025.175918    4809.546815    8334.445504        0.000037   \n",
       "4   14436.099177   15888.209535     814.233665        0.000046   \n",
       "5    8566.926103    7178.517832   22880.701732        0.000064   \n",
       "6    3760.139040    8401.399502   20739.540090        0.000054   \n",
       "7   16603.923119   17230.188210   15764.375667        0.000078   \n",
       "8   13137.655566   15825.550120   17527.592845        0.000059   \n",
       "9    6459.430004   18722.344791   22966.920719        0.000065   \n",
       "\n",
       "   dadi_m21_rep_0  dadi_t_split_rep_0   momentsLD_N0   momentsLD_N1  \\\n",
       "0        0.000048         3991.010112   2.434486e+04   2.432709e+04   \n",
       "1        0.000036        10136.448244   2.999049e+04   9.490894e+03   \n",
       "2        0.000051        11057.696395  1.306038e+161  7.826075e+184   \n",
       "3        0.000089        12328.162642   9.807083e+03   4.896605e+03   \n",
       "4        0.000051        10840.562986   6.055581e+03   1.808949e+04   \n",
       "5        0.000059        14367.829164   2.615202e+04   1.856022e+04   \n",
       "6        0.000029        11107.205919   1.658502e+04   1.741497e+04   \n",
       "7        0.000071         1107.309203   1.006946e+04   1.010693e+04   \n",
       "8        0.000036        12616.309097   1.959806e+04   1.958889e+04   \n",
       "9        0.000049         1132.966378   1.116478e+04   1.934806e+04   \n",
       "\n",
       "    momentsLD_N2  momentsLD_m12  momentsLD_m21  momentsLD_t_split  \\\n",
       "0   2.442305e+04   1.985560e-12   6.693803e-05       4.992134e+03   \n",
       "1   1.111980e+04   0.000000e+00   6.998668e-05       4.577467e+04   \n",
       "2  1.587973e+149   0.000000e+00   0.000000e+00      6.703269e+149   \n",
       "3   9.945167e+03   1.088597e-04   1.357081e-05       6.024716e+03   \n",
       "4   1.766665e+03   3.698245e-05   9.398886e-09       2.072104e+05   \n",
       "5   2.449799e+04  7.386080e-116   1.091604e-04       2.638781e+06   \n",
       "6   1.681184e+04   2.305927e-05   8.437017e-05       3.987593e+04   \n",
       "7   1.002690e+04   9.485597e-04   1.009502e-04       2.068264e+03   \n",
       "8   2.009946e+04   4.025654e-05   5.423711e-05       1.620766e+04   \n",
       "9   9.096435e+03   4.300565e-10   4.072380e-04       2.180728e+03   \n",
       "\n",
       "   moments_N0_rep_0  moments_N1_rep_0  moments_N2_rep_0  moments_m12_rep_0  \\\n",
       "0      17753.998124      15412.902597      20396.462638           0.000059   \n",
       "1      16638.666049       3197.512862      21093.579885           0.000031   \n",
       "2       5630.152853      25483.744215       1002.389337           0.000012   \n",
       "3      27168.240967       5356.504586      10108.504807           0.000024   \n",
       "4      16883.291132      15274.205747        793.989526           0.000050   \n",
       "5       8394.062781       7165.451567      22639.197063           0.000064   \n",
       "6       3183.790971       8152.152206      16731.299232           0.000078   \n",
       "7      11923.516694      28688.171766      16442.247222           0.000046   \n",
       "8      15145.374103      17624.901810      20512.541460           0.000048   \n",
       "9       8710.664289      24580.577430      30000.000000           0.000100   \n",
       "\n",
       "   moments_m21_rep_0  moments_t_split_rep_0  \n",
       "0       1.000000e-04            9032.902059  \n",
       "1       1.000000e-08           11649.095047  \n",
       "2       5.000403e-05           16685.583465  \n",
       "3       7.947507e-05            8410.380465  \n",
       "4       5.567120e-05           20000.000000  \n",
       "5       6.021152e-05           15183.711437  \n",
       "6       1.372347e-05            9539.252320  \n",
       "7       1.000000e-04            1163.798088  \n",
       "8       3.346427e-05           13972.980570  \n",
       "9       3.660772e-08            1518.210604  "
      ]
     },
     "execution_count": 7,
     "metadata": {},
     "output_type": "execute_result"
    }
   ],
   "source": [
    "features_df"
   ]
  },
  {
   "cell_type": "code",
   "execution_count": 10,
   "id": "92a3e565",
   "metadata": {},
   "outputs": [
    {
     "data": {
      "text/plain": [
       "<matplotlib.collections.PathCollection at 0x14c5718e2ed0>"
      ]
     },
     "execution_count": 10,
     "metadata": {},
     "output_type": "execute_result"
    },
    {
     "data": {
      "image/png": "[encoded data removed]",
      "text/plain": [
       "<Figure size 640x480 with 1 Axes>"
      ]
     },
     "metadata": {},
     "output_type": "display_data"
    }
   ],
   "source": [
    "import matplotlib.pyplot as plt\n",
    "plt.figure()\n",
    "plt.scatter(features_df['dadi_N0_rep_0'], features_df['dadi_N0_rep_1'])"
   ]
  },
  {
   "cell_type": "code",
   "execution_count": 1,
   "id": "f4d02ca2",
   "metadata": {},
   "outputs": [],
   "source": [
    "import pickle\n",
    "with open('/sietch_colab/akapoor/Infer_Demography/experiments/split_migration/inferences/sim_2/MomentsLD/best_fit.pkl', 'rb') as f:\n",
    "    moments_ld_fit_params = pickle.load(f)"
   ]
  },
  {
   "cell_type": "code",
   "execution_count": 2,
   "id": "6cc3e617",
   "metadata": {},
   "outputs": [
    {
     "data": {
      "text/plain": [
       "{'best_params': {'N1': 7.826074609936462e+184,\n",
       "  'N2': 1.5879731514952378e+149,\n",
       "  't_split': 6.703269241266377e+149,\n",
       "  'm12': 0.0,\n",
       "  'm21': 0.0,\n",
       "  'N0': 1.3060375438864104e+161},\n",
       " 'best_lls': 29123.263872521875}"
      ]
     },
     "execution_count": 2,
     "metadata": {},
     "output_type": "execute_result"
    }
   ],
   "source": [
    "moments_ld_fit_params"
   ]
  },
  {
   "cell_type": "code",
   "execution_count": 4,
   "id": "8808259d",
   "metadata": {},
   "outputs": [],
   "source": [
    "import pickle\n",
    "with open('/home/akapoor/kernlab/Infer_Demography/experiments/split_isolation/modeling/features_df.pkl', 'rb') as f:\n",
    "    features_df = pickle.load(f)"
   ]
  },
  {
   "cell_type": "code",
   "execution_count": 5,
   "id": "1ea9b627",
   "metadata": {},
   "outputs": [
    {
     "data": {
      "text/plain": [
       "Index(['dadi_N0_rep_0', 'dadi_N0_rep_1', 'dadi_N1_rep_0', 'dadi_N1_rep_1',\n",
       "       'dadi_N2_rep_0', 'dadi_N2_rep_1', 'dadi_m_rep_0', 'dadi_m_rep_1',\n",
       "       'dadi_t_split_rep_0', 'dadi_t_split_rep_1', 'momentsLD_N0',\n",
       "       'momentsLD_N1', 'momentsLD_N2', 'momentsLD_m', 'momentsLD_t_split',\n",
       "       'moments_N0_rep_0', 'moments_N0_rep_1', 'moments_N1_rep_0',\n",
       "       'moments_N1_rep_1', 'moments_N2_rep_0', 'moments_N2_rep_1',\n",
       "       'moments_m_rep_0', 'moments_m_rep_1', 'moments_t_split_rep_0',\n",
       "       'moments_t_split_rep_1'],\n",
       "      dtype='object')"
      ]
     },
     "execution_count": 5,
     "metadata": {},
     "output_type": "execute_result"
    }
   ],
   "source": [
    "features_df.columns"
   ]
  },
  {
   "cell_type": "code",
   "execution_count": 6,
   "id": "5e8c2d7c",
   "metadata": {},
   "outputs": [
    {
     "data": {
      "text/html": [
       "<div>\n",
       "<style scoped>\n",
       "    .dataframe tbody tr th:only-of-type {\n",
       "        vertical-align: middle;\n",
       "    }\n",
       "\n",
       "    .dataframe tbody tr th {\n",
       "        vertical-align: top;\n",
       "    }\n",
       "\n",
       "    .dataframe thead th {\n",
       "        text-align: right;\n",
       "    }\n",
       "</style>\n",
       "<table border=\"1\" class=\"dataframe\">\n",
       "  <thead>\n",
       "    <tr style=\"text-align: right;\">\n",
       "      <th></th>\n",
       "      <th>dadi_N0_rep_0</th>\n",
       "      <th>dadi_N0_rep_1</th>\n",
       "      <th>dadi_N1_rep_0</th>\n",
       "      <th>dadi_N1_rep_1</th>\n",
       "      <th>dadi_N2_rep_0</th>\n",
       "      <th>dadi_N2_rep_1</th>\n",
       "      <th>dadi_m_rep_0</th>\n",
       "      <th>dadi_m_rep_1</th>\n",
       "      <th>dadi_t_split_rep_0</th>\n",
       "      <th>dadi_t_split_rep_1</th>\n",
       "      <th>...</th>\n",
       "      <th>moments_N0_rep_0</th>\n",
       "      <th>moments_N0_rep_1</th>\n",
       "      <th>moments_N1_rep_0</th>\n",
       "      <th>moments_N1_rep_1</th>\n",
       "      <th>moments_N2_rep_0</th>\n",
       "      <th>moments_N2_rep_1</th>\n",
       "      <th>moments_m_rep_0</th>\n",
       "      <th>moments_m_rep_1</th>\n",
       "      <th>moments_t_split_rep_0</th>\n",
       "      <th>moments_t_split_rep_1</th>\n",
       "    </tr>\n",
       "  </thead>\n",
       "  <tbody>\n",
       "    <tr>\n",
       "      <th>0</th>\n",
       "      <td>8033.078575</td>\n",
       "      <td>7815.411407</td>\n",
       "      <td>11211.385182</td>\n",
       "      <td>10919.743547</td>\n",
       "      <td>22609.774493</td>\n",
       "      <td>22564.403886</td>\n",
       "      <td>6.048212e-05</td>\n",
       "      <td>6.112477e-05</td>\n",
       "      <td>9508.478252</td>\n",
       "      <td>9087.856705</td>\n",
       "      <td>...</td>\n",
       "      <td>10621.389616</td>\n",
       "      <td>10621.530370</td>\n",
       "      <td>14686.189641</td>\n",
       "      <td>14686.279869</td>\n",
       "      <td>29735.152619</td>\n",
       "      <td>29734.900651</td>\n",
       "      <td>4.570169e-05</td>\n",
       "      <td>4.570118e-05</td>\n",
       "      <td>12298.949740</td>\n",
       "      <td>12299.460963</td>\n",
       "    </tr>\n",
       "    <tr>\n",
       "      <th>1</th>\n",
       "      <td>4422.800522</td>\n",
       "      <td>6848.916792</td>\n",
       "      <td>2708.333834</td>\n",
       "      <td>3843.097034</td>\n",
       "      <td>6308.096705</td>\n",
       "      <td>9581.106693</td>\n",
       "      <td>2.611004e-05</td>\n",
       "      <td>4.099177e-05</td>\n",
       "      <td>3232.419687</td>\n",
       "      <td>6847.351565</td>\n",
       "      <td>...</td>\n",
       "      <td>22469.245124</td>\n",
       "      <td>22462.703361</td>\n",
       "      <td>13044.646859</td>\n",
       "      <td>13047.428081</td>\n",
       "      <td>30000.000000</td>\n",
       "      <td>30000.000000</td>\n",
       "      <td>3.392833e-06</td>\n",
       "      <td>3.401664e-06</td>\n",
       "      <td>14133.987983</td>\n",
       "      <td>14140.190851</td>\n",
       "    </tr>\n",
       "    <tr>\n",
       "      <th>2</th>\n",
       "      <td>7941.285989</td>\n",
       "      <td>8943.615283</td>\n",
       "      <td>4011.885144</td>\n",
       "      <td>4541.790046</td>\n",
       "      <td>19779.400222</td>\n",
       "      <td>22486.394976</td>\n",
       "      <td>7.241926e-05</td>\n",
       "      <td>6.516745e-05</td>\n",
       "      <td>7353.055026</td>\n",
       "      <td>8459.362435</td>\n",
       "      <td>...</td>\n",
       "      <td>11800.359696</td>\n",
       "      <td>11800.568649</td>\n",
       "      <td>5996.314744</td>\n",
       "      <td>5996.549207</td>\n",
       "      <td>29182.229137</td>\n",
       "      <td>29180.914253</td>\n",
       "      <td>4.822452e-05</td>\n",
       "      <td>4.822298e-05</td>\n",
       "      <td>10564.322109</td>\n",
       "      <td>10563.986691</td>\n",
       "    </tr>\n",
       "    <tr>\n",
       "      <th>3</th>\n",
       "      <td>6807.570598</td>\n",
       "      <td>5836.140742</td>\n",
       "      <td>29844.686388</td>\n",
       "      <td>21830.882863</td>\n",
       "      <td>3907.722080</td>\n",
       "      <td>3543.456350</td>\n",
       "      <td>9.406522e-05</td>\n",
       "      <td>1.000000e-04</td>\n",
       "      <td>19080.771103</td>\n",
       "      <td>12319.124898</td>\n",
       "      <td>...</td>\n",
       "      <td>6234.887256</td>\n",
       "      <td>6235.196178</td>\n",
       "      <td>26499.920534</td>\n",
       "      <td>26502.530525</td>\n",
       "      <td>3647.560835</td>\n",
       "      <td>3646.959883</td>\n",
       "      <td>1.000000e-04</td>\n",
       "      <td>1.000000e-04</td>\n",
       "      <td>17331.798131</td>\n",
       "      <td>17334.324688</td>\n",
       "    </tr>\n",
       "    <tr>\n",
       "      <th>4</th>\n",
       "      <td>22230.806136</td>\n",
       "      <td>22956.804206</td>\n",
       "      <td>1745.702335</td>\n",
       "      <td>2590.225016</td>\n",
       "      <td>8930.802427</td>\n",
       "      <td>11692.360542</td>\n",
       "      <td>7.071525e-05</td>\n",
       "      <td>4.495878e-05</td>\n",
       "      <td>11379.967154</td>\n",
       "      <td>20000.000000</td>\n",
       "      <td>...</td>\n",
       "      <td>29735.705314</td>\n",
       "      <td>29736.084796</td>\n",
       "      <td>2424.803201</td>\n",
       "      <td>2424.884165</td>\n",
       "      <td>11775.620501</td>\n",
       "      <td>11775.613880</td>\n",
       "      <td>4.719528e-05</td>\n",
       "      <td>4.719420e-05</td>\n",
       "      <td>11900.682067</td>\n",
       "      <td>11901.060015</td>\n",
       "    </tr>\n",
       "    <tr>\n",
       "      <th>5</th>\n",
       "      <td>21403.990998</td>\n",
       "      <td>21088.025547</td>\n",
       "      <td>27090.148666</td>\n",
       "      <td>26395.503134</td>\n",
       "      <td>13945.106722</td>\n",
       "      <td>13646.616363</td>\n",
       "      <td>9.945971e-05</td>\n",
       "      <td>9.972394e-05</td>\n",
       "      <td>7135.932866</td>\n",
       "      <td>6952.900386</td>\n",
       "      <td>...</td>\n",
       "      <td>20053.983549</td>\n",
       "      <td>20054.353104</td>\n",
       "      <td>25484.952457</td>\n",
       "      <td>25482.728624</td>\n",
       "      <td>13219.221859</td>\n",
       "      <td>13219.128255</td>\n",
       "      <td>1.000000e-04</td>\n",
       "      <td>1.000000e-04</td>\n",
       "      <td>5933.543380</td>\n",
       "      <td>5933.421036</td>\n",
       "    </tr>\n",
       "    <tr>\n",
       "      <th>6</th>\n",
       "      <td>12990.729339</td>\n",
       "      <td>12793.035385</td>\n",
       "      <td>8251.395854</td>\n",
       "      <td>8055.562733</td>\n",
       "      <td>29374.900314</td>\n",
       "      <td>28773.089762</td>\n",
       "      <td>5.789466e-05</td>\n",
       "      <td>6.343850e-05</td>\n",
       "      <td>4524.040222</td>\n",
       "      <td>4648.872826</td>\n",
       "      <td>...</td>\n",
       "      <td>7003.228060</td>\n",
       "      <td>7003.110177</td>\n",
       "      <td>4495.978602</td>\n",
       "      <td>4496.121409</td>\n",
       "      <td>15919.743480</td>\n",
       "      <td>15919.443144</td>\n",
       "      <td>1.000000e-04</td>\n",
       "      <td>1.000000e-04</td>\n",
       "      <td>2363.881702</td>\n",
       "      <td>2363.949306</td>\n",
       "    </tr>\n",
       "    <tr>\n",
       "      <th>7</th>\n",
       "      <td>18356.297296</td>\n",
       "      <td>18074.589353</td>\n",
       "      <td>4436.578327</td>\n",
       "      <td>4357.140259</td>\n",
       "      <td>1425.411691</td>\n",
       "      <td>1500.372715</td>\n",
       "      <td>1.000000e-08</td>\n",
       "      <td>1.000000e-08</td>\n",
       "      <td>12198.516113</td>\n",
       "      <td>12301.773227</td>\n",
       "      <td>...</td>\n",
       "      <td>14353.323169</td>\n",
       "      <td>14362.736164</td>\n",
       "      <td>2831.076810</td>\n",
       "      <td>2833.592864</td>\n",
       "      <td>960.373877</td>\n",
       "      <td>962.215841</td>\n",
       "      <td>1.596763e-08</td>\n",
       "      <td>1.355638e-08</td>\n",
       "      <td>7582.518959</td>\n",
       "      <td>7593.276290</td>\n",
       "    </tr>\n",
       "    <tr>\n",
       "      <th>8</th>\n",
       "      <td>20976.011055</td>\n",
       "      <td>15696.355404</td>\n",
       "      <td>4025.751070</td>\n",
       "      <td>3288.608762</td>\n",
       "      <td>15963.940739</td>\n",
       "      <td>13251.812229</td>\n",
       "      <td>2.480975e-05</td>\n",
       "      <td>2.951279e-05</td>\n",
       "      <td>11619.088640</td>\n",
       "      <td>10416.655185</td>\n",
       "      <td>...</td>\n",
       "      <td>13589.240145</td>\n",
       "      <td>13583.813059</td>\n",
       "      <td>1744.366708</td>\n",
       "      <td>1746.121883</td>\n",
       "      <td>9014.560671</td>\n",
       "      <td>9017.326212</td>\n",
       "      <td>3.550977e-06</td>\n",
       "      <td>3.682774e-06</td>\n",
       "      <td>2636.447349</td>\n",
       "      <td>2641.849001</td>\n",
       "    </tr>\n",
       "    <tr>\n",
       "      <th>9</th>\n",
       "      <td>27648.263156</td>\n",
       "      <td>27277.350348</td>\n",
       "      <td>10290.288503</td>\n",
       "      <td>10276.512039</td>\n",
       "      <td>19971.099320</td>\n",
       "      <td>20328.271957</td>\n",
       "      <td>9.988789e-05</td>\n",
       "      <td>1.000000e-04</td>\n",
       "      <td>19838.720954</td>\n",
       "      <td>15832.621388</td>\n",
       "      <td>...</td>\n",
       "      <td>30000.000000</td>\n",
       "      <td>30000.000000</td>\n",
       "      <td>12019.977129</td>\n",
       "      <td>12019.973054</td>\n",
       "      <td>23501.126049</td>\n",
       "      <td>23501.183095</td>\n",
       "      <td>8.659470e-05</td>\n",
       "      <td>8.659551e-05</td>\n",
       "      <td>20000.000000</td>\n",
       "      <td>20000.000000</td>\n",
       "    </tr>\n",
       "  </tbody>\n",
       "</table>\n",
       "<p>10 rows × 25 columns</p>\n",
       "</div>"
      ],
      "text/plain": [
       "   dadi_N0_rep_0  dadi_N0_rep_1  dadi_N1_rep_0  dadi_N1_rep_1  dadi_N2_rep_0  \\\n",
       "0    8033.078575    7815.411407   11211.385182   10919.743547   22609.774493   \n",
       "1    4422.800522    6848.916792    2708.333834    3843.097034    6308.096705   \n",
       "2    7941.285989    8943.615283    4011.885144    4541.790046   19779.400222   \n",
       "3    6807.570598    5836.140742   29844.686388   21830.882863    3907.722080   \n",
       "4   22230.806136   22956.804206    1745.702335    2590.225016    8930.802427   \n",
       "5   21403.990998   21088.025547   27090.148666   26395.503134   13945.106722   \n",
       "6   12990.729339   12793.035385    8251.395854    8055.562733   29374.900314   \n",
       "7   18356.297296   18074.589353    4436.578327    4357.140259    1425.411691   \n",
       "8   20976.011055   15696.355404    4025.751070    3288.608762   15963.940739   \n",
       "9   27648.263156   27277.350348   10290.288503   10276.512039   19971.099320   \n",
       "\n",
       "   dadi_N2_rep_1  dadi_m_rep_0  dadi_m_rep_1  dadi_t_split_rep_0  \\\n",
       "0   22564.403886  6.048212e-05  6.112477e-05         9508.478252   \n",
       "1    9581.106693  2.611004e-05  4.099177e-05         3232.419687   \n",
       "2   22486.394976  7.241926e-05  6.516745e-05         7353.055026   \n",
       "3    3543.456350  9.406522e-05  1.000000e-04        19080.771103   \n",
       "4   11692.360542  7.071525e-05  4.495878e-05        11379.967154   \n",
       "5   13646.616363  9.945971e-05  9.972394e-05         7135.932866   \n",
       "6   28773.089762  5.789466e-05  6.343850e-05         4524.040222   \n",
       "7    1500.372715  1.000000e-08  1.000000e-08        12198.516113   \n",
       "8   13251.812229  2.480975e-05  2.951279e-05        11619.088640   \n",
       "9   20328.271957  9.988789e-05  1.000000e-04        19838.720954   \n",
       "\n",
       "   dadi_t_split_rep_1  ...  moments_N0_rep_0  moments_N0_rep_1  \\\n",
       "0         9087.856705  ...      10621.389616      10621.530370   \n",
       "1         6847.351565  ...      22469.245124      22462.703361   \n",
       "2         8459.362435  ...      11800.359696      11800.568649   \n",
       "3        12319.124898  ...       6234.887256       6235.196178   \n",
       "4        20000.000000  ...      29735.705314      29736.084796   \n",
       "5         6952.900386  ...      20053.983549      20054.353104   \n",
       "6         4648.872826  ...       7003.228060       7003.110177   \n",
       "7        12301.773227  ...      14353.323169      14362.736164   \n",
       "8        10416.655185  ...      13589.240145      13583.813059   \n",
       "9        15832.621388  ...      30000.000000      30000.000000   \n",
       "\n",
       "   moments_N1_rep_0  moments_N1_rep_1  moments_N2_rep_0  moments_N2_rep_1  \\\n",
       "0      14686.189641      14686.279869      29735.152619      29734.900651   \n",
       "1      13044.646859      13047.428081      30000.000000      30000.000000   \n",
       "2       5996.314744       5996.549207      29182.229137      29180.914253   \n",
       "3      26499.920534      26502.530525       3647.560835       3646.959883   \n",
       "4       2424.803201       2424.884165      11775.620501      11775.613880   \n",
       "5      25484.952457      25482.728624      13219.221859      13219.128255   \n",
       "6       4495.978602       4496.121409      15919.743480      15919.443144   \n",
       "7       2831.076810       2833.592864        960.373877        962.215841   \n",
       "8       1744.366708       1746.121883       9014.560671       9017.326212   \n",
       "9      12019.977129      12019.973054      23501.126049      23501.183095   \n",
       "\n",
       "   moments_m_rep_0  moments_m_rep_1  moments_t_split_rep_0  \\\n",
       "0     4.570169e-05     4.570118e-05           12298.949740   \n",
       "1     3.392833e-06     3.401664e-06           14133.987983   \n",
       "2     4.822452e-05     4.822298e-05           10564.322109   \n",
       "3     1.000000e-04     1.000000e-04           17331.798131   \n",
       "4     4.719528e-05     4.719420e-05           11900.682067   \n",
       "5     1.000000e-04     1.000000e-04            5933.543380   \n",
       "6     1.000000e-04     1.000000e-04            2363.881702   \n",
       "7     1.596763e-08     1.355638e-08            7582.518959   \n",
       "8     3.550977e-06     3.682774e-06            2636.447349   \n",
       "9     8.659470e-05     8.659551e-05           20000.000000   \n",
       "\n",
       "   moments_t_split_rep_1  \n",
       "0           12299.460963  \n",
       "1           14140.190851  \n",
       "2           10563.986691  \n",
       "3           17334.324688  \n",
       "4           11901.060015  \n",
       "5            5933.421036  \n",
       "6            2363.949306  \n",
       "7            7593.276290  \n",
       "8            2641.849001  \n",
       "9           20000.000000  \n",
       "\n",
       "[10 rows x 25 columns]"
      ]
     },
     "execution_count": 6,
     "metadata": {},
     "output_type": "execute_result"
    }
   ],
   "source": [
    "features_df"
   ]
  },
  {
   "cell_type": "code",
   "execution_count": 7,
   "id": "c73b123b",
   "metadata": {},
   "outputs": [],
   "source": [
    "import pickle\n",
    "import matplotlib.pyplot as plt\n",
    "import numpy as np\n",
    "import pandas as pd"
   ]
  },
  {
   "cell_type": "code",
   "execution_count": 8,
   "id": "fa806ad7",
   "metadata": {},
   "outputs": [],
   "source": [
    "with open('/home/akapoor/kernlab/Infer_Demography/experiments/split_isolation/modeling/targets_df.pkl', 'rb') as f:\n",
    "    targets_df = pickle.load(f)"
   ]
  },
  {
   "cell_type": "code",
   "execution_count": 9,
   "id": "e799257f",
   "metadata": {},
   "outputs": [
    {
     "data": {
      "text/html": [
       "<div>\n",
       "<style scoped>\n",
       "    .dataframe tbody tr th:only-of-type {\n",
       "        vertical-align: middle;\n",
       "    }\n",
       "\n",
       "    .dataframe tbody tr th {\n",
       "        vertical-align: top;\n",
       "    }\n",
       "\n",
       "    .dataframe thead th {\n",
       "        text-align: right;\n",
       "    }\n",
       "</style>\n",
       "<table border=\"1\" class=\"dataframe\">\n",
       "  <thead>\n",
       "    <tr style=\"text-align: right;\">\n",
       "      <th></th>\n",
       "      <th>N0</th>\n",
       "      <th>N1</th>\n",
       "      <th>N2</th>\n",
       "      <th>m</th>\n",
       "      <th>t_split</th>\n",
       "    </tr>\n",
       "  </thead>\n",
       "  <tbody>\n",
       "    <tr>\n",
       "      <th>0</th>\n",
       "      <td>10798.197481</td>\n",
       "      <td>14301.029683</td>\n",
       "      <td>29188.230097</td>\n",
       "      <td>0.000034</td>\n",
       "      <td>12138.533968</td>\n",
       "    </tr>\n",
       "    <tr>\n",
       "      <th>1</th>\n",
       "      <td>21397.771624</td>\n",
       "      <td>13104.506916</td>\n",
       "      <td>29607.267213</td>\n",
       "      <td>0.000004</td>\n",
       "      <td>14438.577399</td>\n",
       "    </tr>\n",
       "    <tr>\n",
       "      <th>2</th>\n",
       "      <td>10342.699417</td>\n",
       "      <td>4650.996000</td>\n",
       "      <td>27241.276324</td>\n",
       "      <td>0.000035</td>\n",
       "      <td>17586.667652</td>\n",
       "    </tr>\n",
       "    <tr>\n",
       "      <th>3</th>\n",
       "      <td>6009.337815</td>\n",
       "      <td>27692.136918</td>\n",
       "      <td>3376.914899</td>\n",
       "      <td>0.000094</td>\n",
       "      <td>17827.199188</td>\n",
       "    </tr>\n",
       "    <tr>\n",
       "      <th>4</th>\n",
       "      <td>26621.002199</td>\n",
       "      <td>1912.478036</td>\n",
       "      <td>13749.571822</td>\n",
       "      <td>0.000022</td>\n",
       "      <td>4905.207737</td>\n",
       "    </tr>\n",
       "    <tr>\n",
       "      <th>5</th>\n",
       "      <td>19372.906697</td>\n",
       "      <td>24399.274505</td>\n",
       "      <td>13457.430736</td>\n",
       "      <td>0.000098</td>\n",
       "      <td>6497.551371</td>\n",
       "    </tr>\n",
       "    <tr>\n",
       "      <th>6</th>\n",
       "      <td>7163.310268</td>\n",
       "      <td>3927.647901</td>\n",
       "      <td>19812.347455</td>\n",
       "      <td>0.000057</td>\n",
       "      <td>1760.803060</td>\n",
       "    </tr>\n",
       "    <tr>\n",
       "      <th>7</th>\n",
       "      <td>17239.307359</td>\n",
       "      <td>2980.399298</td>\n",
       "      <td>1180.954980</td>\n",
       "      <td>0.000018</td>\n",
       "      <td>9683.775750</td>\n",
       "    </tr>\n",
       "    <tr>\n",
       "      <th>8</th>\n",
       "      <td>14571.693152</td>\n",
       "      <td>2376.438805</td>\n",
       "      <td>11046.626936</td>\n",
       "      <td>0.000033</td>\n",
       "      <td>9095.177666</td>\n",
       "    </tr>\n",
       "    <tr>\n",
       "      <th>9</th>\n",
       "      <td>29020.720101</td>\n",
       "      <td>11771.523574</td>\n",
       "      <td>24575.202931</td>\n",
       "      <td>0.000061</td>\n",
       "      <td>17126.764554</td>\n",
       "    </tr>\n",
       "  </tbody>\n",
       "</table>\n",
       "</div>"
      ],
      "text/plain": [
       "             N0            N1            N2         m       t_split\n",
       "0  10798.197481  14301.029683  29188.230097  0.000034  12138.533968\n",
       "1  21397.771624  13104.506916  29607.267213  0.000004  14438.577399\n",
       "2  10342.699417   4650.996000  27241.276324  0.000035  17586.667652\n",
       "3   6009.337815  27692.136918   3376.914899  0.000094  17827.199188\n",
       "4  26621.002199   1912.478036  13749.571822  0.000022   4905.207737\n",
       "5  19372.906697  24399.274505  13457.430736  0.000098   6497.551371\n",
       "6   7163.310268   3927.647901  19812.347455  0.000057   1760.803060\n",
       "7  17239.307359   2980.399298   1180.954980  0.000018   9683.775750\n",
       "8  14571.693152   2376.438805  11046.626936  0.000033   9095.177666\n",
       "9  29020.720101  11771.523574  24575.202931  0.000061  17126.764554"
      ]
     },
     "execution_count": 9,
     "metadata": {},
     "output_type": "execute_result"
    }
   ],
   "source": [
    "targets_df"
   ]
  },
  {
   "cell_type": "code",
   "execution_count": 15,
   "id": "79c0ac3b",
   "metadata": {},
   "outputs": [
    {
     "data": {
      "text/plain": [
       "<matplotlib.collections.PathCollection at 0x152da8683c20>"
      ]
     },
     "execution_count": 15,
     "metadata": {},
     "output_type": "execute_result"
    },
    {
     "data": {
      "image/png": "[encoded data removed]",
      "text/plain": [
       "<Figure size 640x480 with 1 Axes>"
      ]
     },
     "metadata": {},
     "output_type": "display_data"
    }
   ],
   "source": [
    "plt.figure()\n",
    "plt.scatter(features_df['momentsLD_t_split'], targets_df['t_split'])"
   ]
  },
  {
   "cell_type": "code",
   "execution_count": 8,
   "id": "4f2cca09",
   "metadata": {},
   "outputs": [],
   "source": [
    "with open('/home/akapoor/kernlab/Infer_Demography/experiments/split_isolation/modeling/color_shades.pkl', 'rb') as f:\n",
    "    color_shades = pickle.load(f)"
   ]
  },
  {
   "cell_type": "code",
   "execution_count": 9,
   "id": "af09e111",
   "metadata": {},
   "outputs": [
    {
     "data": {
      "text/plain": [
       "{'#ff0000': ['#ff0000', '#cc3d3d', '#995b5b'],\n",
       " '#cbff00': ['#cbff00', '#afcc3d', '#8c995b'],\n",
       " '#00ff66': ['#00ff66', '#3dcc76', '#5b9974'],\n",
       " '#0066ff': ['#0066ff', '#3d76cc', '#5b7499'],\n",
       " '#cc00ff': ['#cc00ff', '#af3dcc', '#8c5b99']}"
      ]
     },
     "execution_count": 9,
     "metadata": {},
     "output_type": "execute_result"
    }
   ],
   "source": [
    "color_shades"
   ]
  },
  {
   "cell_type": "code",
   "execution_count": 10,
   "id": "098e0fa7",
   "metadata": {},
   "outputs": [],
   "source": [
    "with open('/home/akapoor/kernlab/Infer_Demography/experiments/split_isolation/modeling/main_colors.pkl', 'rb') as f:\n",
    "    main_colors = pickle.load(f)"
   ]
  },
  {
   "cell_type": "code",
   "execution_count": 11,
   "id": "eb223ecd",
   "metadata": {},
   "outputs": [
    {
     "data": {
      "text/plain": [
       "['#ff0000', '#cbff00', '#00ff66', '#0066ff', '#cc00ff']"
      ]
     },
     "execution_count": 11,
     "metadata": {},
     "output_type": "execute_result"
    }
   ],
   "source": [
    "main_colors"
   ]
  },
  {
   "cell_type": "code",
   "execution_count": 3,
   "id": "d5abb768",
   "metadata": {},
   "outputs": [],
   "source": [
    "import pandas as pd\n",
    "import pickle\n",
    "import numpy as np\n",
    "with open('/home/akapoor/kernlab/Infer_Demography/experiments/split_isolation/modeling/targets_train_norm_df.pkl', 'rb') as f:\n",
    "    targets_train_norm_df = pickle.load(f)"
   ]
  },
  {
   "cell_type": "code",
   "execution_count": 5,
   "id": "eb216e8d",
   "metadata": {},
   "outputs": [],
   "source": [
    "# Get the number of NaN values in each column\n",
    "nan_counts = targets_train_norm_df.isna().sum()"
   ]
  },
  {
   "cell_type": "code",
   "execution_count": 6,
   "id": "7ee4bffc",
   "metadata": {},
   "outputs": [
    {
     "data": {
      "text/plain": [
       "N0         0\n",
       "N1         0\n",
       "N2         0\n",
       "m          0\n",
       "t_split    0\n",
       "dtype: int64"
      ]
     },
     "execution_count": 6,
     "metadata": {},
     "output_type": "execute_result"
    }
   ],
   "source": [
    "nan_counts"
   ]
  },
  {
   "cell_type": "code",
   "execution_count": 7,
   "id": "bdbe40a3",
   "metadata": {},
   "outputs": [],
   "source": [
    "# Get the number of inf values in each column\n",
    "inf_counts = np.isinf(targets_train_norm_df).sum()"
   ]
  },
  {
   "cell_type": "code",
   "execution_count": 8,
   "id": "df3734c6",
   "metadata": {},
   "outputs": [
    {
     "data": {
      "text/plain": [
       "N0         0\n",
       "N1         0\n",
       "N2         0\n",
       "m          0\n",
       "t_split    0\n",
       "dtype: int64"
      ]
     },
     "execution_count": 8,
     "metadata": {},
     "output_type": "execute_result"
    }
   ],
   "source": [
    "inf_counts"
   ]
  },
  {
   "cell_type": "code",
   "execution_count": 15,
   "id": "441ea7ce",
   "metadata": {},
   "outputs": [
    {
     "name": "stdout",
     "output_type": "stream",
     "text": [
      "dadi_N0_rep_0             1.581141e+00\n",
      "dadi_N1_rep_0             1.732051e+00\n",
      "dadi_N2_rep_0             1.535621e+00\n",
      "dadi_m_rep_0              1.712952e+00\n",
      "dadi_t_split_rep_0        1.221437e+00\n",
      "momentsLD_N0              9.913255e+01\n",
      "momentsLD_N1              1.166096e+02\n",
      "momentsLD_N2              4.109206e+08\n",
      "momentsLD_m              1.535561e+147\n",
      "momentsLD_t_split         3.240532e+02\n",
      "moments_N0_rep_0          1.732051e+00\n",
      "moments_N1_rep_0          1.732051e+00\n",
      "moments_N2_rep_0          1.732051e+00\n",
      "moments_m_rep_0           1.732051e+00\n",
      "moments_t_split_rep_0     1.732051e+00\n",
      "dtype: float64\n"
     ]
    }
   ],
   "source": [
    "with open('/home/akapoor/kernlab/Infer_Demography/experiments/split_isolation/modeling/features_val_norm_df.pkl', 'rb') as f:\n",
    "    features_val_norm_df = pickle.load(f)\n",
    "\n",
    "# # Get the number of NaN values in each column\n",
    "# nan_counts_val = features_val_norm_df.isna().sum()\n",
    "# print(nan_counts_val)\n",
    "\n",
    "print(features_val_norm_df.max())"
   ]
  },
  {
   "cell_type": "code",
   "execution_count": 11,
   "id": "bc601437",
   "metadata": {},
   "outputs": [
    {
     "name": "stdout",
     "output_type": "stream",
     "text": [
      "dadi_N0_rep_0            0\n",
      "dadi_N1_rep_0            0\n",
      "dadi_N2_rep_0            0\n",
      "dadi_m_rep_0             0\n",
      "dadi_t_split_rep_0       0\n",
      "momentsLD_N0             0\n",
      "momentsLD_N1             0\n",
      "momentsLD_N2             0\n",
      "momentsLD_m              0\n",
      "momentsLD_t_split        0\n",
      "moments_N0_rep_0         0\n",
      "moments_N1_rep_0         0\n",
      "moments_N2_rep_0         0\n",
      "moments_m_rep_0          0\n",
      "moments_t_split_rep_0    0\n",
      "dtype: int64\n"
     ]
    }
   ],
   "source": [
    "# Get the number of inf values in each column\n",
    "inf_counts_val = np.isinf(features_val_norm_df).sum()\n",
    "print(inf_counts_val)"
   ]
  },
  {
   "cell_type": "code",
   "execution_count": 12,
   "id": "9019e515",
   "metadata": {},
   "outputs": [
    {
     "name": "stdout",
     "output_type": "stream",
     "text": [
      "N0         0\n",
      "N1         0\n",
      "N2         0\n",
      "m          0\n",
      "t_split    0\n",
      "dtype: int64\n",
      "N0         0\n",
      "N1         0\n",
      "N2         0\n",
      "m          0\n",
      "t_split    0\n",
      "dtype: int64\n"
     ]
    }
   ],
   "source": [
    "with open('/home/akapoor/kernlab/Infer_Demography/experiments/split_isolation/modeling/targets_train_norm_df.pkl', 'rb') as f:\n",
    "    targets_train_norm_df = pickle.load(f)\n",
    "\n",
    "# Get the number of NaN values in each column\n",
    "nan_counts_train = targets_train_norm_df.isna().sum()\n",
    "print(nan_counts_train)\n",
    "\n",
    "# Get the number of inf values in each column\n",
    "inf_counts_train = np.isinf(targets_train_norm_df).sum()\n",
    "print(inf_counts_train)"
   ]
  },
  {
   "cell_type": "code",
   "execution_count": 13,
   "id": "b2c2b692",
   "metadata": {},
   "outputs": [
    {
     "name": "stdout",
     "output_type": "stream",
     "text": [
      "N0         0\n",
      "N1         0\n",
      "N2         0\n",
      "m          0\n",
      "t_split    0\n",
      "dtype: int64\n",
      "N0         0\n",
      "N1         0\n",
      "N2         0\n",
      "m          0\n",
      "t_split    0\n",
      "dtype: int64\n"
     ]
    }
   ],
   "source": [
    "with open('/home/akapoor/kernlab/Infer_Demography/experiments/split_isolation/modeling/targets_val_norm_df.pkl', 'rb') as f:\n",
    "    targets_val_norm_df = pickle.load(f)\n",
    "\n",
    "# Get the number of NaN values in each column\n",
    "nan_counts_val = targets_val_norm_df.isna().sum()\n",
    "print(nan_counts_val)\n",
    "\n",
    "# Get the number of inf values in each column\n",
    "inf_counts_val = np.isinf(targets_val_norm_df).sum()\n",
    "print(inf_counts_val)"
   ]
  },
  {
   "cell_type": "code",
   "execution_count": 1,
   "id": "12edeb91",
   "metadata": {},
   "outputs": [],
   "source": [
    "import pickle\n",
    "with open('/home/akapoor/kernlab/Infer_Demography/experiments/bottleneck/inferences/sim_0/MomentsLD/best_fit.pkl', 'rb') as f:\n",
    "    best_fit = pickle.load(f)"
   ]
  },
  {
   "cell_type": "code",
   "execution_count": 2,
   "id": "e0481e25",
   "metadata": {},
   "outputs": [
    {
     "data": {
      "text/plain": [
       "{'best_params': {'N_bottleneck': 1310.2982341787563,\n",
       "  'N_recover': 13523.383769255375,\n",
       "  't_bottleneck_start': 2818.562002084711,\n",
       "  't_bottleneck_end': 1088.2819499168018,\n",
       "  'N0': 9270.116327333282},\n",
       " 'best_lls': 1.4733553932087977}"
      ]
     },
     "execution_count": 2,
     "metadata": {},
     "output_type": "execute_result"
    }
   ],
   "source": [
    "best_fit"
   ]
  },
  {
   "cell_type": "code",
   "execution_count": 3,
   "id": "e51849ec",
   "metadata": {},
   "outputs": [],
   "source": [
    "with open('/home/akapoor/kernlab/Infer_Demography/experiments/bottleneck/simulations/0/sampled_params.pkl', 'rb') as f:\n",
    "    sampled_params = pickle.load(f)"
   ]
  },
  {
   "cell_type": "code",
   "execution_count": 4,
   "id": "53ff451c",
   "metadata": {},
   "outputs": [
    {
     "data": {
      "text/plain": [
       "{'N0': 9270.116327333282,\n",
       " 'N_bottleneck': 1310.2982341787563,\n",
       " 'N_recover': 12944.412737352868,\n",
       " 't_bottleneck_start': 2773.231210399062,\n",
       " 't_bottleneck_end': 1076.309241352794}"
      ]
     },
     "execution_count": 4,
     "metadata": {},
     "output_type": "execute_result"
    }
   ],
   "source": [
    "sampled_params"
   ]
  },
  {
   "cell_type": "code",
   "execution_count": 1,
   "id": "46e0930f",
   "metadata": {},
   "outputs": [
    {
     "name": "stdout",
     "output_type": "stream",
     "text": [
      "Loaded 10 simulation ⇄ fit pairs\n",
      "Figure saved to /home/akapoor/kernlab/Infer_Demography/debugging_experiments/split_migration/truth_vs_mld.png\n"
     ]
    },
    {
     "data": {
      "image/png": "[encoded data removed]",
      "text/plain": [
       "<Figure size 960x640 with 6 Axes>"
      ]
     },
     "metadata": {},
     "output_type": "display_data"
    }
   ],
   "source": [
    "# %% [markdown] -------------------------------------------------------------\n",
    "# # Compare ground‑truth parameters with Moments‑LD best fits\n",
    "#\n",
    "# *Loads every simulation in `experiments/<model>/` and shows\n",
    "# scatter plots of inferred vs. true values.*\n",
    "#\n",
    "# **Parameters to edit in the first cell:**\n",
    "#\n",
    "# ```python\n",
    "# MODEL = \"bottleneck\"        # folder name under experiments/\n",
    "# OUT_PNG = \"truth_vs_mld.png\"  # location of the summary figure\n",
    "# KEEP_FAILED = False          # include sims whose best‑fit has None?\n",
    "# ```\n",
    "# --------------------------------------------------------------------------\n",
    "\n",
    "# %% -------------------------------------------------------- user settings\n",
    "MODEL       = \"split_migration\"            # <-- change if needed\n",
    "OUT_PNG     = f\"/home/akapoor/kernlab/Infer_Demography/debugging_experiments/{MODEL}/truth_vs_mld.png\"\n",
    "KEEP_FAILED = False                   # True = keep fits that contain None\n",
    "\n",
    "# %% --------------------------------------------------- imports & helpers\n",
    "import pickle, json, math, itertools, sys, os\n",
    "from pathlib import Path\n",
    "\n",
    "import numpy as np\n",
    "import pandas as pd\n",
    "import matplotlib.pyplot as plt\n",
    "\n",
    "plt.style.use(\"classic\")      # matches your other plots\n",
    "\n",
    "def load_pickle(p):\n",
    "    with open(p, \"rb\") as fh:\n",
    "        return pickle.load(fh)\n",
    "\n",
    "SIM_DIR   = Path(f\"/home/akapoor/kernlab/Infer_Demography/debugging_experiments/{MODEL}/simulations\")\n",
    "INFER_DIR = Path(f\"/home/akapoor/kernlab/Infer_Demography/debugging_experiments/{MODEL}/inferences\")\n",
    "\n",
    "# %% ------------------------------------------------ gather all pairs\n",
    "rows = []\n",
    "\n",
    "for sid_path in sorted(SIM_DIR.iterdir()):\n",
    "    sid = sid_path.name                      # e.g. \"0\", \"127\" …\n",
    "\n",
    "    truth_pkl = sid_path / \"sampled_params.pkl\"\n",
    "    fit_pkl   = INFER_DIR / f\"sim_{sid}\" / \"MomentsLD\" / \"best_fit.pkl\"\n",
    "    if not (truth_pkl.exists() and fit_pkl.exists()):\n",
    "        continue          # skip incomplete ones silently\n",
    "\n",
    "    truth = load_pickle(truth_pkl)\n",
    "    best  = load_pickle(fit_pkl)\n",
    "    fit_params = best.get(\"best_params\", {})\n",
    "\n",
    "    if not KEEP_FAILED and any(v is None for v in fit_params.values()):\n",
    "        continue          # drop failed optimisation\n",
    "\n",
    "    row = {\"sid\": int(sid)}\n",
    "    for k, v in truth.items():\n",
    "        row[f\"true_{k}\"] = v\n",
    "    for k, v in fit_params.items():\n",
    "        row[f\"fit_{k}\"] = v\n",
    "    rows.append(row)\n",
    "\n",
    "df = pd.DataFrame(rows).set_index(\"sid\").sort_index()\n",
    "print(f\"Loaded {len(df)} simulation ⇄ fit pairs\")\n",
    "\n",
    "df.head()\n",
    "\n",
    "# %% ---------------------------------------------------- scatter grid\n",
    "params = [c.replace(\"true_\", \"\") for c in df.columns if c.startswith(\"true_\")]\n",
    "n_cols = 3\n",
    "n_rows = math.ceil(len(params) / n_cols)\n",
    "\n",
    "fig, axes = plt.subplots(n_rows, n_cols,\n",
    "                         figsize=(4*n_cols, 4*n_rows),\n",
    "                         squeeze=False)\n",
    "\n",
    "for i, p in enumerate(params):\n",
    "    r, c = divmod(i, n_cols)\n",
    "    ax = axes[r][c]\n",
    "\n",
    "    x = df[f\"true_{p}\"]\n",
    "    y = df[f\"fit_{p}\"]\n",
    "\n",
    "    ax.scatter(x, y, s=20, alpha=0.75)\n",
    "    lo, hi = min(x.min(), y.min()), max(x.max(), y.max())\n",
    "    pad = 0.05 * (hi - lo)\n",
    "    ax.plot([lo, hi], [lo, hi], \"k--\", lw=1)\n",
    "    ax.set_xlim(lo - pad, hi + pad)\n",
    "    ax.set_ylim(lo - pad, hi + pad)\n",
    "    ax.set_title(p)\n",
    "    ax.set_xlabel(\"Ground truth\")\n",
    "    ax.set_ylabel(\"Moments‑LD fit\")\n",
    "    ax.set_aspect(\"equal\", adjustable=\"box\")\n",
    "\n",
    "# hide any empty axes\n",
    "for j in range(len(params), n_rows*n_cols):\n",
    "    r, c = divmod(j, n_cols)\n",
    "    axes[r][c].axis(\"off\")\n",
    "\n",
    "fig.tight_layout()\n",
    "fig.savefig(OUT_PNG, dpi=300)\n",
    "print(\"Figure saved to\", OUT_PNG)\n",
    "\n",
    "# %% [markdown] -------------------------------------------------------------\n",
    "# ## What next?\n",
    "#\n",
    "# * Scroll through the scatter plots to spot systematic bias or variance.\n",
    "# * Hover a point in Jupyter Lab (if enabled) to read its simulation ID\n",
    "#   (sid shown on the index of `df`).\n",
    "# * To investigate an outlier, pick its `sid` and open the corresponding\n",
    "#   `sampled_params.pkl` / `best_fit.pkl`.\n",
    "# --------------------------------------------------------------------------\n"
   ]
  },
  {
   "cell_type": "code",
   "execution_count": 11,
   "id": "3030bdcf",
   "metadata": {},
   "outputs": [],
   "source": [
    "with open('/home/akapoor/kernlab/Infer_Demography/debugging_experiments/split_isolation/inferences/sim_0/MomentsLD/best_fit.pkl', 'rb') as f:\n",
    "    best_fit = pickle.load(f)"
   ]
  },
  {
   "cell_type": "code",
   "execution_count": 12,
   "id": "7491c050",
   "metadata": {},
   "outputs": [
    {
     "data": {
      "text/plain": [
       "{'best_params': {'N1': 11483.57809495059,\n",
       "  'N2': 13313.943402563858,\n",
       "  't_split': 5839.882774577925,\n",
       "  'm': 1.3010609807266205e-08,\n",
       "  'N0': 1922.5835827666117},\n",
       " 'best_lls': 10667.961360771254}"
      ]
     },
     "execution_count": 12,
     "metadata": {},
     "output_type": "execute_result"
    }
   ],
   "source": [
    "best_fit"
   ]
  },
  {
   "cell_type": "code",
   "execution_count": 13,
   "id": "9237c0ff",
   "metadata": {},
   "outputs": [],
   "source": [
    "with open('/home/akapoor/kernlab/Infer_Demography/debugging_experiments/split_isolation/simulations/0/sampled_params.pkl', 'rb') as f:\n",
    "    sampled_params = pickle.load(f)"
   ]
  },
  {
   "cell_type": "code",
   "execution_count": 14,
   "id": "1363b7c8",
   "metadata": {},
   "outputs": [
    {
     "data": {
      "text/plain": [
       "{'N0': 3101.280015497641,\n",
       " 'N1': 13003.687026818467,\n",
       " 'N2': 14877.956196170097,\n",
       " 'm': 2.871619867454109e-05,\n",
       " 't_split': 11703.207051289324}"
      ]
     },
     "execution_count": 14,
     "metadata": {},
     "output_type": "execute_result"
    }
   ],
   "source": [
    "sampled_params"
   ]
  },
  {
   "cell_type": "code",
   "execution_count": 4,
   "id": "30460f39",
   "metadata": {},
   "outputs": [],
   "source": [
    "with open('/home/akapoor/kernlab/Infer_Demography/experiments/split_isolation/inferences/sim_0/MomentsLD/LD_stats/LD_stats_window_0.pkl', 'rb') as f:\n",
    "    LD_stats = pickle.load(f)"
   ]
  },
  {
   "cell_type": "code",
   "execution_count": 6,
   "id": "04f23725",
   "metadata": {},
   "outputs": [
    {
     "data": {
      "text/plain": [
       "[(0.0, 1e-06),\n",
       " (1e-06, 3.2e-06),\n",
       " (3.2e-06, 1e-05),\n",
       " (1e-05, 3.2e-05),\n",
       " (3.2e-05, 0.0001),\n",
       " (0.0001, 0.00032),\n",
       " (0.00032, 0.001)]"
      ]
     },
     "execution_count": 6,
     "metadata": {},
     "output_type": "execute_result"
    }
   ],
   "source": [
    "LD_stats['bins']"
   ]
  },
  {
   "cell_type": "code",
   "execution_count": 8,
   "id": "40322fc6",
   "metadata": {},
   "outputs": [],
   "source": [
    "with open('/home/akapoor/kernlab/Infer_Demography/experiments/split_isolation/simulations/0/sampled_params.pkl', 'rb') as f:\n",
    "    sampled_params = pickle.load(f)"
   ]
  },
  {
   "cell_type": "code",
   "execution_count": 9,
   "id": "60c76e30",
   "metadata": {},
   "outputs": [
    {
     "data": {
      "text/plain": [
       "{'N0': 19887.621224708317,\n",
       " 'N1': 5152.277156036241,\n",
       " 'N2': 15209.531740910574,\n",
       " 'm': 9.853226216893704e-05,\n",
       " 't_split': 694.6451840248305}"
      ]
     },
     "execution_count": 9,
     "metadata": {},
     "output_type": "execute_result"
    }
   ],
   "source": [
    "sampled_params"
   ]
  },
  {
   "cell_type": "code",
   "execution_count": 10,
   "id": "826119b4",
   "metadata": {},
   "outputs": [],
   "source": [
    "with open('/home/akapoor/kernlab/Infer_Demography/experiments/split_isolation/runs/run_0_0/inferences/dadi/fit_params.pkl', 'rb') as f:\n",
    "    dadi_fit_params = pickle.load(f)"
   ]
  },
  {
   "cell_type": "code",
   "execution_count": 11,
   "id": "ef1babda",
   "metadata": {},
   "outputs": [
    {
     "data": {
      "text/plain": [
       "{'best_params': {'N0': 22543.79649657831,\n",
       "  'N1': 6007.534144821499,\n",
       "  'N2': 15947.09702894221,\n",
       "  'm': 7.392861156174717e-05,\n",
       "  't_split': 686.1228317428687},\n",
       " 'best_lls': -1505.4740848816232}"
      ]
     },
     "execution_count": 11,
     "metadata": {},
     "output_type": "execute_result"
    }
   ],
   "source": [
    "dadi_fit_params"
   ]
  },
  {
   "cell_type": "code",
   "execution_count": null,
   "id": "5d39dc91",
   "metadata": {},
   "outputs": [
    {
     "ename": "KeyError",
     "evalue": "\"None of ['sid'] are in the columns\"",
     "output_type": "error",
     "traceback": [
      "\u001b[0;31m---------------------------------------------------------------------------\u001b[0m",
      "\u001b[0;31mKeyError\u001b[0m                                  Traceback (most recent call last)",
      "\u001b[0;32m/tmp/ipykernel_1656971/2988880570.py\u001b[0m in \u001b[0;36m?\u001b[0;34m()\u001b[0m\n\u001b[1;32m     44\u001b[0m     \u001b[0;32mfor\u001b[0m \u001b[0mk\u001b[0m\u001b[0;34m,\u001b[0m \u001b[0mv\u001b[0m \u001b[0;32min\u001b[0m \u001b[0mfit_params\u001b[0m\u001b[0;34m.\u001b[0m\u001b[0mitems\u001b[0m\u001b[0;34m(\u001b[0m\u001b[0;34m)\u001b[0m\u001b[0;34m:\u001b[0m\u001b[0;34m\u001b[0m\u001b[0;34m\u001b[0m\u001b[0m\n\u001b[1;32m     45\u001b[0m         \u001b[0mrow\u001b[0m\u001b[0;34m[\u001b[0m\u001b[0;34mf\"\u001b[0m\u001b[0;34mfit_\u001b[0m\u001b[0;34m{\u001b[0m\u001b[0mk\u001b[0m\u001b[0;34m}\u001b[0m\u001b[0;34m\"\u001b[0m\u001b[0;34m]\u001b[0m \u001b[0;34m=\u001b[0m \u001b[0mv\u001b[0m\u001b[0;34m\u001b[0m\u001b[0;34m\u001b[0m\u001b[0m\n\u001b[1;32m     46\u001b[0m     \u001b[0mrows\u001b[0m\u001b[0;34m.\u001b[0m\u001b[0mappend\u001b[0m\u001b[0;34m(\u001b[0m\u001b[0mrow\u001b[0m\u001b[0;34m)\u001b[0m\u001b[0;34m\u001b[0m\u001b[0;34m\u001b[0m\u001b[0m\n\u001b[1;32m     47\u001b[0m \u001b[0;34m\u001b[0m\u001b[0m\n\u001b[0;32m---> 48\u001b[0;31m \u001b[0mdf\u001b[0m \u001b[0;34m=\u001b[0m \u001b[0mpd\u001b[0m\u001b[0;34m.\u001b[0m\u001b[0mDataFrame\u001b[0m\u001b[0;34m(\u001b[0m\u001b[0mrows\u001b[0m\u001b[0;34m)\u001b[0m\u001b[0;34m.\u001b[0m\u001b[0mset_index\u001b[0m\u001b[0;34m(\u001b[0m\u001b[0;34m\"sid\"\u001b[0m\u001b[0;34m)\u001b[0m\u001b[0;34m.\u001b[0m\u001b[0msort_index\u001b[0m\u001b[0;34m(\u001b[0m\u001b[0;34m)\u001b[0m\u001b[0;34m\u001b[0m\u001b[0;34m\u001b[0m\u001b[0m\n\u001b[0m\u001b[1;32m     49\u001b[0m \u001b[0mprint\u001b[0m\u001b[0;34m(\u001b[0m\u001b[0;34mf\"\u001b[0m\u001b[0;34mLoaded \u001b[0m\u001b[0;34m{\u001b[0m\u001b[0mlen\u001b[0m\u001b[0;34m(\u001b[0m\u001b[0mdf\u001b[0m\u001b[0;34m)\u001b[0m\u001b[0;34m}\u001b[0m\u001b[0;34m simulation ⇄ dadi-fit pairs\u001b[0m\u001b[0;34m\"\u001b[0m\u001b[0;34m)\u001b[0m\u001b[0;34m\u001b[0m\u001b[0;34m\u001b[0m\u001b[0m\n\u001b[1;32m     50\u001b[0m \u001b[0;34m\u001b[0m\u001b[0m\n\u001b[1;32m     51\u001b[0m \u001b[0;31m# %% ---------------------------------------------------- scatter grid\u001b[0m\u001b[0;34m\u001b[0m\u001b[0;34m\u001b[0m\u001b[0m\n",
      "\u001b[0;32m/gpfs/home/akapoor/miniforge3/envs/snakemake-env/lib/python3.12/site-packages/pandas/core/frame.py\u001b[0m in \u001b[0;36m?\u001b[0;34m(self, keys, drop, append, inplace, verify_integrity)\u001b[0m\n\u001b[1;32m   6118\u001b[0m                     \u001b[0;32mif\u001b[0m \u001b[0;32mnot\u001b[0m \u001b[0mfound\u001b[0m\u001b[0;34m:\u001b[0m\u001b[0;34m\u001b[0m\u001b[0;34m\u001b[0m\u001b[0m\n\u001b[1;32m   6119\u001b[0m                         \u001b[0mmissing\u001b[0m\u001b[0;34m.\u001b[0m\u001b[0mappend\u001b[0m\u001b[0;34m(\u001b[0m\u001b[0mcol\u001b[0m\u001b[0;34m)\u001b[0m\u001b[0;34m\u001b[0m\u001b[0;34m\u001b[0m\u001b[0m\n\u001b[1;32m   6120\u001b[0m \u001b[0;34m\u001b[0m\u001b[0m\n\u001b[1;32m   6121\u001b[0m         \u001b[0;32mif\u001b[0m \u001b[0mmissing\u001b[0m\u001b[0;34m:\u001b[0m\u001b[0;34m\u001b[0m\u001b[0;34m\u001b[0m\u001b[0m\n\u001b[0;32m-> 6122\u001b[0;31m             \u001b[0;32mraise\u001b[0m \u001b[0mKeyError\u001b[0m\u001b[0;34m(\u001b[0m\u001b[0;34mf\"\u001b[0m\u001b[0;34mNone of \u001b[0m\u001b[0;34m{\u001b[0m\u001b[0mmissing\u001b[0m\u001b[0;34m}\u001b[0m\u001b[0;34m are in the columns\u001b[0m\u001b[0;34m\"\u001b[0m\u001b[0;34m)\u001b[0m\u001b[0;34m\u001b[0m\u001b[0;34m\u001b[0m\u001b[0m\n\u001b[0m\u001b[1;32m   6123\u001b[0m \u001b[0;34m\u001b[0m\u001b[0m\n\u001b[1;32m   6124\u001b[0m         \u001b[0;32mif\u001b[0m \u001b[0minplace\u001b[0m\u001b[0;34m:\u001b[0m\u001b[0;34m\u001b[0m\u001b[0;34m\u001b[0m\u001b[0m\n\u001b[1;32m   6125\u001b[0m             \u001b[0mframe\u001b[0m \u001b[0;34m=\u001b[0m \u001b[0mself\u001b[0m\u001b[0;34m\u001b[0m\u001b[0;34m\u001b[0m\u001b[0m\n",
      "\u001b[0;31mKeyError\u001b[0m: \"None of ['sid'] are in the columns\""
     ]
    }
   ],
   "source": [
    "# %% -------------------------------------------------------- user settings\n",
    "MODEL       = \"split_migration\"  # <-- change if needed\n",
    "OUT_PNG     = f\"/home/akapoor/kernlab/Infer_Demography/experiments/{MODEL}/truth_vs_dadi.png\"\n",
    "KEEP_FAILED = False\n",
    "\n",
    "# %% --------------------------------------------------- imports & helpers\n",
    "import pickle, json, math\n",
    "from pathlib import Path\n",
    "\n",
    "import numpy as np\n",
    "import pandas as pd\n",
    "import matplotlib.pyplot as plt\n",
    "\n",
    "plt.style.use(\"classic\")\n",
    "\n",
    "def load_pickle(p):\n",
    "    with open(p, \"rb\") as fh:\n",
    "        return pickle.load(fh)\n",
    "\n",
    "SIM_DIR   = Path(f\"/home/akapoor/kernlab/Infer_Demography/experiments/{MODEL}/simulations\")\n",
    "INFER_DIR = Path(f\"/home/akapoor/kernlab/Infer_Demography/experiments/{MODEL}/inferences\")\n",
    "\n",
    "# %% ------------------------------------------------ gather all pairs\n",
    "rows = []\n",
    "\n",
    "for sid_path in sorted(SIM_DIR.iterdir()):\n",
    "    sid = sid_path.name  # e.g., \"0\", \"127\"\n",
    "    \n",
    "    truth_pkl = sid_path / \"sampled_params.pkl\"\n",
    "    fit_pkl   = INFER_DIR / f\"sim_{sid}\" / \"dadi\" / \"fit_params.pkl\"\n",
    "    if not (truth_pkl.exists() and fit_pkl.exists()):\n",
    "        continue\n",
    "\n",
    "    truth = load_pickle(truth_pkl)\n",
    "    best  = load_pickle(fit_pkl)\n",
    "    fit_params = best.get(\"best_params\", {})\n",
    "\n",
    "    if not KEEP_FAILED and any(v is None for v in fit_params.values()):\n",
    "        continue\n",
    "\n",
    "    row = {\"sid\": int(sid)}\n",
    "    for k, v in truth.items():\n",
    "        row[f\"true_{k}\"] = v\n",
    "    for k, v in fit_params.items():\n",
    "        row[f\"fit_{k}\"] = v\n",
    "    rows.append(row)\n",
    "\n",
    "df = pd.DataFrame(rows).set_index(\"sid\").sort_index()\n",
    "print(f\"Loaded {len(df)} simulation ⇄ dadi-fit pairs\")\n",
    "\n",
    "# %% ---------------------------------------------------- scatter grid\n",
    "params = [c.replace(\"true_\", \"\") for c in df.columns if c.startswith(\"true_\")]\n",
    "n_cols = 3\n",
    "n_rows = math.ceil(len(params) / n_cols)\n",
    "\n",
    "fig, axes = plt.subplots(n_rows, n_cols,\n",
    "                         figsize=(4*n_cols, 4*n_rows),\n",
    "                         squeeze=False)\n",
    "\n",
    "for i, p in enumerate(params):\n",
    "    r, c = divmod(i, n_cols)\n",
    "    ax = axes[r][c]\n",
    "\n",
    "    x = df[f\"true_{p}\"]\n",
    "    y = df[f\"fit_{p}\"]\n",
    "\n",
    "    ax.scatter(x, y, s=20, alpha=0.75)\n",
    "    lo, hi = min(x.min(), y.min()), max(x.max(), y.max())\n",
    "    pad = 0.05 * (hi - lo)\n",
    "    ax.plot([lo, hi], [lo, hi], \"k--\", lw=1)\n",
    "    ax.set_xlim(lo - pad, hi + pad)\n",
    "    ax.set_ylim(lo - pad, hi + pad)\n",
    "    ax.set_title(p)\n",
    "    ax.set_xlabel(\"Ground truth\")\n",
    "    ax.set_ylabel(\"Dadi fit\")\n",
    "    ax.set_aspect(\"equal\", adjustable=\"box\")\n",
    "\n",
    "# hide any empty axes\n",
    "for j in range(len(params), n_rows * n_cols):\n",
    "    r, c = divmod(j, n_cols)\n",
    "    axes[r][c].axis(\"off\")\n",
    "\n",
    "fig.tight_layout()\n",
    "fig.savefig(OUT_PNG, dpi=300)\n",
    "print(\"Figure saved to\", OUT_PNG)\n"
   ]
  },
  {
   "cell_type": "code",
   "execution_count": 15,
   "id": "9040cfbc",
   "metadata": {},
   "outputs": [],
   "source": [
    "# --------------------------------------------------------------------------\n",
    "# truth_vs_dadi.py  —  compare ground-truth with dadi best fits across runs\n",
    "# --------------------------------------------------------------------------\n",
    "from __future__ import annotations\n",
    "from pathlib import Path\n",
    "import pickle\n",
    "import re\n",
    "import math\n",
    "from typing import Iterable, Optional, Dict, Any, List\n",
    "\n",
    "import numpy as np\n",
    "import pandas as pd\n",
    "import matplotlib.pyplot as plt\n",
    "\n",
    "plt.style.use(\"classic\")  # to match your other plots\n",
    "\n",
    "def _load_pickle(p: Path):\n",
    "    with p.open(\"rb\") as fh:\n",
    "        return pickle.load(fh)\n",
    "\n",
    "def _pick_run_fit_for_sid(runs_dir: Path, sid: int) -> Optional[Path]:\n",
    "    \"\"\"\n",
    "    Return the path to the dadi fit file for a given sid.\n",
    "    Selects the most recently modified fit if multiple run_{sid}_* exist.\n",
    "    \"\"\"\n",
    "    # pattern: experiments/<MODEL>/runs/run_<sid>_<opt>/inferences/dadi/fit_params.pkl\n",
    "    candidates = list((runs_dir).glob(f\"run_{sid}_*/inferences/dadi/fit_params.pkl\"))\n",
    "    if not candidates:\n",
    "        return None\n",
    "    # choose the most recently modified fit file\n",
    "    candidates.sort(key=lambda p: p.stat().st_mtime, reverse=True)\n",
    "    return candidates[0]\n",
    "\n",
    "def plot_truth_vs_dadi(\n",
    "    model: str = \"split_isolation\",\n",
    "    exp_root: str = \"/home/akapoor/kernlab/Infer_Demography/experiments\",\n",
    "    out_png: Optional[str] = None,\n",
    "    keep_failed: bool = False,\n",
    "    log_params: Iterable[str] = (\"m\",),   # log-scale certain params (e.g., migration)\n",
    "    point_alpha: float = 0.75,\n",
    "    point_size: float = 20.0,\n",
    ") -> pd.DataFrame:\n",
    "    \"\"\"\n",
    "    Build scatter plots of true vs dadi-fitted parameters for all runs.\n",
    "\n",
    "    Returns the DataFrame used to generate the plots.\n",
    "    \"\"\"\n",
    "    EXP_ROOT = Path(exp_root)\n",
    "    SIM_DIR  = EXP_ROOT / model / \"simulations\"\n",
    "    RUNS_DIR = EXP_ROOT / model / \"runs\"\n",
    "\n",
    "    if out_png is None:\n",
    "        out_png = str(EXP_ROOT / model / \"truth_vs_dadi.png\")\n",
    "\n",
    "    rows: List[Dict[str, Any]] = []\n",
    "\n",
    "    if not SIM_DIR.exists():\n",
    "        raise FileNotFoundError(f\"Simulations dir not found: {SIM_DIR}\")\n",
    "    if not RUNS_DIR.exists():\n",
    "        raise FileNotFoundError(f\"Runs dir not found: {RUNS_DIR}\")\n",
    "\n",
    "    # Iterate all simulation IDs under simulations/\n",
    "    for sid_path in sorted(SIM_DIR.iterdir(), key=lambda p: int(p.name) if p.name.isdigit() else 10**9):\n",
    "        if not sid_path.is_dir() or not sid_path.name.isdigit():\n",
    "            continue\n",
    "        sid = int(sid_path.name)\n",
    "\n",
    "        truth_pkl = sid_path / \"sampled_params.pkl\"\n",
    "        fit_pkl   = _pick_run_fit_for_sid(RUNS_DIR, sid)\n",
    "        if fit_pkl is None or not truth_pkl.exists():\n",
    "            continue\n",
    "\n",
    "        truth = _load_pickle(truth_pkl)  # dict of true params\n",
    "        fit   = _load_pickle(fit_pkl)    # {'best_params': {...}, 'best_lls': ...}\n",
    "        fit_params: Dict[str, Any] = dict(fit.get(\"best_params\", {}))\n",
    "\n",
    "        if not keep_failed and (not fit_params or any(v is None for v in fit_params.values())):\n",
    "            # Skip failed fits unless requested\n",
    "            continue\n",
    "\n",
    "        row = {\"sid\": sid}\n",
    "        # only include params present in truth to stay consistent\n",
    "        for k, v in truth.items():\n",
    "            row[f\"true_{k}\"] = v\n",
    "        for k, v in fit_params.items():\n",
    "            row[f\"fit_{k}\"] = v\n",
    "        rows.append(row)\n",
    "\n",
    "    df = pd.DataFrame(rows).set_index(\"sid\").sort_index()\n",
    "    print(f\"Loaded {len(df)} simulation ⇄ dadi-fit pairs\")\n",
    "\n",
    "    if df.empty:\n",
    "        # Create an empty figure to avoid Snakemake missing output errors,\n",
    "        # but notify the user.\n",
    "        fig = plt.figure(figsize=(6, 4))\n",
    "        fig.text(0.5, 0.5, \"No completed dadi fits found\", ha=\"center\", va=\"center\")\n",
    "        fig.tight_layout()\n",
    "        fig.savefig(out_png, dpi=300)\n",
    "        plt.close(fig)\n",
    "        return df\n",
    "\n",
    "    # Figure: one panel per parameter common to truth/fit\n",
    "    params = sorted({c.replace(\"true_\", \"\") for c in df.columns if c.startswith(\"true_\")}\n",
    "                    & {c.replace(\"fit_\", \"\")  for c in df.columns if c.startswith(\"fit_\")})\n",
    "    n_cols = 3\n",
    "    n_rows = math.ceil(len(params) / n_cols)\n",
    "\n",
    "    fig, axes = plt.subplots(n_rows, n_cols, figsize=(4*n_cols, 4*n_rows), squeeze=False)\n",
    "\n",
    "    for i, p in enumerate(params):\n",
    "        r, c = divmod(i, n_cols)\n",
    "        ax = axes[r][c]\n",
    "\n",
    "        x = pd.to_numeric(df.get(f\"true_{p}\"), errors=\"coerce\")\n",
    "        y = pd.to_numeric(df.get(f\"fit_{p}\"),  errors=\"coerce\")\n",
    "\n",
    "        # Remove NaNs / None\n",
    "        valid = x.notna() & y.notna()\n",
    "        x = x[valid]\n",
    "        y = y[valid]\n",
    "\n",
    "        # Optional log scaling for selected parameters\n",
    "        use_log = p in set(log_params or [])\n",
    "        if use_log:\n",
    "            # filter out non-positive values\n",
    "            pos = (x > 0) & (y > 0)\n",
    "            x = x[pos]; y = y[pos]\n",
    "            ax.set_xscale(\"log\")\n",
    "            ax.set_yscale(\"log\")\n",
    "\n",
    "        if len(x) == 0:\n",
    "            ax.text(0.5, 0.5, f\"No data for {p}\", ha=\"center\", va=\"center\")\n",
    "            ax.axis(\"off\")\n",
    "            continue\n",
    "\n",
    "        ax.scatter(x, y, s=point_size, alpha=point_alpha)\n",
    "\n",
    "        # Identity line (works in both lin and log scales)\n",
    "        lo = min(x.min(), y.min())\n",
    "        hi = max(x.max(), y.max())\n",
    "        if not use_log:\n",
    "            pad = 0.05 * (hi - lo)\n",
    "            lo_p, hi_p = lo - pad, hi + pad\n",
    "        else:\n",
    "            # add a small multiplicative padding for log axes\n",
    "            lo_p, hi_p = lo / 1.2, hi * 1.2\n",
    "\n",
    "        ax.plot([lo_p, hi_p], [lo_p, hi_p], \"k--\", lw=1)\n",
    "        ax.set_xlim(lo_p, hi_p)\n",
    "        ax.set_ylim(lo_p, hi_p)\n",
    "        ax.set_title(p)\n",
    "        ax.set_xlabel(\"Ground truth\")\n",
    "        ax.set_ylabel(\"dadi fit\")\n",
    "        ax.set_aspect(\"equal\", adjustable=\"box\")\n",
    "\n",
    "        # Small quality metric: R^2 on current panel (in linear space only)\n",
    "        try:\n",
    "            if len(x) >= 2 and not use_log:\n",
    "                ss_res = float(((y - x) ** 2).sum())\n",
    "                ss_tot = float(((x - x.mean()) ** 2).sum()) + 1e-12\n",
    "                r2 = 1.0 - ss_res / ss_tot\n",
    "                ax.text(0.05, 0.95, f\"$R^2$={r2:.3f}\", transform=ax.transAxes,\n",
    "                        va=\"top\", ha=\"left\", fontsize=9)\n",
    "        except Exception:\n",
    "            pass\n",
    "\n",
    "    # Hide any empty axes\n",
    "    for j in range(len(params), n_rows*n_cols):\n",
    "        r, c = divmod(j, n_cols)\n",
    "        axes[r][c].axis(\"off\")\n",
    "\n",
    "    fig.tight_layout()\n",
    "    fig.savefig(out_png, dpi=300)\n",
    "    plt.close(fig)\n",
    "    print(\"Figure saved to\", out_png)\n",
    "\n",
    "    return df\n"
   ]
  },
  {
   "cell_type": "code",
   "execution_count": 16,
   "id": "976170a5",
   "metadata": {},
   "outputs": [
    {
     "name": "stdout",
     "output_type": "stream",
     "text": [
      "Loaded 10 simulation ⇄ dadi-fit pairs\n",
      "Figure saved to /home/akapoor/kernlab/Infer_Demography/experiments/split_isolation/truth_vs_dadi.png\n"
     ]
    },
    {
     "data": {
      "text/html": [
       "<div>\n",
       "<style scoped>\n",
       "    .dataframe tbody tr th:only-of-type {\n",
       "        vertical-align: middle;\n",
       "    }\n",
       "\n",
       "    .dataframe tbody tr th {\n",
       "        vertical-align: top;\n",
       "    }\n",
       "\n",
       "    .dataframe thead th {\n",
       "        text-align: right;\n",
       "    }\n",
       "</style>\n",
       "<table border=\"1\" class=\"dataframe\">\n",
       "  <thead>\n",
       "    <tr style=\"text-align: right;\">\n",
       "      <th></th>\n",
       "      <th>true_N0</th>\n",
       "      <th>true_N1</th>\n",
       "      <th>true_N2</th>\n",
       "      <th>true_m</th>\n",
       "      <th>true_t_split</th>\n",
       "      <th>fit_N0</th>\n",
       "      <th>fit_N1</th>\n",
       "      <th>fit_N2</th>\n",
       "      <th>fit_m</th>\n",
       "      <th>fit_t_split</th>\n",
       "    </tr>\n",
       "    <tr>\n",
       "      <th>sid</th>\n",
       "      <th></th>\n",
       "      <th></th>\n",
       "      <th></th>\n",
       "      <th></th>\n",
       "      <th></th>\n",
       "      <th></th>\n",
       "      <th></th>\n",
       "      <th></th>\n",
       "      <th></th>\n",
       "      <th></th>\n",
       "    </tr>\n",
       "  </thead>\n",
       "  <tbody>\n",
       "    <tr>\n",
       "      <th>0</th>\n",
       "      <td>19887.621225</td>\n",
       "      <td>5152.277156</td>\n",
       "      <td>15209.531741</td>\n",
       "      <td>0.000099</td>\n",
       "      <td>694.645184</td>\n",
       "      <td>18137.102934</td>\n",
       "      <td>15804.649137</td>\n",
       "      <td>17426.140463</td>\n",
       "      <td>0.000071</td>\n",
       "      <td>1246.359325</td>\n",
       "    </tr>\n",
       "    <tr>\n",
       "      <th>1</th>\n",
       "      <td>16014.305295</td>\n",
       "      <td>29775.193900</td>\n",
       "      <td>20488.788802</td>\n",
       "      <td>0.000063</td>\n",
       "      <td>2969.423355</td>\n",
       "      <td>15417.650429</td>\n",
       "      <td>25717.536312</td>\n",
       "      <td>19837.875089</td>\n",
       "      <td>0.000071</td>\n",
       "      <td>2885.585321</td>\n",
       "    </tr>\n",
       "    <tr>\n",
       "      <th>2</th>\n",
       "      <td>22619.955418</td>\n",
       "      <td>16779.016469</td>\n",
       "      <td>24691.177218</td>\n",
       "      <td>0.000087</td>\n",
       "      <td>9730.151811</td>\n",
       "      <td>18719.700269</td>\n",
       "      <td>14547.334673</td>\n",
       "      <td>20003.867762</td>\n",
       "      <td>0.000100</td>\n",
       "      <td>7004.147937</td>\n",
       "    </tr>\n",
       "    <tr>\n",
       "      <th>3</th>\n",
       "      <td>8451.920176</td>\n",
       "      <td>10536.065329</td>\n",
       "      <td>14966.513642</td>\n",
       "      <td>0.000097</td>\n",
       "      <td>16103.150546</td>\n",
       "      <td>10847.251733</td>\n",
       "      <td>13603.418129</td>\n",
       "      <td>19804.902864</td>\n",
       "      <td>0.000076</td>\n",
       "      <td>20000.000000</td>\n",
       "    </tr>\n",
       "    <tr>\n",
       "      <th>4</th>\n",
       "      <td>11336.388925</td>\n",
       "      <td>20276.783933</td>\n",
       "      <td>13124.258629</td>\n",
       "      <td>0.000032</td>\n",
       "      <td>11580.673908</td>\n",
       "      <td>11138.094570</td>\n",
       "      <td>20048.773116</td>\n",
       "      <td>12290.411155</td>\n",
       "      <td>0.000033</td>\n",
       "      <td>12242.665874</td>\n",
       "    </tr>\n",
       "  </tbody>\n",
       "</table>\n",
       "</div>"
      ],
      "text/plain": [
       "          true_N0       true_N1       true_N2    true_m  true_t_split  \\\n",
       "sid                                                                     \n",
       "0    19887.621225   5152.277156  15209.531741  0.000099    694.645184   \n",
       "1    16014.305295  29775.193900  20488.788802  0.000063   2969.423355   \n",
       "2    22619.955418  16779.016469  24691.177218  0.000087   9730.151811   \n",
       "3     8451.920176  10536.065329  14966.513642  0.000097  16103.150546   \n",
       "4    11336.388925  20276.783933  13124.258629  0.000032  11580.673908   \n",
       "\n",
       "           fit_N0        fit_N1        fit_N2     fit_m   fit_t_split  \n",
       "sid                                                                    \n",
       "0    18137.102934  15804.649137  17426.140463  0.000071   1246.359325  \n",
       "1    15417.650429  25717.536312  19837.875089  0.000071   2885.585321  \n",
       "2    18719.700269  14547.334673  20003.867762  0.000100   7004.147937  \n",
       "3    10847.251733  13603.418129  19804.902864  0.000076  20000.000000  \n",
       "4    11138.094570  20048.773116  12290.411155  0.000033  12242.665874  "
      ]
     },
     "execution_count": 16,
     "metadata": {},
     "output_type": "execute_result"
    }
   ],
   "source": [
    "# In a notebook or a small script:\n",
    "df = plot_truth_vs_dadi(\n",
    "    model=\"split_isolation\",\n",
    "    exp_root=\"/home/akapoor/kernlab/Infer_Demography/experiments\",\n",
    "    out_png=\"/home/akapoor/kernlab/Infer_Demography/experiments/split_isolation/truth_vs_dadi.png\",\n",
    "    keep_failed=False,            # set True if you want to include runs with None\n",
    "    log_params=(\"m\",),            # log scale for migration rate\n",
    ")\n",
    "df.head()\n"
   ]
  },
  {
   "cell_type": "code",
   "execution_count": 2,
   "id": "7603d159",
   "metadata": {},
   "outputs": [],
   "source": [
    "from sklearn.metrics import mean_squared_error as sk_mse"
   ]
  },
  {
   "cell_type": "code",
   "execution_count": 3,
   "id": "9fd779d5",
   "metadata": {},
   "outputs": [],
   "source": [
    "with open('/home/akapoor/kernlab/Infer_Demography/experiments/split_isolation/modeling/datasets/normalized_train_features.pkl', 'rb') as f:\n",
    "    train_features = pickle.load(f)"
   ]
  },
  {
   "cell_type": "code",
   "execution_count": 4,
   "id": "d771c3c9",
   "metadata": {},
   "outputs": [
    {
     "data": {
      "text/html": [
       "<div>\n",
       "<style scoped>\n",
       "    .dataframe tbody tr th:only-of-type {\n",
       "        vertical-align: middle;\n",
       "    }\n",
       "\n",
       "    .dataframe tbody tr th {\n",
       "        vertical-align: top;\n",
       "    }\n",
       "\n",
       "    .dataframe thead th {\n",
       "        text-align: right;\n",
       "    }\n",
       "</style>\n",
       "<table border=\"1\" class=\"dataframe\">\n",
       "  <thead>\n",
       "    <tr style=\"text-align: right;\">\n",
       "      <th></th>\n",
       "      <th>dadi_N0_rep_0</th>\n",
       "      <th>dadi_N0_rep_1</th>\n",
       "      <th>dadi_N0_rep_2</th>\n",
       "      <th>dadi_N0_rep_3</th>\n",
       "      <th>dadi_N0_rep_4</th>\n",
       "      <th>dadi_N1_rep_0</th>\n",
       "      <th>dadi_N1_rep_1</th>\n",
       "      <th>dadi_N1_rep_2</th>\n",
       "      <th>dadi_N1_rep_3</th>\n",
       "      <th>dadi_N1_rep_4</th>\n",
       "      <th>...</th>\n",
       "      <th>moments_m_rep_0</th>\n",
       "      <th>moments_m_rep_1</th>\n",
       "      <th>moments_m_rep_2</th>\n",
       "      <th>moments_m_rep_3</th>\n",
       "      <th>moments_m_rep_4</th>\n",
       "      <th>moments_t_split_rep_0</th>\n",
       "      <th>moments_t_split_rep_1</th>\n",
       "      <th>moments_t_split_rep_2</th>\n",
       "      <th>moments_t_split_rep_3</th>\n",
       "      <th>moments_t_split_rep_4</th>\n",
       "    </tr>\n",
       "  </thead>\n",
       "  <tbody>\n",
       "    <tr>\n",
       "      <th>104</th>\n",
       "      <td>-1.310492</td>\n",
       "      <td>-1.411640</td>\n",
       "      <td>-1.257724</td>\n",
       "      <td>-1.299196</td>\n",
       "      <td>-1.356575</td>\n",
       "      <td>-1.052140</td>\n",
       "      <td>-1.193878</td>\n",
       "      <td>-0.963868</td>\n",
       "      <td>-1.014901</td>\n",
       "      <td>-1.123687</td>\n",
       "      <td>...</td>\n",
       "      <td>-1.209725</td>\n",
       "      <td>-1.209723</td>\n",
       "      <td>-1.209723</td>\n",
       "      <td>-1.209718</td>\n",
       "      <td>-1.209725</td>\n",
       "      <td>0.536325</td>\n",
       "      <td>0.536328</td>\n",
       "      <td>0.536329</td>\n",
       "      <td>0.536340</td>\n",
       "      <td>0.536325</td>\n",
       "    </tr>\n",
       "    <tr>\n",
       "      <th>54</th>\n",
       "      <td>1.726659</td>\n",
       "      <td>1.350676</td>\n",
       "      <td>1.483361</td>\n",
       "      <td>1.732051</td>\n",
       "      <td>1.148926</td>\n",
       "      <td>-0.652505</td>\n",
       "      <td>-0.773668</td>\n",
       "      <td>-0.776521</td>\n",
       "      <td>-0.705717</td>\n",
       "      <td>-0.818394</td>\n",
       "      <td>...</td>\n",
       "      <td>-1.594828</td>\n",
       "      <td>-1.588505</td>\n",
       "      <td>-1.614537</td>\n",
       "      <td>-1.619741</td>\n",
       "      <td>-1.704231</td>\n",
       "      <td>-1.670237</td>\n",
       "      <td>-1.669607</td>\n",
       "      <td>-1.670642</td>\n",
       "      <td>-1.670610</td>\n",
       "      <td>-1.671290</td>\n",
       "    </tr>\n",
       "    <tr>\n",
       "      <th>605</th>\n",
       "      <td>-0.999232</td>\n",
       "      <td>-0.976083</td>\n",
       "      <td>-0.910815</td>\n",
       "      <td>-0.979719</td>\n",
       "      <td>-0.948368</td>\n",
       "      <td>-0.272229</td>\n",
       "      <td>-0.232279</td>\n",
       "      <td>-0.088745</td>\n",
       "      <td>-0.248258</td>\n",
       "      <td>-0.172245</td>\n",
       "      <td>...</td>\n",
       "      <td>-0.802465</td>\n",
       "      <td>-0.802337</td>\n",
       "      <td>-0.802337</td>\n",
       "      <td>-0.802336</td>\n",
       "      <td>-0.802338</td>\n",
       "      <td>-0.651924</td>\n",
       "      <td>-0.651889</td>\n",
       "      <td>-0.651889</td>\n",
       "      <td>-0.651887</td>\n",
       "      <td>-0.651889</td>\n",
       "    </tr>\n",
       "    <tr>\n",
       "      <th>988</th>\n",
       "      <td>-1.520894</td>\n",
       "      <td>-1.472766</td>\n",
       "      <td>-1.520794</td>\n",
       "      <td>-1.480163</td>\n",
       "      <td>-1.474954</td>\n",
       "      <td>1.068871</td>\n",
       "      <td>1.683115</td>\n",
       "      <td>1.113054</td>\n",
       "      <td>1.659388</td>\n",
       "      <td>1.611424</td>\n",
       "      <td>...</td>\n",
       "      <td>0.034501</td>\n",
       "      <td>0.034501</td>\n",
       "      <td>0.034501</td>\n",
       "      <td>0.034512</td>\n",
       "      <td>0.034501</td>\n",
       "      <td>-1.063931</td>\n",
       "      <td>-1.063931</td>\n",
       "      <td>-1.063931</td>\n",
       "      <td>-1.063931</td>\n",
       "      <td>-1.063931</td>\n",
       "    </tr>\n",
       "    <tr>\n",
       "      <th>293</th>\n",
       "      <td>-1.136222</td>\n",
       "      <td>-1.190423</td>\n",
       "      <td>-1.154388</td>\n",
       "      <td>-1.112306</td>\n",
       "      <td>-1.109646</td>\n",
       "      <td>-0.310334</td>\n",
       "      <td>-0.436191</td>\n",
       "      <td>-0.349068</td>\n",
       "      <td>-0.261794</td>\n",
       "      <td>-0.252526</td>\n",
       "      <td>...</td>\n",
       "      <td>-0.817405</td>\n",
       "      <td>-0.817405</td>\n",
       "      <td>-0.817405</td>\n",
       "      <td>-0.817405</td>\n",
       "      <td>-0.817405</td>\n",
       "      <td>-0.069464</td>\n",
       "      <td>-0.069464</td>\n",
       "      <td>-0.069464</td>\n",
       "      <td>-0.069464</td>\n",
       "      <td>-0.069464</td>\n",
       "    </tr>\n",
       "    <tr>\n",
       "      <th>...</th>\n",
       "      <td>...</td>\n",
       "      <td>...</td>\n",
       "      <td>...</td>\n",
       "      <td>...</td>\n",
       "      <td>...</td>\n",
       "      <td>...</td>\n",
       "      <td>...</td>\n",
       "      <td>...</td>\n",
       "      <td>...</td>\n",
       "      <td>...</td>\n",
       "      <td>...</td>\n",
       "      <td>...</td>\n",
       "      <td>...</td>\n",
       "      <td>...</td>\n",
       "      <td>...</td>\n",
       "      <td>...</td>\n",
       "      <td>...</td>\n",
       "      <td>...</td>\n",
       "      <td>...</td>\n",
       "      <td>...</td>\n",
       "      <td>...</td>\n",
       "    </tr>\n",
       "    <tr>\n",
       "      <th>423</th>\n",
       "      <td>-1.477947</td>\n",
       "      <td>-1.453051</td>\n",
       "      <td>-1.508801</td>\n",
       "      <td>-1.488314</td>\n",
       "      <td>-1.481160</td>\n",
       "      <td>0.465800</td>\n",
       "      <td>0.701004</td>\n",
       "      <td>0.218046</td>\n",
       "      <td>0.364375</td>\n",
       "      <td>0.427587</td>\n",
       "      <td>...</td>\n",
       "      <td>0.174138</td>\n",
       "      <td>0.173871</td>\n",
       "      <td>0.173875</td>\n",
       "      <td>0.173875</td>\n",
       "      <td>0.173875</td>\n",
       "      <td>0.955921</td>\n",
       "      <td>0.955781</td>\n",
       "      <td>0.955784</td>\n",
       "      <td>0.955784</td>\n",
       "      <td>0.955785</td>\n",
       "    </tr>\n",
       "    <tr>\n",
       "      <th>817</th>\n",
       "      <td>0.464488</td>\n",
       "      <td>0.716773</td>\n",
       "      <td>1.510205</td>\n",
       "      <td>0.639803</td>\n",
       "      <td>-0.361373</td>\n",
       "      <td>-1.607260</td>\n",
       "      <td>-1.554517</td>\n",
       "      <td>-1.467627</td>\n",
       "      <td>-1.585685</td>\n",
       "      <td>-1.633285</td>\n",
       "      <td>...</td>\n",
       "      <td>-1.498069</td>\n",
       "      <td>-1.498071</td>\n",
       "      <td>-1.498069</td>\n",
       "      <td>-1.498224</td>\n",
       "      <td>-1.497983</td>\n",
       "      <td>-1.170144</td>\n",
       "      <td>-1.170141</td>\n",
       "      <td>-1.170137</td>\n",
       "      <td>-1.170139</td>\n",
       "      <td>-1.170090</td>\n",
       "    </tr>\n",
       "    <tr>\n",
       "      <th>5</th>\n",
       "      <td>-0.143668</td>\n",
       "      <td>0.110411</td>\n",
       "      <td>0.152601</td>\n",
       "      <td>0.104368</td>\n",
       "      <td>0.130686</td>\n",
       "      <td>-0.370565</td>\n",
       "      <td>-0.145733</td>\n",
       "      <td>-0.098496</td>\n",
       "      <td>-0.149603</td>\n",
       "      <td>-0.137051</td>\n",
       "      <td>...</td>\n",
       "      <td>-0.964967</td>\n",
       "      <td>-0.965103</td>\n",
       "      <td>-0.965080</td>\n",
       "      <td>-0.965119</td>\n",
       "      <td>-0.965037</td>\n",
       "      <td>1.597529</td>\n",
       "      <td>1.597324</td>\n",
       "      <td>1.597675</td>\n",
       "      <td>1.597570</td>\n",
       "      <td>1.597241</td>\n",
       "    </tr>\n",
       "    <tr>\n",
       "      <th>100</th>\n",
       "      <td>0.542921</td>\n",
       "      <td>1.556191</td>\n",
       "      <td>0.704782</td>\n",
       "      <td>1.036137</td>\n",
       "      <td>1.688253</td>\n",
       "      <td>-0.765856</td>\n",
       "      <td>-0.304267</td>\n",
       "      <td>-0.683180</td>\n",
       "      <td>-0.501537</td>\n",
       "      <td>-0.327227</td>\n",
       "      <td>...</td>\n",
       "      <td>-1.089163</td>\n",
       "      <td>-1.089300</td>\n",
       "      <td>-1.089009</td>\n",
       "      <td>-1.089043</td>\n",
       "      <td>-1.089009</td>\n",
       "      <td>-0.322290</td>\n",
       "      <td>-0.322184</td>\n",
       "      <td>-0.322327</td>\n",
       "      <td>-0.322341</td>\n",
       "      <td>-0.322325</td>\n",
       "    </tr>\n",
       "    <tr>\n",
       "      <th>582</th>\n",
       "      <td>-1.675284</td>\n",
       "      <td>-1.677754</td>\n",
       "      <td>-1.677806</td>\n",
       "      <td>-1.670375</td>\n",
       "      <td>-1.664696</td>\n",
       "      <td>1.051502</td>\n",
       "      <td>0.965661</td>\n",
       "      <td>0.710956</td>\n",
       "      <td>1.322175</td>\n",
       "      <td>1.475192</td>\n",
       "      <td>...</td>\n",
       "      <td>0.890089</td>\n",
       "      <td>0.890121</td>\n",
       "      <td>0.890136</td>\n",
       "      <td>0.890104</td>\n",
       "      <td>0.890127</td>\n",
       "      <td>1.360223</td>\n",
       "      <td>1.360269</td>\n",
       "      <td>1.360272</td>\n",
       "      <td>1.360268</td>\n",
       "      <td>1.360270</td>\n",
       "    </tr>\n",
       "  </tbody>\n",
       "</table>\n",
       "<p>759 rows × 55 columns</p>\n",
       "</div>"
      ],
      "text/plain": [
       "     dadi_N0_rep_0  dadi_N0_rep_1  dadi_N0_rep_2  dadi_N0_rep_3  \\\n",
       "104      -1.310492      -1.411640      -1.257724      -1.299196   \n",
       "54        1.726659       1.350676       1.483361       1.732051   \n",
       "605      -0.999232      -0.976083      -0.910815      -0.979719   \n",
       "988      -1.520894      -1.472766      -1.520794      -1.480163   \n",
       "293      -1.136222      -1.190423      -1.154388      -1.112306   \n",
       "..             ...            ...            ...            ...   \n",
       "423      -1.477947      -1.453051      -1.508801      -1.488314   \n",
       "817       0.464488       0.716773       1.510205       0.639803   \n",
       "5        -0.143668       0.110411       0.152601       0.104368   \n",
       "100       0.542921       1.556191       0.704782       1.036137   \n",
       "582      -1.675284      -1.677754      -1.677806      -1.670375   \n",
       "\n",
       "     dadi_N0_rep_4  dadi_N1_rep_0  dadi_N1_rep_1  dadi_N1_rep_2  \\\n",
       "104      -1.356575      -1.052140      -1.193878      -0.963868   \n",
       "54        1.148926      -0.652505      -0.773668      -0.776521   \n",
       "605      -0.948368      -0.272229      -0.232279      -0.088745   \n",
       "988      -1.474954       1.068871       1.683115       1.113054   \n",
       "293      -1.109646      -0.310334      -0.436191      -0.349068   \n",
       "..             ...            ...            ...            ...   \n",
       "423      -1.481160       0.465800       0.701004       0.218046   \n",
       "817      -0.361373      -1.607260      -1.554517      -1.467627   \n",
       "5         0.130686      -0.370565      -0.145733      -0.098496   \n",
       "100       1.688253      -0.765856      -0.304267      -0.683180   \n",
       "582      -1.664696       1.051502       0.965661       0.710956   \n",
       "\n",
       "     dadi_N1_rep_3  dadi_N1_rep_4  ...  moments_m_rep_0  moments_m_rep_1  \\\n",
       "104      -1.014901      -1.123687  ...        -1.209725        -1.209723   \n",
       "54       -0.705717      -0.818394  ...        -1.594828        -1.588505   \n",
       "605      -0.248258      -0.172245  ...        -0.802465        -0.802337   \n",
       "988       1.659388       1.611424  ...         0.034501         0.034501   \n",
       "293      -0.261794      -0.252526  ...        -0.817405        -0.817405   \n",
       "..             ...            ...  ...              ...              ...   \n",
       "423       0.364375       0.427587  ...         0.174138         0.173871   \n",
       "817      -1.585685      -1.633285  ...        -1.498069        -1.498071   \n",
       "5        -0.149603      -0.137051  ...        -0.964967        -0.965103   \n",
       "100      -0.501537      -0.327227  ...        -1.089163        -1.089300   \n",
       "582       1.322175       1.475192  ...         0.890089         0.890121   \n",
       "\n",
       "     moments_m_rep_2  moments_m_rep_3  moments_m_rep_4  moments_t_split_rep_0  \\\n",
       "104        -1.209723        -1.209718        -1.209725               0.536325   \n",
       "54         -1.614537        -1.619741        -1.704231              -1.670237   \n",
       "605        -0.802337        -0.802336        -0.802338              -0.651924   \n",
       "988         0.034501         0.034512         0.034501              -1.063931   \n",
       "293        -0.817405        -0.817405        -0.817405              -0.069464   \n",
       "..               ...              ...              ...                    ...   \n",
       "423         0.173875         0.173875         0.173875               0.955921   \n",
       "817        -1.498069        -1.498224        -1.497983              -1.170144   \n",
       "5          -0.965080        -0.965119        -0.965037               1.597529   \n",
       "100        -1.089009        -1.089043        -1.089009              -0.322290   \n",
       "582         0.890136         0.890104         0.890127               1.360223   \n",
       "\n",
       "     moments_t_split_rep_1  moments_t_split_rep_2  moments_t_split_rep_3  \\\n",
       "104               0.536328               0.536329               0.536340   \n",
       "54               -1.669607              -1.670642              -1.670610   \n",
       "605              -0.651889              -0.651889              -0.651887   \n",
       "988              -1.063931              -1.063931              -1.063931   \n",
       "293              -0.069464              -0.069464              -0.069464   \n",
       "..                     ...                    ...                    ...   \n",
       "423               0.955781               0.955784               0.955784   \n",
       "817              -1.170141              -1.170137              -1.170139   \n",
       "5                 1.597324               1.597675               1.597570   \n",
       "100              -0.322184              -0.322327              -0.322341   \n",
       "582               1.360269               1.360272               1.360268   \n",
       "\n",
       "     moments_t_split_rep_4  \n",
       "104               0.536325  \n",
       "54               -1.671290  \n",
       "605              -0.651889  \n",
       "988              -1.063931  \n",
       "293              -0.069464  \n",
       "..                     ...  \n",
       "423               0.955785  \n",
       "817              -1.170090  \n",
       "5                 1.597241  \n",
       "100              -0.322325  \n",
       "582               1.360270  \n",
       "\n",
       "[759 rows x 55 columns]"
      ]
     },
     "execution_count": 4,
     "metadata": {},
     "output_type": "execute_result"
    }
   ],
   "source": [
    "train_features"
   ]
  },
  {
   "cell_type": "code",
   "execution_count": null,
   "id": "23ce50b0",
   "metadata": {},
   "outputs": [],
   "source": []
  }
 ],
 "metadata": {
  "kernelspec": {
   "display_name": "snakemake-env",
   "language": "python",
   "name": "python3"
  },
  "language_info": {
   "codemirror_mode": {
    "name": "ipython",
    "version": 3
   },
   "file_extension": ".py",
   "mimetype": "text/x-python",
   "name": "python",
   "nbconvert_exporter": "python",
   "pygments_lexer": "ipython3",
   "version": "3.12.5"
  }
 },
 "nbformat": 4,
 "nbformat_minor": 5
}
